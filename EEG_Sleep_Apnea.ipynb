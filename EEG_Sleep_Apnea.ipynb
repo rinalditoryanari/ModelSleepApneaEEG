{
  "cells": [
    {
      "cell_type": "markdown",
      "metadata": {
        "id": "view-in-github",
        "colab_type": "text"
      },
      "source": [
        "<a href=\"https://colab.research.google.com/github/rinalditoryanari/ModelSleepApneaEEG/blob/full-original/EEG_Sleep_Apnea.ipynb\" target=\"_parent\"><img src=\"https://colab.research.google.com/assets/colab-badge.svg\" alt=\"Open In Colab\"/></a>"
      ]
    },
    {
      "cell_type": "markdown",
      "metadata": {
        "id": "8xI1-xASI74K"
      },
      "source": [
        "##Library"
      ]
    },
    {
      "cell_type": "code",
      "execution_count": null,
      "metadata": {
        "id": "Si1_tBs7I5lD"
      },
      "outputs": [],
      "source": [
        "from google.colab import drive\n",
        "import tensorflow as tf\n",
        "import os\n",
        "import numpy as np\n",
        "import random\n",
        "from tensorflow.keras.preprocessing.sequence import pad_sequences"
      ]
    },
    {
      "cell_type": "code",
      "source": [
        "print(tf. __version__) "
      ],
      "metadata": {
        "colab": {
          "base_uri": "https://localhost:8080/"
        },
        "id": "a1s-odKDOhlP",
        "outputId": "b1fe7d36-b485-4ea4-f576-20a1196f209e"
      },
      "execution_count": null,
      "outputs": [
        {
          "output_type": "stream",
          "name": "stdout",
          "text": [
            "2.12.0\n"
          ]
        }
      ]
    },
    {
      "cell_type": "code",
      "execution_count": null,
      "metadata": {
        "colab": {
          "base_uri": "https://localhost:8080/"
        },
        "id": "i6QW4P3lAqqR",
        "outputId": "91bc0b8d-d8a4-4027-d51b-374107572261"
      },
      "outputs": [
        {
          "output_type": "stream",
          "name": "stdout",
          "text": [
            "Mounted at /content/drive\n"
          ]
        }
      ],
      "source": [
        "drive.mount('/content/drive')"
      ]
    },
    {
      "cell_type": "markdown",
      "metadata": {
        "id": "mDueJYWj1vFH"
      },
      "source": [
        "###EDF REader\n"
      ]
    },
    {
      "cell_type": "code",
      "execution_count": null,
      "metadata": {
        "colab": {
          "base_uri": "https://localhost:8080/"
        },
        "id": "CB2Etsft0dLV",
        "outputId": "0f2a7abc-2d94-43ce-c6d3-89ac214e59bc"
      },
      "outputs": [
        {
          "name": "stdout",
          "output_type": "stream",
          "text": [
            "Looking in indexes: https://pypi.org/simple, https://us-python.pkg.dev/colab-wheels/public/simple/\n",
            "Collecting pyedflib\n",
            "  Downloading pyEDFlib-0.1.30-cp39-cp39-manylinux_2_17_x86_64.manylinux2014_x86_64.whl (2.4 MB)\n",
            "\u001b[2K     \u001b[90m━━━━━━━━━━━━━━━━━━━━━━━━━━━━━━━━━━━━━━━━\u001b[0m \u001b[32m2.4/2.4 MB\u001b[0m \u001b[31m25.2 MB/s\u001b[0m eta \u001b[36m0:00:00\u001b[0m\n",
            "\u001b[?25hRequirement already satisfied: numpy>=1.9.1 in /usr/local/lib/python3.9/dist-packages (from pyedflib) (1.22.4)\n",
            "Installing collected packages: pyedflib\n",
            "Successfully installed pyedflib-0.1.30\n"
          ]
        }
      ],
      "source": [
        "!pip install pyedflib"
      ]
    },
    {
      "cell_type": "code",
      "execution_count": null,
      "metadata": {
        "id": "ZP-Puc-R1quB"
      },
      "outputs": [],
      "source": [
        "import pyedflib"
      ]
    },
    {
      "cell_type": "markdown",
      "metadata": {
        "id": "la716LOVEYz1"
      },
      "source": [
        "# TRY 1\n",
        "Jadi ini tuh rencananya, data txt itu bakal dipecah 1 row di txt untuk 1 file text\n",
        "Udah termasuk ngapus header nya"
      ]
    },
    {
      "cell_type": "markdown",
      "metadata": {
        "id": "ENzoQsZXJRqq"
      },
      "source": [
        "## Directory Drive"
      ]
    },
    {
      "cell_type": "markdown",
      "metadata": {
        "id": "Io1opl5osgkv"
      },
      "source": [
        "### Multiple Files txt"
      ]
    },
    {
      "cell_type": "code",
      "execution_count": null,
      "metadata": {
        "id": "9-LMyOftIDp7"
      },
      "outputs": [],
      "source": [
        "## dataset 61 sleep edf\n",
        "vector_dir = \"/content/drive/MyDrive/dataset/eeg/61-sleep-edf/Vector/\""
      ]
    },
    {
      "cell_type": "code",
      "execution_count": null,
      "metadata": {
        "id": "lx4D_L742X8y"
      },
      "outputs": [],
      "source": [
        "## dataset physonet\n",
        "vector_dir = \"\""
      ]
    },
    {
      "cell_type": "code",
      "execution_count": null,
      "metadata": {
        "colab": {
          "base_uri": "https://localhost:8080/"
        },
        "id": "wFD0J_mYJpNp",
        "outputId": "e5857e29-28aa-480a-fb57-16d30f0a1b8d"
      },
      "outputs": [
        {
          "name": "stdout",
          "output_type": "stream",
          "text": [
            "['/content/drive/MyDrive/dataset/eeg/61-sleep-edf/Vector/Vector_7132.txt', '/content/drive/MyDrive/dataset/eeg/61-sleep-edf/Vector/Vector_7141.txt', '/content/drive/MyDrive/dataset/eeg/61-sleep-edf/Vector/Vector_7071.txt', '/content/drive/MyDrive/dataset/eeg/61-sleep-edf/Vector/Vector_7092.txt', '/content/drive/MyDrive/dataset/eeg/61-sleep-edf/Vector/Vector_7201.txt', '/content/drive/MyDrive/dataset/eeg/61-sleep-edf/Vector/Vector_7151.txt']\n",
            "files :  6\n"
          ]
        }
      ],
      "source": [
        "## Ambil list directory di vector\n",
        "eeg_vec_dir = tf.io.gfile.glob(str(vector_dir) +'*.txt')\n",
        "print(eeg_vec_dir)\n",
        "eeg_vec_dir = tf.random.shuffle(eeg_vec_dir)\n",
        "print(\"files : \", len(eeg_vec_dir))"
      ]
    },
    {
      "cell_type": "markdown",
      "metadata": {
        "id": "VkEnP4vFske2"
      },
      "source": [
        "### Single File"
      ]
    },
    {
      "cell_type": "code",
      "execution_count": null,
      "metadata": {
        "id": "lTl8W_0PsnQY"
      },
      "outputs": [],
      "source": [
        "vector_dir = \"/content/drive/MyDrive/dataset/eeg/61-sleep-edf/Vector/Vector_7071.txt\""
      ]
    },
    {
      "cell_type": "code",
      "execution_count": null,
      "metadata": {
        "colab": {
          "base_uri": "https://localhost:8080/"
        },
        "id": "UK-UAQ3wuQtZ",
        "outputId": "15602925-f13d-440d-bed2-15d51ee2c75b"
      },
      "outputs": [
        {
          "name": "stdout",
          "output_type": "stream",
          "text": [
            "['/content/drive/MyDrive/dataset/eeg/61-sleep-edf/Vector/Vector_7071.txt']\n",
            "files :  1\n"
          ]
        }
      ],
      "source": [
        "## Ambil list directory di vector\n",
        "eeg_vec_dir = [vector_dir]\n",
        "print(eeg_vec_dir)\n",
        "eeg_vec_dir = tf.random.shuffle(eeg_vec_dir)\n",
        "print(\"files : \", len(eeg_vec_dir))"
      ]
    },
    {
      "cell_type": "markdown",
      "metadata": {
        "id": "IUeL8a-O0k9X"
      },
      "source": [
        "### eeg cap File"
      ]
    },
    {
      "cell_type": "code",
      "execution_count": null,
      "metadata": {
        "id": "khCeOeh00pde"
      },
      "outputs": [],
      "source": [
        "sample_dir = \"/content/drive/MyDrive/dataset/eegcap\"\n",
        "labels = [\"normal\", \"sdb\"]"
      ]
    },
    {
      "cell_type": "markdown",
      "metadata": {
        "id": "072sEBXwgK1M"
      },
      "source": [
        "## Bikin Directory Sample"
      ]
    },
    {
      "cell_type": "code",
      "execution_count": null,
      "metadata": {
        "id": "JT55N3xMzuzM"
      },
      "outputs": [],
      "source": [
        "# Define a function to create the directories for each label\n",
        "def makeDirectory(labels, sample_dir):\n",
        "  for label in labels:\n",
        "    os.makedirs(sample_dir+'/'+label, exist_ok=True)\n",
        "    print(\"Created directory for\", label)"
      ]
    },
    {
      "cell_type": "markdown",
      "metadata": {
        "id": "hqR48eN_O1Gn"
      },
      "source": [
        "##Extract EEG into individual file"
      ]
    },
    {
      "cell_type": "code",
      "execution_count": null,
      "metadata": {
        "id": "z_a_4McfCVh9"
      },
      "outputs": [],
      "source": [
        "# Define a function to split each EEG file into individual recordings\n",
        "def pecahSatu(filepath, labels, sample_dir):\n",
        "  with open(filepath, 'r') as file:\n",
        "    rows = file.readlines()\n",
        "\n",
        "  num_rows_per_recording = 1\n",
        "  num_recordings = len(rows) // num_rows_per_recording\n",
        "\n",
        "  # Save each recording to a separate file\n",
        "  for i in range(num_recordings):\n",
        "      start_index = i * num_rows_per_recording\n",
        "      end_index = start_index + num_rows_per_recording\n",
        "      recording = rows[start_index:end_index]\n",
        "\n",
        "      text = recording[0].split('\\t')\n",
        "      title = text[0]\n",
        "      recording = text[6:6006]\n",
        "      \n",
        "      delimiter = ' '\n",
        "      recording_str = delimiter.join(recording)\n",
        "\n",
        "      # Choose a random label\n",
        "      label = random.choice(labels)\n",
        "\n",
        "      # Save the recording to a file\n",
        "      filename = f'{label}_{title}.txt'\n",
        "      filepath = os.path.join(sample_dir, label, filename)\n",
        "      with open(filepath, 'w') as file:\n",
        "          file.writelines(recording_str)\n",
        "\n",
        "      print(\"Saved recording to\", filepath)"
      ]
    },
    {
      "cell_type": "markdown",
      "metadata": {
        "id": "2bkF-CKhsrRX"
      },
      "source": [
        "## Eksekusi Extract"
      ]
    },
    {
      "cell_type": "markdown",
      "metadata": {
        "id": "AJ-o7Io9sveP"
      },
      "source": [
        "### Multiple Files"
      ]
    },
    {
      "cell_type": "code",
      "execution_count": null,
      "metadata": {
        "colab": {
          "base_uri": "https://localhost:8080/",
          "height": 1000
        },
        "id": "TwLP3kKwPm9n",
        "outputId": "63ade187-1a8e-4e9d-c681-08e12b02cd49"
      },
      "outputs": [
        {
          "name": "stdout",
          "output_type": "stream",
          "text": [
            "sa\n",
            "normal\n",
            "normal\tsa\n",
            "<_io.TextIOWrapper name='drive/MyDrive/sample/normal/7132_30.txt' mode='w' encoding='UTF-8'>\n",
            "<_io.TextIOWrapper name='drive/MyDrive/sample/normal/7132_60.txt' mode='w' encoding='UTF-8'>\n",
            "<_io.TextIOWrapper name='drive/MyDrive/sample/sa/7132_90.txt' mode='w' encoding='UTF-8'>\n",
            "<_io.TextIOWrapper name='drive/MyDrive/sample/sa/7132_120.txt' mode='w' encoding='UTF-8'>\n",
            "<_io.TextIOWrapper name='drive/MyDrive/sample/normal/7132_150.txt' mode='w' encoding='UTF-8'>\n",
            "<_io.TextIOWrapper name='drive/MyDrive/sample/sa/7132_180.txt' mode='w' encoding='UTF-8'>\n",
            "<_io.TextIOWrapper name='drive/MyDrive/sample/normal/7132_210.txt' mode='w' encoding='UTF-8'>\n",
            "<_io.TextIOWrapper name='drive/MyDrive/sample/normal/7132_240.txt' mode='w' encoding='UTF-8'>\n",
            "<_io.TextIOWrapper name='drive/MyDrive/sample/normal/7132_270.txt' mode='w' encoding='UTF-8'>\n",
            "<_io.TextIOWrapper name='drive/MyDrive/sample/sa/7132_300.txt' mode='w' encoding='UTF-8'>\n",
            "<_io.TextIOWrapper name='drive/MyDrive/sample/normal/7132_330.txt' mode='w' encoding='UTF-8'>\n",
            "<_io.TextIOWrapper name='drive/MyDrive/sample/normal/7132_360.txt' mode='w' encoding='UTF-8'>\n",
            "<_io.TextIOWrapper name='drive/MyDrive/sample/sa/7132_390.txt' mode='w' encoding='UTF-8'>\n",
            "<_io.TextIOWrapper name='drive/MyDrive/sample/sa/7132_420.txt' mode='w' encoding='UTF-8'>\n",
            "<_io.TextIOWrapper name='drive/MyDrive/sample/normal/7132_450.txt' mode='w' encoding='UTF-8'>\n",
            "<_io.TextIOWrapper name='drive/MyDrive/sample/normal/7132_480.txt' mode='w' encoding='UTF-8'>\n",
            "<_io.TextIOWrapper name='drive/MyDrive/sample/sa/7132_510.txt' mode='w' encoding='UTF-8'>\n",
            "<_io.TextIOWrapper name='drive/MyDrive/sample/normal/7132_540.txt' mode='w' encoding='UTF-8'>\n",
            "<_io.TextIOWrapper name='drive/MyDrive/sample/sa/7132_570.txt' mode='w' encoding='UTF-8'>\n",
            "<_io.TextIOWrapper name='drive/MyDrive/sample/sa/7132_600.txt' mode='w' encoding='UTF-8'>\n",
            "<_io.TextIOWrapper name='drive/MyDrive/sample/sa/7132_630.txt' mode='w' encoding='UTF-8'>\n",
            "<_io.TextIOWrapper name='drive/MyDrive/sample/sa/7132_660.txt' mode='w' encoding='UTF-8'>\n",
            "<_io.TextIOWrapper name='drive/MyDrive/sample/normal/7132_690.txt' mode='w' encoding='UTF-8'>\n",
            "<_io.TextIOWrapper name='drive/MyDrive/sample/normal/7132_720.txt' mode='w' encoding='UTF-8'>\n",
            "<_io.TextIOWrapper name='drive/MyDrive/sample/sa/7132_750.txt' mode='w' encoding='UTF-8'>\n",
            "<_io.TextIOWrapper name='drive/MyDrive/sample/sa/7132_780.txt' mode='w' encoding='UTF-8'>\n",
            "<_io.TextIOWrapper name='drive/MyDrive/sample/normal/7132_810.txt' mode='w' encoding='UTF-8'>\n",
            "<_io.TextIOWrapper name='drive/MyDrive/sample/normal/7132_840.txt' mode='w' encoding='UTF-8'>\n",
            "<_io.TextIOWrapper name='drive/MyDrive/sample/sa/7132_870.txt' mode='w' encoding='UTF-8'>\n",
            "<_io.TextIOWrapper name='drive/MyDrive/sample/normal/7132_900.txt' mode='w' encoding='UTF-8'>\n",
            "<_io.TextIOWrapper name='drive/MyDrive/sample/normal/7132_930.txt' mode='w' encoding='UTF-8'>\n",
            "<_io.TextIOWrapper name='drive/MyDrive/sample/sa/7132_960.txt' mode='w' encoding='UTF-8'>\n",
            "<_io.TextIOWrapper name='drive/MyDrive/sample/sa/7132_990.txt' mode='w' encoding='UTF-8'>\n",
            "<_io.TextIOWrapper name='drive/MyDrive/sample/sa/7132_1020.txt' mode='w' encoding='UTF-8'>\n",
            "<_io.TextIOWrapper name='drive/MyDrive/sample/normal/7132_1050.txt' mode='w' encoding='UTF-8'>\n",
            "<_io.TextIOWrapper name='drive/MyDrive/sample/normal/7132_1080.txt' mode='w' encoding='UTF-8'>\n",
            "<_io.TextIOWrapper name='drive/MyDrive/sample/sa/7132_1110.txt' mode='w' encoding='UTF-8'>\n",
            "<_io.TextIOWrapper name='drive/MyDrive/sample/normal/7132_1140.txt' mode='w' encoding='UTF-8'>\n",
            "<_io.TextIOWrapper name='drive/MyDrive/sample/sa/7132_1170.txt' mode='w' encoding='UTF-8'>\n",
            "<_io.TextIOWrapper name='drive/MyDrive/sample/normal/7132_1200.txt' mode='w' encoding='UTF-8'>\n",
            "<_io.TextIOWrapper name='drive/MyDrive/sample/normal/7132_1230.txt' mode='w' encoding='UTF-8'>\n",
            "<_io.TextIOWrapper name='drive/MyDrive/sample/normal/7132_1260.txt' mode='w' encoding='UTF-8'>\n",
            "<_io.TextIOWrapper name='drive/MyDrive/sample/normal/7132_1290.txt' mode='w' encoding='UTF-8'>\n",
            "<_io.TextIOWrapper name='drive/MyDrive/sample/sa/7132_1320.txt' mode='w' encoding='UTF-8'>\n",
            "<_io.TextIOWrapper name='drive/MyDrive/sample/sa/7132_1350.txt' mode='w' encoding='UTF-8'>\n",
            "<_io.TextIOWrapper name='drive/MyDrive/sample/sa/7132_1380.txt' mode='w' encoding='UTF-8'>\n",
            "<_io.TextIOWrapper name='drive/MyDrive/sample/normal/7132_1410.txt' mode='w' encoding='UTF-8'>\n",
            "<_io.TextIOWrapper name='drive/MyDrive/sample/sa/7132_1440.txt' mode='w' encoding='UTF-8'>\n",
            "<_io.TextIOWrapper name='drive/MyDrive/sample/sa/7132_1470.txt' mode='w' encoding='UTF-8'>\n",
            "<_io.TextIOWrapper name='drive/MyDrive/sample/sa/7132_1500.txt' mode='w' encoding='UTF-8'>\n",
            "<_io.TextIOWrapper name='drive/MyDrive/sample/sa/7132_1530.txt' mode='w' encoding='UTF-8'>\n",
            "<_io.TextIOWrapper name='drive/MyDrive/sample/sa/7132_1560.txt' mode='w' encoding='UTF-8'>\n",
            "<_io.TextIOWrapper name='drive/MyDrive/sample/sa/7132_1590.txt' mode='w' encoding='UTF-8'>\n",
            "<_io.TextIOWrapper name='drive/MyDrive/sample/sa/7132_1620.txt' mode='w' encoding='UTF-8'>\n",
            "<_io.TextIOWrapper name='drive/MyDrive/sample/sa/7132_1650.txt' mode='w' encoding='UTF-8'>\n",
            "<_io.TextIOWrapper name='drive/MyDrive/sample/normal/7132_1680.txt' mode='w' encoding='UTF-8'>\n",
            "<_io.TextIOWrapper name='drive/MyDrive/sample/normal/7132_1710.txt' mode='w' encoding='UTF-8'>\n",
            "<_io.TextIOWrapper name='drive/MyDrive/sample/sa/7132_1740.txt' mode='w' encoding='UTF-8'>\n",
            "<_io.TextIOWrapper name='drive/MyDrive/sample/normal/7132_1770.txt' mode='w' encoding='UTF-8'>\n",
            "<_io.TextIOWrapper name='drive/MyDrive/sample/normal/7132_1800.txt' mode='w' encoding='UTF-8'>\n",
            "<_io.TextIOWrapper name='drive/MyDrive/sample/sa/7132_1830.txt' mode='w' encoding='UTF-8'>\n",
            "<_io.TextIOWrapper name='drive/MyDrive/sample/sa/7132_1860.txt' mode='w' encoding='UTF-8'>\n",
            "<_io.TextIOWrapper name='drive/MyDrive/sample/normal/7132_1890.txt' mode='w' encoding='UTF-8'>\n",
            "<_io.TextIOWrapper name='drive/MyDrive/sample/normal/7132_1920.txt' mode='w' encoding='UTF-8'>\n",
            "<_io.TextIOWrapper name='drive/MyDrive/sample/normal/7132_1950.txt' mode='w' encoding='UTF-8'>\n",
            "<_io.TextIOWrapper name='drive/MyDrive/sample/normal/7132_1980.txt' mode='w' encoding='UTF-8'>\n",
            "<_io.TextIOWrapper name='drive/MyDrive/sample/normal/7132_2010.txt' mode='w' encoding='UTF-8'>\n",
            "<_io.TextIOWrapper name='drive/MyDrive/sample/normal/7132_2040.txt' mode='w' encoding='UTF-8'>\n",
            "<_io.TextIOWrapper name='drive/MyDrive/sample/sa/7132_2070.txt' mode='w' encoding='UTF-8'>\n",
            "<_io.TextIOWrapper name='drive/MyDrive/sample/sa/7132_2100.txt' mode='w' encoding='UTF-8'>\n",
            "<_io.TextIOWrapper name='drive/MyDrive/sample/sa/7132_2130.txt' mode='w' encoding='UTF-8'>\n",
            "<_io.TextIOWrapper name='drive/MyDrive/sample/normal/7132_2160.txt' mode='w' encoding='UTF-8'>\n",
            "<_io.TextIOWrapper name='drive/MyDrive/sample/normal/7132_2190.txt' mode='w' encoding='UTF-8'>\n",
            "<_io.TextIOWrapper name='drive/MyDrive/sample/sa/7132_2220.txt' mode='w' encoding='UTF-8'>\n",
            "<_io.TextIOWrapper name='drive/MyDrive/sample/normal/7132_2250.txt' mode='w' encoding='UTF-8'>\n",
            "<_io.TextIOWrapper name='drive/MyDrive/sample/sa/7132_2280.txt' mode='w' encoding='UTF-8'>\n",
            "<_io.TextIOWrapper name='drive/MyDrive/sample/normal/7132_2310.txt' mode='w' encoding='UTF-8'>\n",
            "<_io.TextIOWrapper name='drive/MyDrive/sample/normal/7132_2340.txt' mode='w' encoding='UTF-8'>\n",
            "<_io.TextIOWrapper name='drive/MyDrive/sample/normal/7132_2370.txt' mode='w' encoding='UTF-8'>\n",
            "<_io.TextIOWrapper name='drive/MyDrive/sample/normal/7132_2400.txt' mode='w' encoding='UTF-8'>\n",
            "<_io.TextIOWrapper name='drive/MyDrive/sample/sa/7132_2430.txt' mode='w' encoding='UTF-8'>\n",
            "<_io.TextIOWrapper name='drive/MyDrive/sample/sa/7132_2460.txt' mode='w' encoding='UTF-8'>\n",
            "<_io.TextIOWrapper name='drive/MyDrive/sample/normal/7132_2490.txt' mode='w' encoding='UTF-8'>\n",
            "<_io.TextIOWrapper name='drive/MyDrive/sample/normal/7132_2520.txt' mode='w' encoding='UTF-8'>\n",
            "<_io.TextIOWrapper name='drive/MyDrive/sample/sa/7132_2550.txt' mode='w' encoding='UTF-8'>\n",
            "<_io.TextIOWrapper name='drive/MyDrive/sample/sa/7132_2580.txt' mode='w' encoding='UTF-8'>\n",
            "<_io.TextIOWrapper name='drive/MyDrive/sample/normal/7132_2610.txt' mode='w' encoding='UTF-8'>\n",
            "<_io.TextIOWrapper name='drive/MyDrive/sample/sa/7132_2640.txt' mode='w' encoding='UTF-8'>\n",
            "<_io.TextIOWrapper name='drive/MyDrive/sample/normal/7132_2670.txt' mode='w' encoding='UTF-8'>\n",
            "<_io.TextIOWrapper name='drive/MyDrive/sample/normal/7132_2700.txt' mode='w' encoding='UTF-8'>\n",
            "<_io.TextIOWrapper name='drive/MyDrive/sample/normal/7132_2730.txt' mode='w' encoding='UTF-8'>\n",
            "<_io.TextIOWrapper name='drive/MyDrive/sample/sa/7132_2760.txt' mode='w' encoding='UTF-8'>\n",
            "<_io.TextIOWrapper name='drive/MyDrive/sample/sa/7132_2790.txt' mode='w' encoding='UTF-8'>\n",
            "<_io.TextIOWrapper name='drive/MyDrive/sample/normal/7132_2820.txt' mode='w' encoding='UTF-8'>\n",
            "<_io.TextIOWrapper name='drive/MyDrive/sample/sa/7132_2850.txt' mode='w' encoding='UTF-8'>\n",
            "<_io.TextIOWrapper name='drive/MyDrive/sample/sa/7132_2880.txt' mode='w' encoding='UTF-8'>\n",
            "<_io.TextIOWrapper name='drive/MyDrive/sample/sa/7132_2910.txt' mode='w' encoding='UTF-8'>\n",
            "<_io.TextIOWrapper name='drive/MyDrive/sample/sa/7132_2940.txt' mode='w' encoding='UTF-8'>\n",
            "<_io.TextIOWrapper name='drive/MyDrive/sample/normal/7132_2970.txt' mode='w' encoding='UTF-8'>\n",
            "<_io.TextIOWrapper name='drive/MyDrive/sample/sa/7132_3000.txt' mode='w' encoding='UTF-8'>\n",
            "<_io.TextIOWrapper name='drive/MyDrive/sample/normal/7132_3030.txt' mode='w' encoding='UTF-8'>\n",
            "<_io.TextIOWrapper name='drive/MyDrive/sample/sa/7132_3060.txt' mode='w' encoding='UTF-8'>\n",
            "<_io.TextIOWrapper name='drive/MyDrive/sample/normal/7132_3090.txt' mode='w' encoding='UTF-8'>\n",
            "<_io.TextIOWrapper name='drive/MyDrive/sample/normal/7132_3120.txt' mode='w' encoding='UTF-8'>\n",
            "<_io.TextIOWrapper name='drive/MyDrive/sample/normal/7132_3150.txt' mode='w' encoding='UTF-8'>\n",
            "<_io.TextIOWrapper name='drive/MyDrive/sample/normal/7132_3180.txt' mode='w' encoding='UTF-8'>\n",
            "<_io.TextIOWrapper name='drive/MyDrive/sample/normal/7132_3210.txt' mode='w' encoding='UTF-8'>\n",
            "<_io.TextIOWrapper name='drive/MyDrive/sample/normal/7132_3240.txt' mode='w' encoding='UTF-8'>\n",
            "<_io.TextIOWrapper name='drive/MyDrive/sample/sa/7132_3270.txt' mode='w' encoding='UTF-8'>\n",
            "<_io.TextIOWrapper name='drive/MyDrive/sample/sa/7132_3300.txt' mode='w' encoding='UTF-8'>\n",
            "<_io.TextIOWrapper name='drive/MyDrive/sample/normal/7132_3330.txt' mode='w' encoding='UTF-8'>\n",
            "<_io.TextIOWrapper name='drive/MyDrive/sample/normal/7132_3360.txt' mode='w' encoding='UTF-8'>\n",
            "<_io.TextIOWrapper name='drive/MyDrive/sample/normal/7132_3390.txt' mode='w' encoding='UTF-8'>\n",
            "<_io.TextIOWrapper name='drive/MyDrive/sample/sa/7132_3420.txt' mode='w' encoding='UTF-8'>\n",
            "<_io.TextIOWrapper name='drive/MyDrive/sample/sa/7132_3450.txt' mode='w' encoding='UTF-8'>\n",
            "<_io.TextIOWrapper name='drive/MyDrive/sample/normal/7132_3480.txt' mode='w' encoding='UTF-8'>\n",
            "<_io.TextIOWrapper name='drive/MyDrive/sample/normal/7132_3510.txt' mode='w' encoding='UTF-8'>\n",
            "<_io.TextIOWrapper name='drive/MyDrive/sample/normal/7132_3540.txt' mode='w' encoding='UTF-8'>\n",
            "<_io.TextIOWrapper name='drive/MyDrive/sample/normal/7132_3570.txt' mode='w' encoding='UTF-8'>\n",
            "<_io.TextIOWrapper name='drive/MyDrive/sample/normal/7132_3600.txt' mode='w' encoding='UTF-8'>\n",
            "<_io.TextIOWrapper name='drive/MyDrive/sample/normal/7132_3630.txt' mode='w' encoding='UTF-8'>\n",
            "<_io.TextIOWrapper name='drive/MyDrive/sample/sa/7132_3660.txt' mode='w' encoding='UTF-8'>\n",
            "<_io.TextIOWrapper name='drive/MyDrive/sample/sa/7132_3690.txt' mode='w' encoding='UTF-8'>\n",
            "<_io.TextIOWrapper name='drive/MyDrive/sample/sa/7132_3720.txt' mode='w' encoding='UTF-8'>\n",
            "<_io.TextIOWrapper name='drive/MyDrive/sample/normal/7132_3750.txt' mode='w' encoding='UTF-8'>\n",
            "<_io.TextIOWrapper name='drive/MyDrive/sample/normal/7132_3780.txt' mode='w' encoding='UTF-8'>\n",
            "<_io.TextIOWrapper name='drive/MyDrive/sample/normal/7132_3810.txt' mode='w' encoding='UTF-8'>\n",
            "<_io.TextIOWrapper name='drive/MyDrive/sample/normal/7132_3840.txt' mode='w' encoding='UTF-8'>\n",
            "<_io.TextIOWrapper name='drive/MyDrive/sample/normal/7132_3870.txt' mode='w' encoding='UTF-8'>\n",
            "<_io.TextIOWrapper name='drive/MyDrive/sample/sa/7132_3900.txt' mode='w' encoding='UTF-8'>\n",
            "<_io.TextIOWrapper name='drive/MyDrive/sample/sa/7132_3930.txt' mode='w' encoding='UTF-8'>\n",
            "<_io.TextIOWrapper name='drive/MyDrive/sample/sa/7132_3960.txt' mode='w' encoding='UTF-8'>\n",
            "<_io.TextIOWrapper name='drive/MyDrive/sample/normal/7132_3990.txt' mode='w' encoding='UTF-8'>\n",
            "<_io.TextIOWrapper name='drive/MyDrive/sample/normal/7132_4020.txt' mode='w' encoding='UTF-8'>\n",
            "<_io.TextIOWrapper name='drive/MyDrive/sample/normal/7132_4050.txt' mode='w' encoding='UTF-8'>\n",
            "<_io.TextIOWrapper name='drive/MyDrive/sample/sa/7132_4080.txt' mode='w' encoding='UTF-8'>\n",
            "<_io.TextIOWrapper name='drive/MyDrive/sample/sa/7132_4110.txt' mode='w' encoding='UTF-8'>\n",
            "<_io.TextIOWrapper name='drive/MyDrive/sample/sa/7132_4140.txt' mode='w' encoding='UTF-8'>\n",
            "<_io.TextIOWrapper name='drive/MyDrive/sample/normal/7132_4170.txt' mode='w' encoding='UTF-8'>\n",
            "<_io.TextIOWrapper name='drive/MyDrive/sample/sa/7132_4200.txt' mode='w' encoding='UTF-8'>\n",
            "<_io.TextIOWrapper name='drive/MyDrive/sample/normal/7132_4230.txt' mode='w' encoding='UTF-8'>\n",
            "<_io.TextIOWrapper name='drive/MyDrive/sample/sa/7132_4260.txt' mode='w' encoding='UTF-8'>\n",
            "<_io.TextIOWrapper name='drive/MyDrive/sample/normal/7132_4290.txt' mode='w' encoding='UTF-8'>\n",
            "<_io.TextIOWrapper name='drive/MyDrive/sample/normal/7132_4320.txt' mode='w' encoding='UTF-8'>\n",
            "<_io.TextIOWrapper name='drive/MyDrive/sample/normal/7132_4350.txt' mode='w' encoding='UTF-8'>\n",
            "<_io.TextIOWrapper name='drive/MyDrive/sample/normal/7132_4380.txt' mode='w' encoding='UTF-8'>\n",
            "<_io.TextIOWrapper name='drive/MyDrive/sample/normal/7132_4410.txt' mode='w' encoding='UTF-8'>\n",
            "<_io.TextIOWrapper name='drive/MyDrive/sample/normal/7132_4440.txt' mode='w' encoding='UTF-8'>\n",
            "<_io.TextIOWrapper name='drive/MyDrive/sample/normal/7132_4470.txt' mode='w' encoding='UTF-8'>\n",
            "<_io.TextIOWrapper name='drive/MyDrive/sample/normal/7132_4500.txt' mode='w' encoding='UTF-8'>\n",
            "<_io.TextIOWrapper name='drive/MyDrive/sample/normal/7132_4530.txt' mode='w' encoding='UTF-8'>\n",
            "<_io.TextIOWrapper name='drive/MyDrive/sample/sa/7132_4560.txt' mode='w' encoding='UTF-8'>\n",
            "<_io.TextIOWrapper name='drive/MyDrive/sample/sa/7132_4590.txt' mode='w' encoding='UTF-8'>\n",
            "<_io.TextIOWrapper name='drive/MyDrive/sample/normal/7132_4620.txt' mode='w' encoding='UTF-8'>\n",
            "<_io.TextIOWrapper name='drive/MyDrive/sample/sa/7132_4650.txt' mode='w' encoding='UTF-8'>\n",
            "<_io.TextIOWrapper name='drive/MyDrive/sample/sa/7132_4680.txt' mode='w' encoding='UTF-8'>\n",
            "<_io.TextIOWrapper name='drive/MyDrive/sample/sa/7132_4710.txt' mode='w' encoding='UTF-8'>\n",
            "<_io.TextIOWrapper name='drive/MyDrive/sample/sa/7132_4740.txt' mode='w' encoding='UTF-8'>\n",
            "<_io.TextIOWrapper name='drive/MyDrive/sample/sa/7132_4770.txt' mode='w' encoding='UTF-8'>\n",
            "<_io.TextIOWrapper name='drive/MyDrive/sample/sa/7132_4800.txt' mode='w' encoding='UTF-8'>\n",
            "<_io.TextIOWrapper name='drive/MyDrive/sample/sa/7132_4830.txt' mode='w' encoding='UTF-8'>\n",
            "<_io.TextIOWrapper name='drive/MyDrive/sample/normal/7132_4860.txt' mode='w' encoding='UTF-8'>\n",
            "<_io.TextIOWrapper name='drive/MyDrive/sample/normal/7132_4890.txt' mode='w' encoding='UTF-8'>\n",
            "<_io.TextIOWrapper name='drive/MyDrive/sample/sa/7132_4920.txt' mode='w' encoding='UTF-8'>\n",
            "<_io.TextIOWrapper name='drive/MyDrive/sample/sa/7132_4950.txt' mode='w' encoding='UTF-8'>\n",
            "<_io.TextIOWrapper name='drive/MyDrive/sample/sa/7132_4980.txt' mode='w' encoding='UTF-8'>\n",
            "<_io.TextIOWrapper name='drive/MyDrive/sample/normal/7132_5010.txt' mode='w' encoding='UTF-8'>\n",
            "<_io.TextIOWrapper name='drive/MyDrive/sample/normal/7132_5040.txt' mode='w' encoding='UTF-8'>\n",
            "<_io.TextIOWrapper name='drive/MyDrive/sample/sa/7132_5070.txt' mode='w' encoding='UTF-8'>\n",
            "<_io.TextIOWrapper name='drive/MyDrive/sample/normal/7132_5100.txt' mode='w' encoding='UTF-8'>\n",
            "<_io.TextIOWrapper name='drive/MyDrive/sample/normal/7132_5130.txt' mode='w' encoding='UTF-8'>\n",
            "<_io.TextIOWrapper name='drive/MyDrive/sample/normal/7132_5160.txt' mode='w' encoding='UTF-8'>\n",
            "<_io.TextIOWrapper name='drive/MyDrive/sample/normal/7132_5190.txt' mode='w' encoding='UTF-8'>\n",
            "<_io.TextIOWrapper name='drive/MyDrive/sample/sa/7132_5220.txt' mode='w' encoding='UTF-8'>\n",
            "<_io.TextIOWrapper name='drive/MyDrive/sample/normal/7132_5250.txt' mode='w' encoding='UTF-8'>\n",
            "<_io.TextIOWrapper name='drive/MyDrive/sample/normal/7132_5280.txt' mode='w' encoding='UTF-8'>\n",
            "<_io.TextIOWrapper name='drive/MyDrive/sample/normal/7132_5310.txt' mode='w' encoding='UTF-8'>\n",
            "<_io.TextIOWrapper name='drive/MyDrive/sample/normal/7132_5340.txt' mode='w' encoding='UTF-8'>\n",
            "<_io.TextIOWrapper name='drive/MyDrive/sample/normal/7132_5370.txt' mode='w' encoding='UTF-8'>\n",
            "<_io.TextIOWrapper name='drive/MyDrive/sample/sa/7132_5400.txt' mode='w' encoding='UTF-8'>\n",
            "<_io.TextIOWrapper name='drive/MyDrive/sample/sa/7132_5430.txt' mode='w' encoding='UTF-8'>\n",
            "<_io.TextIOWrapper name='drive/MyDrive/sample/sa/7132_5460.txt' mode='w' encoding='UTF-8'>\n",
            "<_io.TextIOWrapper name='drive/MyDrive/sample/sa/7132_5490.txt' mode='w' encoding='UTF-8'>\n",
            "<_io.TextIOWrapper name='drive/MyDrive/sample/normal/7132_5520.txt' mode='w' encoding='UTF-8'>\n",
            "<_io.TextIOWrapper name='drive/MyDrive/sample/sa/7132_5550.txt' mode='w' encoding='UTF-8'>\n",
            "<_io.TextIOWrapper name='drive/MyDrive/sample/normal/7132_5580.txt' mode='w' encoding='UTF-8'>\n",
            "<_io.TextIOWrapper name='drive/MyDrive/sample/normal/7132_5610.txt' mode='w' encoding='UTF-8'>\n",
            "<_io.TextIOWrapper name='drive/MyDrive/sample/sa/7132_5640.txt' mode='w' encoding='UTF-8'>\n",
            "<_io.TextIOWrapper name='drive/MyDrive/sample/normal/7132_5670.txt' mode='w' encoding='UTF-8'>\n",
            "<_io.TextIOWrapper name='drive/MyDrive/sample/sa/7132_5700.txt' mode='w' encoding='UTF-8'>\n",
            "<_io.TextIOWrapper name='drive/MyDrive/sample/sa/7132_5730.txt' mode='w' encoding='UTF-8'>\n",
            "<_io.TextIOWrapper name='drive/MyDrive/sample/normal/7132_5760.txt' mode='w' encoding='UTF-8'>\n",
            "<_io.TextIOWrapper name='drive/MyDrive/sample/sa/7132_5790.txt' mode='w' encoding='UTF-8'>\n",
            "<_io.TextIOWrapper name='drive/MyDrive/sample/sa/7132_5820.txt' mode='w' encoding='UTF-8'>\n",
            "<_io.TextIOWrapper name='drive/MyDrive/sample/normal/7132_5850.txt' mode='w' encoding='UTF-8'>\n",
            "<_io.TextIOWrapper name='drive/MyDrive/sample/normal/7132_5880.txt' mode='w' encoding='UTF-8'>\n",
            "<_io.TextIOWrapper name='drive/MyDrive/sample/normal/7132_5910.txt' mode='w' encoding='UTF-8'>\n",
            "<_io.TextIOWrapper name='drive/MyDrive/sample/normal/7132_5940.txt' mode='w' encoding='UTF-8'>\n",
            "<_io.TextIOWrapper name='drive/MyDrive/sample/normal/7132_5970.txt' mode='w' encoding='UTF-8'>\n",
            "<_io.TextIOWrapper name='drive/MyDrive/sample/sa/7132_6000.txt' mode='w' encoding='UTF-8'>\n",
            "<_io.TextIOWrapper name='drive/MyDrive/sample/sa/7132_6030.txt' mode='w' encoding='UTF-8'>\n",
            "<_io.TextIOWrapper name='drive/MyDrive/sample/sa/7132_6060.txt' mode='w' encoding='UTF-8'>\n",
            "<_io.TextIOWrapper name='drive/MyDrive/sample/normal/7132_6090.txt' mode='w' encoding='UTF-8'>\n",
            "<_io.TextIOWrapper name='drive/MyDrive/sample/sa/7132_6120.txt' mode='w' encoding='UTF-8'>\n",
            "<_io.TextIOWrapper name='drive/MyDrive/sample/normal/7132_6150.txt' mode='w' encoding='UTF-8'>\n",
            "<_io.TextIOWrapper name='drive/MyDrive/sample/normal/7132_6180.txt' mode='w' encoding='UTF-8'>\n",
            "<_io.TextIOWrapper name='drive/MyDrive/sample/normal/7132_6210.txt' mode='w' encoding='UTF-8'>\n",
            "<_io.TextIOWrapper name='drive/MyDrive/sample/sa/7132_6240.txt' mode='w' encoding='UTF-8'>\n",
            "<_io.TextIOWrapper name='drive/MyDrive/sample/normal/7132_6270.txt' mode='w' encoding='UTF-8'>\n",
            "<_io.TextIOWrapper name='drive/MyDrive/sample/normal/7132_6300.txt' mode='w' encoding='UTF-8'>\n",
            "<_io.TextIOWrapper name='drive/MyDrive/sample/normal/7132_6330.txt' mode='w' encoding='UTF-8'>\n",
            "<_io.TextIOWrapper name='drive/MyDrive/sample/normal/7132_6360.txt' mode='w' encoding='UTF-8'>\n",
            "<_io.TextIOWrapper name='drive/MyDrive/sample/sa/7132_6390.txt' mode='w' encoding='UTF-8'>\n",
            "<_io.TextIOWrapper name='drive/MyDrive/sample/sa/7132_6420.txt' mode='w' encoding='UTF-8'>\n",
            "<_io.TextIOWrapper name='drive/MyDrive/sample/sa/7132_6450.txt' mode='w' encoding='UTF-8'>\n",
            "<_io.TextIOWrapper name='drive/MyDrive/sample/sa/7132_6480.txt' mode='w' encoding='UTF-8'>\n",
            "<_io.TextIOWrapper name='drive/MyDrive/sample/normal/7132_6510.txt' mode='w' encoding='UTF-8'>\n",
            "<_io.TextIOWrapper name='drive/MyDrive/sample/sa/7132_6540.txt' mode='w' encoding='UTF-8'>\n",
            "<_io.TextIOWrapper name='drive/MyDrive/sample/normal/7132_6570.txt' mode='w' encoding='UTF-8'>\n",
            "<_io.TextIOWrapper name='drive/MyDrive/sample/sa/7132_6600.txt' mode='w' encoding='UTF-8'>\n",
            "<_io.TextIOWrapper name='drive/MyDrive/sample/normal/7132_6630.txt' mode='w' encoding='UTF-8'>\n",
            "<_io.TextIOWrapper name='drive/MyDrive/sample/sa/7132_6660.txt' mode='w' encoding='UTF-8'>\n",
            "<_io.TextIOWrapper name='drive/MyDrive/sample/sa/7132_6690.txt' mode='w' encoding='UTF-8'>\n",
            "<_io.TextIOWrapper name='drive/MyDrive/sample/normal/7132_6720.txt' mode='w' encoding='UTF-8'>\n",
            "<_io.TextIOWrapper name='drive/MyDrive/sample/normal/7132_6750.txt' mode='w' encoding='UTF-8'>\n",
            "<_io.TextIOWrapper name='drive/MyDrive/sample/sa/7132_6780.txt' mode='w' encoding='UTF-8'>\n",
            "<_io.TextIOWrapper name='drive/MyDrive/sample/normal/7132_6810.txt' mode='w' encoding='UTF-8'>\n",
            "<_io.TextIOWrapper name='drive/MyDrive/sample/sa/7132_6840.txt' mode='w' encoding='UTF-8'>\n",
            "<_io.TextIOWrapper name='drive/MyDrive/sample/sa/7132_6870.txt' mode='w' encoding='UTF-8'>\n",
            "<_io.TextIOWrapper name='drive/MyDrive/sample/sa/7132_6900.txt' mode='w' encoding='UTF-8'>\n",
            "<_io.TextIOWrapper name='drive/MyDrive/sample/normal/7132_6930.txt' mode='w' encoding='UTF-8'>\n",
            "<_io.TextIOWrapper name='drive/MyDrive/sample/normal/7132_6960.txt' mode='w' encoding='UTF-8'>\n",
            "<_io.TextIOWrapper name='drive/MyDrive/sample/normal/7132_6990.txt' mode='w' encoding='UTF-8'>\n",
            "<_io.TextIOWrapper name='drive/MyDrive/sample/normal/7132_7020.txt' mode='w' encoding='UTF-8'>\n",
            "<_io.TextIOWrapper name='drive/MyDrive/sample/sa/7132_7050.txt' mode='w' encoding='UTF-8'>\n",
            "<_io.TextIOWrapper name='drive/MyDrive/sample/sa/7132_7080.txt' mode='w' encoding='UTF-8'>\n",
            "<_io.TextIOWrapper name='drive/MyDrive/sample/normal/7132_7110.txt' mode='w' encoding='UTF-8'>\n",
            "<_io.TextIOWrapper name='drive/MyDrive/sample/sa/7132_7140.txt' mode='w' encoding='UTF-8'>\n",
            "<_io.TextIOWrapper name='drive/MyDrive/sample/normal/7132_7170.txt' mode='w' encoding='UTF-8'>\n",
            "<_io.TextIOWrapper name='drive/MyDrive/sample/normal/7132_7200.txt' mode='w' encoding='UTF-8'>\n",
            "<_io.TextIOWrapper name='drive/MyDrive/sample/sa/7132_7230.txt' mode='w' encoding='UTF-8'>\n",
            "<_io.TextIOWrapper name='drive/MyDrive/sample/normal/7132_7260.txt' mode='w' encoding='UTF-8'>\n",
            "<_io.TextIOWrapper name='drive/MyDrive/sample/normal/7132_7290.txt' mode='w' encoding='UTF-8'>\n",
            "<_io.TextIOWrapper name='drive/MyDrive/sample/sa/7132_7320.txt' mode='w' encoding='UTF-8'>\n",
            "<_io.TextIOWrapper name='drive/MyDrive/sample/sa/7132_7350.txt' mode='w' encoding='UTF-8'>\n",
            "<_io.TextIOWrapper name='drive/MyDrive/sample/normal/7132_7380.txt' mode='w' encoding='UTF-8'>\n",
            "<_io.TextIOWrapper name='drive/MyDrive/sample/normal/7132_7410.txt' mode='w' encoding='UTF-8'>\n",
            "<_io.TextIOWrapper name='drive/MyDrive/sample/normal/7132_7440.txt' mode='w' encoding='UTF-8'>\n",
            "<_io.TextIOWrapper name='drive/MyDrive/sample/sa/7132_7470.txt' mode='w' encoding='UTF-8'>\n",
            "<_io.TextIOWrapper name='drive/MyDrive/sample/sa/7132_7500.txt' mode='w' encoding='UTF-8'>\n",
            "<_io.TextIOWrapper name='drive/MyDrive/sample/sa/7132_7530.txt' mode='w' encoding='UTF-8'>\n",
            "<_io.TextIOWrapper name='drive/MyDrive/sample/normal/7132_7560.txt' mode='w' encoding='UTF-8'>\n",
            "<_io.TextIOWrapper name='drive/MyDrive/sample/sa/7132_7590.txt' mode='w' encoding='UTF-8'>\n",
            "<_io.TextIOWrapper name='drive/MyDrive/sample/normal/7132_7620.txt' mode='w' encoding='UTF-8'>\n",
            "<_io.TextIOWrapper name='drive/MyDrive/sample/normal/7132_7650.txt' mode='w' encoding='UTF-8'>\n",
            "<_io.TextIOWrapper name='drive/MyDrive/sample/normal/7132_7680.txt' mode='w' encoding='UTF-8'>\n",
            "<_io.TextIOWrapper name='drive/MyDrive/sample/normal/7132_7710.txt' mode='w' encoding='UTF-8'>\n",
            "<_io.TextIOWrapper name='drive/MyDrive/sample/sa/7132_7740.txt' mode='w' encoding='UTF-8'>\n",
            "<_io.TextIOWrapper name='drive/MyDrive/sample/sa/7132_7770.txt' mode='w' encoding='UTF-8'>\n",
            "<_io.TextIOWrapper name='drive/MyDrive/sample/sa/7132_7800.txt' mode='w' encoding='UTF-8'>\n",
            "<_io.TextIOWrapper name='drive/MyDrive/sample/sa/7132_7830.txt' mode='w' encoding='UTF-8'>\n",
            "<_io.TextIOWrapper name='drive/MyDrive/sample/normal/7132_7860.txt' mode='w' encoding='UTF-8'>\n",
            "<_io.TextIOWrapper name='drive/MyDrive/sample/sa/7132_7890.txt' mode='w' encoding='UTF-8'>\n",
            "<_io.TextIOWrapper name='drive/MyDrive/sample/sa/7132_7920.txt' mode='w' encoding='UTF-8'>\n",
            "<_io.TextIOWrapper name='drive/MyDrive/sample/sa/7132_7950.txt' mode='w' encoding='UTF-8'>\n",
            "<_io.TextIOWrapper name='drive/MyDrive/sample/sa/7132_7980.txt' mode='w' encoding='UTF-8'>\n",
            "<_io.TextIOWrapper name='drive/MyDrive/sample/sa/7132_8010.txt' mode='w' encoding='UTF-8'>\n",
            "<_io.TextIOWrapper name='drive/MyDrive/sample/normal/7132_8040.txt' mode='w' encoding='UTF-8'>\n",
            "<_io.TextIOWrapper name='drive/MyDrive/sample/sa/7132_8070.txt' mode='w' encoding='UTF-8'>\n",
            "<_io.TextIOWrapper name='drive/MyDrive/sample/normal/7132_8100.txt' mode='w' encoding='UTF-8'>\n",
            "<_io.TextIOWrapper name='drive/MyDrive/sample/sa/7132_8130.txt' mode='w' encoding='UTF-8'>\n",
            "<_io.TextIOWrapper name='drive/MyDrive/sample/sa/7132_8160.txt' mode='w' encoding='UTF-8'>\n",
            "<_io.TextIOWrapper name='drive/MyDrive/sample/sa/7132_8190.txt' mode='w' encoding='UTF-8'>\n",
            "<_io.TextIOWrapper name='drive/MyDrive/sample/sa/7132_8220.txt' mode='w' encoding='UTF-8'>\n",
            "<_io.TextIOWrapper name='drive/MyDrive/sample/sa/7132_8250.txt' mode='w' encoding='UTF-8'>\n",
            "<_io.TextIOWrapper name='drive/MyDrive/sample/sa/7132_8280.txt' mode='w' encoding='UTF-8'>\n",
            "<_io.TextIOWrapper name='drive/MyDrive/sample/normal/7132_8310.txt' mode='w' encoding='UTF-8'>\n",
            "<_io.TextIOWrapper name='drive/MyDrive/sample/normal/7132_8340.txt' mode='w' encoding='UTF-8'>\n",
            "<_io.TextIOWrapper name='drive/MyDrive/sample/normal/7132_8370.txt' mode='w' encoding='UTF-8'>\n",
            "<_io.TextIOWrapper name='drive/MyDrive/sample/sa/7132_8400.txt' mode='w' encoding='UTF-8'>\n",
            "<_io.TextIOWrapper name='drive/MyDrive/sample/sa/7132_8430.txt' mode='w' encoding='UTF-8'>\n",
            "<_io.TextIOWrapper name='drive/MyDrive/sample/normal/7132_8460.txt' mode='w' encoding='UTF-8'>\n",
            "<_io.TextIOWrapper name='drive/MyDrive/sample/sa/7132_8490.txt' mode='w' encoding='UTF-8'>\n",
            "<_io.TextIOWrapper name='drive/MyDrive/sample/sa/7132_8520.txt' mode='w' encoding='UTF-8'>\n",
            "<_io.TextIOWrapper name='drive/MyDrive/sample/normal/7132_8550.txt' mode='w' encoding='UTF-8'>\n",
            "<_io.TextIOWrapper name='drive/MyDrive/sample/normal/7132_8580.txt' mode='w' encoding='UTF-8'>\n",
            "<_io.TextIOWrapper name='drive/MyDrive/sample/sa/7132_8610.txt' mode='w' encoding='UTF-8'>\n",
            "<_io.TextIOWrapper name='drive/MyDrive/sample/normal/7132_8640.txt' mode='w' encoding='UTF-8'>\n",
            "<_io.TextIOWrapper name='drive/MyDrive/sample/sa/7132_8670.txt' mode='w' encoding='UTF-8'>\n",
            "<_io.TextIOWrapper name='drive/MyDrive/sample/normal/7132_8700.txt' mode='w' encoding='UTF-8'>\n",
            "<_io.TextIOWrapper name='drive/MyDrive/sample/sa/7132_8730.txt' mode='w' encoding='UTF-8'>\n",
            "<_io.TextIOWrapper name='drive/MyDrive/sample/normal/7132_8760.txt' mode='w' encoding='UTF-8'>\n",
            "<_io.TextIOWrapper name='drive/MyDrive/sample/sa/7132_8790.txt' mode='w' encoding='UTF-8'>\n",
            "<_io.TextIOWrapper name='drive/MyDrive/sample/sa/7132_8820.txt' mode='w' encoding='UTF-8'>\n",
            "<_io.TextIOWrapper name='drive/MyDrive/sample/sa/7132_8850.txt' mode='w' encoding='UTF-8'>\n",
            "<_io.TextIOWrapper name='drive/MyDrive/sample/sa/7132_8880.txt' mode='w' encoding='UTF-8'>\n",
            "<_io.TextIOWrapper name='drive/MyDrive/sample/sa/7132_8910.txt' mode='w' encoding='UTF-8'>\n",
            "<_io.TextIOWrapper name='drive/MyDrive/sample/normal/7132_8940.txt' mode='w' encoding='UTF-8'>\n",
            "<_io.TextIOWrapper name='drive/MyDrive/sample/sa/7132_8970.txt' mode='w' encoding='UTF-8'>\n",
            "<_io.TextIOWrapper name='drive/MyDrive/sample/sa/7132_9000.txt' mode='w' encoding='UTF-8'>\n",
            "<_io.TextIOWrapper name='drive/MyDrive/sample/normal/7132_9030.txt' mode='w' encoding='UTF-8'>\n",
            "<_io.TextIOWrapper name='drive/MyDrive/sample/normal/7132_9060.txt' mode='w' encoding='UTF-8'>\n",
            "<_io.TextIOWrapper name='drive/MyDrive/sample/normal/7132_9090.txt' mode='w' encoding='UTF-8'>\n",
            "<_io.TextIOWrapper name='drive/MyDrive/sample/sa/7132_9120.txt' mode='w' encoding='UTF-8'>\n",
            "<_io.TextIOWrapper name='drive/MyDrive/sample/sa/7132_9150.txt' mode='w' encoding='UTF-8'>\n",
            "<_io.TextIOWrapper name='drive/MyDrive/sample/normal/7132_9180.txt' mode='w' encoding='UTF-8'>\n",
            "<_io.TextIOWrapper name='drive/MyDrive/sample/normal/7132_9210.txt' mode='w' encoding='UTF-8'>\n",
            "<_io.TextIOWrapper name='drive/MyDrive/sample/normal/7132_9240.txt' mode='w' encoding='UTF-8'>\n",
            "<_io.TextIOWrapper name='drive/MyDrive/sample/sa/7132_9270.txt' mode='w' encoding='UTF-8'>\n",
            "<_io.TextIOWrapper name='drive/MyDrive/sample/sa/7132_9300.txt' mode='w' encoding='UTF-8'>\n",
            "<_io.TextIOWrapper name='drive/MyDrive/sample/sa/7132_9330.txt' mode='w' encoding='UTF-8'>\n",
            "<_io.TextIOWrapper name='drive/MyDrive/sample/normal/7132_9360.txt' mode='w' encoding='UTF-8'>\n",
            "<_io.TextIOWrapper name='drive/MyDrive/sample/sa/7132_9390.txt' mode='w' encoding='UTF-8'>\n",
            "<_io.TextIOWrapper name='drive/MyDrive/sample/sa/7132_9420.txt' mode='w' encoding='UTF-8'>\n",
            "<_io.TextIOWrapper name='drive/MyDrive/sample/normal/7132_9450.txt' mode='w' encoding='UTF-8'>\n",
            "<_io.TextIOWrapper name='drive/MyDrive/sample/normal/7132_9480.txt' mode='w' encoding='UTF-8'>\n",
            "<_io.TextIOWrapper name='drive/MyDrive/sample/normal/7132_9510.txt' mode='w' encoding='UTF-8'>\n",
            "<_io.TextIOWrapper name='drive/MyDrive/sample/sa/7132_9540.txt' mode='w' encoding='UTF-8'>\n",
            "<_io.TextIOWrapper name='drive/MyDrive/sample/sa/7132_9570.txt' mode='w' encoding='UTF-8'>\n",
            "<_io.TextIOWrapper name='drive/MyDrive/sample/normal/7132_9600.txt' mode='w' encoding='UTF-8'>\n",
            "<_io.TextIOWrapper name='drive/MyDrive/sample/sa/7132_9630.txt' mode='w' encoding='UTF-8'>\n",
            "<_io.TextIOWrapper name='drive/MyDrive/sample/normal/7132_9660.txt' mode='w' encoding='UTF-8'>\n",
            "<_io.TextIOWrapper name='drive/MyDrive/sample/sa/7132_9690.txt' mode='w' encoding='UTF-8'>\n",
            "<_io.TextIOWrapper name='drive/MyDrive/sample/sa/7132_9720.txt' mode='w' encoding='UTF-8'>\n",
            "<_io.TextIOWrapper name='drive/MyDrive/sample/sa/7132_9750.txt' mode='w' encoding='UTF-8'>\n",
            "<_io.TextIOWrapper name='drive/MyDrive/sample/sa/7132_9780.txt' mode='w' encoding='UTF-8'>\n",
            "<_io.TextIOWrapper name='drive/MyDrive/sample/normal/7132_9810.txt' mode='w' encoding='UTF-8'>\n",
            "<_io.TextIOWrapper name='drive/MyDrive/sample/normal/7132_9840.txt' mode='w' encoding='UTF-8'>\n",
            "<_io.TextIOWrapper name='drive/MyDrive/sample/sa/7132_9870.txt' mode='w' encoding='UTF-8'>\n",
            "<_io.TextIOWrapper name='drive/MyDrive/sample/normal/7132_9900.txt' mode='w' encoding='UTF-8'>\n",
            "<_io.TextIOWrapper name='drive/MyDrive/sample/normal/7132_9930.txt' mode='w' encoding='UTF-8'>\n",
            "<_io.TextIOWrapper name='drive/MyDrive/sample/sa/7132_9960.txt' mode='w' encoding='UTF-8'>\n",
            "<_io.TextIOWrapper name='drive/MyDrive/sample/normal/7132_9990.txt' mode='w' encoding='UTF-8'>\n",
            "<_io.TextIOWrapper name='drive/MyDrive/sample/sa/7132_10020.txt' mode='w' encoding='UTF-8'>\n",
            "<_io.TextIOWrapper name='drive/MyDrive/sample/normal/7132_10050.txt' mode='w' encoding='UTF-8'>\n",
            "<_io.TextIOWrapper name='drive/MyDrive/sample/normal/7132_10080.txt' mode='w' encoding='UTF-8'>\n",
            "<_io.TextIOWrapper name='drive/MyDrive/sample/normal/7132_10110.txt' mode='w' encoding='UTF-8'>\n",
            "<_io.TextIOWrapper name='drive/MyDrive/sample/normal/7132_10140.txt' mode='w' encoding='UTF-8'>\n",
            "<_io.TextIOWrapper name='drive/MyDrive/sample/normal/7132_10170.txt' mode='w' encoding='UTF-8'>\n",
            "<_io.TextIOWrapper name='drive/MyDrive/sample/sa/7132_10200.txt' mode='w' encoding='UTF-8'>\n",
            "<_io.TextIOWrapper name='drive/MyDrive/sample/sa/7132_10230.txt' mode='w' encoding='UTF-8'>\n",
            "<_io.TextIOWrapper name='drive/MyDrive/sample/sa/7132_10260.txt' mode='w' encoding='UTF-8'>\n",
            "<_io.TextIOWrapper name='drive/MyDrive/sample/normal/7132_10290.txt' mode='w' encoding='UTF-8'>\n",
            "<_io.TextIOWrapper name='drive/MyDrive/sample/normal/7132_10320.txt' mode='w' encoding='UTF-8'>\n",
            "<_io.TextIOWrapper name='drive/MyDrive/sample/sa/7132_10350.txt' mode='w' encoding='UTF-8'>\n",
            "<_io.TextIOWrapper name='drive/MyDrive/sample/sa/7132_10380.txt' mode='w' encoding='UTF-8'>\n",
            "<_io.TextIOWrapper name='drive/MyDrive/sample/sa/7132_10410.txt' mode='w' encoding='UTF-8'>\n",
            "<_io.TextIOWrapper name='drive/MyDrive/sample/normal/7132_10440.txt' mode='w' encoding='UTF-8'>\n",
            "<_io.TextIOWrapper name='drive/MyDrive/sample/normal/7132_10470.txt' mode='w' encoding='UTF-8'>\n",
            "<_io.TextIOWrapper name='drive/MyDrive/sample/sa/7132_10500.txt' mode='w' encoding='UTF-8'>\n",
            "<_io.TextIOWrapper name='drive/MyDrive/sample/normal/7132_10530.txt' mode='w' encoding='UTF-8'>\n",
            "<_io.TextIOWrapper name='drive/MyDrive/sample/sa/7132_10560.txt' mode='w' encoding='UTF-8'>\n",
            "<_io.TextIOWrapper name='drive/MyDrive/sample/normal/7132_10590.txt' mode='w' encoding='UTF-8'>\n",
            "<_io.TextIOWrapper name='drive/MyDrive/sample/sa/7132_10620.txt' mode='w' encoding='UTF-8'>\n",
            "<_io.TextIOWrapper name='drive/MyDrive/sample/normal/7132_10650.txt' mode='w' encoding='UTF-8'>\n",
            "<_io.TextIOWrapper name='drive/MyDrive/sample/normal/7132_10680.txt' mode='w' encoding='UTF-8'>\n",
            "<_io.TextIOWrapper name='drive/MyDrive/sample/sa/7132_10710.txt' mode='w' encoding='UTF-8'>\n",
            "<_io.TextIOWrapper name='drive/MyDrive/sample/sa/7132_10740.txt' mode='w' encoding='UTF-8'>\n",
            "<_io.TextIOWrapper name='drive/MyDrive/sample/normal/7132_10770.txt' mode='w' encoding='UTF-8'>\n",
            "<_io.TextIOWrapper name='drive/MyDrive/sample/normal/7132_10800.txt' mode='w' encoding='UTF-8'>\n",
            "<_io.TextIOWrapper name='drive/MyDrive/sample/normal/7132_10830.txt' mode='w' encoding='UTF-8'>\n",
            "<_io.TextIOWrapper name='drive/MyDrive/sample/sa/7132_10860.txt' mode='w' encoding='UTF-8'>\n",
            "<_io.TextIOWrapper name='drive/MyDrive/sample/normal/7132_10890.txt' mode='w' encoding='UTF-8'>\n",
            "<_io.TextIOWrapper name='drive/MyDrive/sample/normal/7132_10920.txt' mode='w' encoding='UTF-8'>\n",
            "<_io.TextIOWrapper name='drive/MyDrive/sample/sa/7132_10950.txt' mode='w' encoding='UTF-8'>\n",
            "<_io.TextIOWrapper name='drive/MyDrive/sample/sa/7132_10980.txt' mode='w' encoding='UTF-8'>\n",
            "<_io.TextIOWrapper name='drive/MyDrive/sample/sa/7132_11010.txt' mode='w' encoding='UTF-8'>\n",
            "<_io.TextIOWrapper name='drive/MyDrive/sample/normal/7132_11040.txt' mode='w' encoding='UTF-8'>\n",
            "<_io.TextIOWrapper name='drive/MyDrive/sample/normal/7132_11070.txt' mode='w' encoding='UTF-8'>\n",
            "<_io.TextIOWrapper name='drive/MyDrive/sample/sa/7132_11100.txt' mode='w' encoding='UTF-8'>\n",
            "<_io.TextIOWrapper name='drive/MyDrive/sample/normal/7132_11130.txt' mode='w' encoding='UTF-8'>\n",
            "<_io.TextIOWrapper name='drive/MyDrive/sample/normal/7132_11160.txt' mode='w' encoding='UTF-8'>\n",
            "<_io.TextIOWrapper name='drive/MyDrive/sample/sa/7132_11190.txt' mode='w' encoding='UTF-8'>\n",
            "<_io.TextIOWrapper name='drive/MyDrive/sample/normal/7132_11220.txt' mode='w' encoding='UTF-8'>\n",
            "<_io.TextIOWrapper name='drive/MyDrive/sample/sa/7132_11250.txt' mode='w' encoding='UTF-8'>\n",
            "<_io.TextIOWrapper name='drive/MyDrive/sample/normal/7132_11280.txt' mode='w' encoding='UTF-8'>\n",
            "<_io.TextIOWrapper name='drive/MyDrive/sample/normal/7132_11310.txt' mode='w' encoding='UTF-8'>\n",
            "<_io.TextIOWrapper name='drive/MyDrive/sample/sa/7132_11340.txt' mode='w' encoding='UTF-8'>\n",
            "<_io.TextIOWrapper name='drive/MyDrive/sample/normal/7132_11370.txt' mode='w' encoding='UTF-8'>\n",
            "<_io.TextIOWrapper name='drive/MyDrive/sample/sa/7132_11400.txt' mode='w' encoding='UTF-8'>\n",
            "<_io.TextIOWrapper name='drive/MyDrive/sample/normal/7132_11430.txt' mode='w' encoding='UTF-8'>\n",
            "<_io.TextIOWrapper name='drive/MyDrive/sample/normal/7132_11460.txt' mode='w' encoding='UTF-8'>\n",
            "<_io.TextIOWrapper name='drive/MyDrive/sample/normal/7132_11490.txt' mode='w' encoding='UTF-8'>\n",
            "<_io.TextIOWrapper name='drive/MyDrive/sample/normal/7132_11520.txt' mode='w' encoding='UTF-8'>\n",
            "<_io.TextIOWrapper name='drive/MyDrive/sample/normal/7132_11550.txt' mode='w' encoding='UTF-8'>\n",
            "<_io.TextIOWrapper name='drive/MyDrive/sample/normal/7132_11580.txt' mode='w' encoding='UTF-8'>\n",
            "<_io.TextIOWrapper name='drive/MyDrive/sample/sa/7132_11610.txt' mode='w' encoding='UTF-8'>\n",
            "<_io.TextIOWrapper name='drive/MyDrive/sample/normal/7132_11640.txt' mode='w' encoding='UTF-8'>\n",
            "<_io.TextIOWrapper name='drive/MyDrive/sample/sa/7132_11670.txt' mode='w' encoding='UTF-8'>\n",
            "<_io.TextIOWrapper name='drive/MyDrive/sample/normal/7132_11700.txt' mode='w' encoding='UTF-8'>\n",
            "<_io.TextIOWrapper name='drive/MyDrive/sample/sa/7132_11730.txt' mode='w' encoding='UTF-8'>\n",
            "<_io.TextIOWrapper name='drive/MyDrive/sample/sa/7132_11760.txt' mode='w' encoding='UTF-8'>\n",
            "<_io.TextIOWrapper name='drive/MyDrive/sample/sa/7132_11790.txt' mode='w' encoding='UTF-8'>\n",
            "<_io.TextIOWrapper name='drive/MyDrive/sample/sa/7132_11820.txt' mode='w' encoding='UTF-8'>\n",
            "<_io.TextIOWrapper name='drive/MyDrive/sample/normal/7132_11850.txt' mode='w' encoding='UTF-8'>\n",
            "<_io.TextIOWrapper name='drive/MyDrive/sample/normal/7132_11880.txt' mode='w' encoding='UTF-8'>\n",
            "<_io.TextIOWrapper name='drive/MyDrive/sample/normal/7132_11910.txt' mode='w' encoding='UTF-8'>\n",
            "<_io.TextIOWrapper name='drive/MyDrive/sample/normal/7132_11940.txt' mode='w' encoding='UTF-8'>\n",
            "<_io.TextIOWrapper name='drive/MyDrive/sample/sa/7132_11970.txt' mode='w' encoding='UTF-8'>\n",
            "<_io.TextIOWrapper name='drive/MyDrive/sample/normal/7132_12000.txt' mode='w' encoding='UTF-8'>\n",
            "<_io.TextIOWrapper name='drive/MyDrive/sample/normal/7132_12030.txt' mode='w' encoding='UTF-8'>\n",
            "<_io.TextIOWrapper name='drive/MyDrive/sample/sa/7132_12060.txt' mode='w' encoding='UTF-8'>\n",
            "<_io.TextIOWrapper name='drive/MyDrive/sample/sa/7132_12090.txt' mode='w' encoding='UTF-8'>\n",
            "<_io.TextIOWrapper name='drive/MyDrive/sample/normal/7132_12120.txt' mode='w' encoding='UTF-8'>\n",
            "<_io.TextIOWrapper name='drive/MyDrive/sample/sa/7132_12150.txt' mode='w' encoding='UTF-8'>\n",
            "<_io.TextIOWrapper name='drive/MyDrive/sample/sa/7132_12180.txt' mode='w' encoding='UTF-8'>\n",
            "<_io.TextIOWrapper name='drive/MyDrive/sample/sa/7132_12210.txt' mode='w' encoding='UTF-8'>\n",
            "<_io.TextIOWrapper name='drive/MyDrive/sample/normal/7132_12240.txt' mode='w' encoding='UTF-8'>\n",
            "<_io.TextIOWrapper name='drive/MyDrive/sample/normal/7132_12270.txt' mode='w' encoding='UTF-8'>\n",
            "<_io.TextIOWrapper name='drive/MyDrive/sample/sa/7132_12300.txt' mode='w' encoding='UTF-8'>\n",
            "<_io.TextIOWrapper name='drive/MyDrive/sample/sa/7132_12330.txt' mode='w' encoding='UTF-8'>\n",
            "<_io.TextIOWrapper name='drive/MyDrive/sample/normal/7132_12360.txt' mode='w' encoding='UTF-8'>\n",
            "<_io.TextIOWrapper name='drive/MyDrive/sample/sa/7132_12390.txt' mode='w' encoding='UTF-8'>\n",
            "<_io.TextIOWrapper name='drive/MyDrive/sample/normal/7132_12420.txt' mode='w' encoding='UTF-8'>\n",
            "<_io.TextIOWrapper name='drive/MyDrive/sample/sa/7132_12450.txt' mode='w' encoding='UTF-8'>\n",
            "<_io.TextIOWrapper name='drive/MyDrive/sample/normal/7132_12480.txt' mode='w' encoding='UTF-8'>\n",
            "<_io.TextIOWrapper name='drive/MyDrive/sample/normal/7132_12510.txt' mode='w' encoding='UTF-8'>\n",
            "<_io.TextIOWrapper name='drive/MyDrive/sample/normal/7132_12540.txt' mode='w' encoding='UTF-8'>\n",
            "<_io.TextIOWrapper name='drive/MyDrive/sample/normal/7132_12570.txt' mode='w' encoding='UTF-8'>\n",
            "<_io.TextIOWrapper name='drive/MyDrive/sample/sa/7132_12600.txt' mode='w' encoding='UTF-8'>\n",
            "<_io.TextIOWrapper name='drive/MyDrive/sample/sa/7132_12630.txt' mode='w' encoding='UTF-8'>\n",
            "<_io.TextIOWrapper name='drive/MyDrive/sample/sa/7132_12660.txt' mode='w' encoding='UTF-8'>\n",
            "<_io.TextIOWrapper name='drive/MyDrive/sample/normal/7132_12690.txt' mode='w' encoding='UTF-8'>\n",
            "<_io.TextIOWrapper name='drive/MyDrive/sample/sa/7132_12720.txt' mode='w' encoding='UTF-8'>\n",
            "<_io.TextIOWrapper name='drive/MyDrive/sample/sa/7132_12750.txt' mode='w' encoding='UTF-8'>\n",
            "<_io.TextIOWrapper name='drive/MyDrive/sample/sa/7132_12780.txt' mode='w' encoding='UTF-8'>\n",
            "<_io.TextIOWrapper name='drive/MyDrive/sample/sa/7132_12810.txt' mode='w' encoding='UTF-8'>\n",
            "<_io.TextIOWrapper name='drive/MyDrive/sample/sa/7132_12840.txt' mode='w' encoding='UTF-8'>\n",
            "<_io.TextIOWrapper name='drive/MyDrive/sample/normal/7132_12870.txt' mode='w' encoding='UTF-8'>\n",
            "<_io.TextIOWrapper name='drive/MyDrive/sample/normal/7132_12900.txt' mode='w' encoding='UTF-8'>\n",
            "<_io.TextIOWrapper name='drive/MyDrive/sample/normal/7132_12930.txt' mode='w' encoding='UTF-8'>\n",
            "<_io.TextIOWrapper name='drive/MyDrive/sample/normal/7132_12960.txt' mode='w' encoding='UTF-8'>\n",
            "<_io.TextIOWrapper name='drive/MyDrive/sample/sa/7132_12990.txt' mode='w' encoding='UTF-8'>\n",
            "<_io.TextIOWrapper name='drive/MyDrive/sample/sa/7132_13020.txt' mode='w' encoding='UTF-8'>\n",
            "<_io.TextIOWrapper name='drive/MyDrive/sample/normal/7132_13050.txt' mode='w' encoding='UTF-8'>\n",
            "<_io.TextIOWrapper name='drive/MyDrive/sample/sa/7132_13080.txt' mode='w' encoding='UTF-8'>\n",
            "<_io.TextIOWrapper name='drive/MyDrive/sample/normal/7132_13110.txt' mode='w' encoding='UTF-8'>\n",
            "<_io.TextIOWrapper name='drive/MyDrive/sample/sa/7132_13140.txt' mode='w' encoding='UTF-8'>\n",
            "<_io.TextIOWrapper name='drive/MyDrive/sample/sa/7132_13170.txt' mode='w' encoding='UTF-8'>\n",
            "<_io.TextIOWrapper name='drive/MyDrive/sample/normal/7132_13200.txt' mode='w' encoding='UTF-8'>\n",
            "<_io.TextIOWrapper name='drive/MyDrive/sample/normal/7132_13230.txt' mode='w' encoding='UTF-8'>\n",
            "<_io.TextIOWrapper name='drive/MyDrive/sample/normal/7132_13260.txt' mode='w' encoding='UTF-8'>\n",
            "<_io.TextIOWrapper name='drive/MyDrive/sample/sa/7132_13290.txt' mode='w' encoding='UTF-8'>\n",
            "<_io.TextIOWrapper name='drive/MyDrive/sample/sa/7132_13320.txt' mode='w' encoding='UTF-8'>\n",
            "<_io.TextIOWrapper name='drive/MyDrive/sample/sa/7132_13350.txt' mode='w' encoding='UTF-8'>\n",
            "<_io.TextIOWrapper name='drive/MyDrive/sample/sa/7132_13380.txt' mode='w' encoding='UTF-8'>\n",
            "<_io.TextIOWrapper name='drive/MyDrive/sample/normal/7132_13410.txt' mode='w' encoding='UTF-8'>\n",
            "<_io.TextIOWrapper name='drive/MyDrive/sample/sa/7132_13440.txt' mode='w' encoding='UTF-8'>\n",
            "<_io.TextIOWrapper name='drive/MyDrive/sample/sa/7132_13470.txt' mode='w' encoding='UTF-8'>\n",
            "<_io.TextIOWrapper name='drive/MyDrive/sample/sa/7132_13500.txt' mode='w' encoding='UTF-8'>\n",
            "<_io.TextIOWrapper name='drive/MyDrive/sample/normal/7132_13530.txt' mode='w' encoding='UTF-8'>\n",
            "<_io.TextIOWrapper name='drive/MyDrive/sample/sa/7132_13560.txt' mode='w' encoding='UTF-8'>\n",
            "<_io.TextIOWrapper name='drive/MyDrive/sample/normal/7132_13590.txt' mode='w' encoding='UTF-8'>\n",
            "<_io.TextIOWrapper name='drive/MyDrive/sample/normal/7132_13620.txt' mode='w' encoding='UTF-8'>\n",
            "<_io.TextIOWrapper name='drive/MyDrive/sample/sa/7132_13650.txt' mode='w' encoding='UTF-8'>\n",
            "<_io.TextIOWrapper name='drive/MyDrive/sample/normal/7132_13680.txt' mode='w' encoding='UTF-8'>\n",
            "<_io.TextIOWrapper name='drive/MyDrive/sample/normal/7132_13710.txt' mode='w' encoding='UTF-8'>\n",
            "<_io.TextIOWrapper name='drive/MyDrive/sample/normal/7132_13740.txt' mode='w' encoding='UTF-8'>\n",
            "<_io.TextIOWrapper name='drive/MyDrive/sample/normal/7132_13770.txt' mode='w' encoding='UTF-8'>\n",
            "<_io.TextIOWrapper name='drive/MyDrive/sample/normal/7132_13800.txt' mode='w' encoding='UTF-8'>\n",
            "<_io.TextIOWrapper name='drive/MyDrive/sample/normal/7132_13830.txt' mode='w' encoding='UTF-8'>\n",
            "<_io.TextIOWrapper name='drive/MyDrive/sample/sa/7132_13860.txt' mode='w' encoding='UTF-8'>\n",
            "<_io.TextIOWrapper name='drive/MyDrive/sample/normal/7132_13890.txt' mode='w' encoding='UTF-8'>\n",
            "<_io.TextIOWrapper name='drive/MyDrive/sample/sa/7132_13920.txt' mode='w' encoding='UTF-8'>\n",
            "<_io.TextIOWrapper name='drive/MyDrive/sample/normal/7132_13950.txt' mode='w' encoding='UTF-8'>\n",
            "<_io.TextIOWrapper name='drive/MyDrive/sample/normal/7132_13980.txt' mode='w' encoding='UTF-8'>\n",
            "<_io.TextIOWrapper name='drive/MyDrive/sample/normal/7132_14010.txt' mode='w' encoding='UTF-8'>\n",
            "<_io.TextIOWrapper name='drive/MyDrive/sample/sa/7132_14040.txt' mode='w' encoding='UTF-8'>\n",
            "<_io.TextIOWrapper name='drive/MyDrive/sample/sa/7132_14070.txt' mode='w' encoding='UTF-8'>\n",
            "<_io.TextIOWrapper name='drive/MyDrive/sample/sa/7132_14100.txt' mode='w' encoding='UTF-8'>\n",
            "<_io.TextIOWrapper name='drive/MyDrive/sample/sa/7132_14130.txt' mode='w' encoding='UTF-8'>\n",
            "<_io.TextIOWrapper name='drive/MyDrive/sample/normal/7132_14160.txt' mode='w' encoding='UTF-8'>\n",
            "<_io.TextIOWrapper name='drive/MyDrive/sample/normal/7132_14190.txt' mode='w' encoding='UTF-8'>\n",
            "<_io.TextIOWrapper name='drive/MyDrive/sample/sa/7132_14220.txt' mode='w' encoding='UTF-8'>\n",
            "<_io.TextIOWrapper name='drive/MyDrive/sample/sa/7132_14250.txt' mode='w' encoding='UTF-8'>\n",
            "<_io.TextIOWrapper name='drive/MyDrive/sample/normal/7132_14280.txt' mode='w' encoding='UTF-8'>\n",
            "<_io.TextIOWrapper name='drive/MyDrive/sample/normal/7132_14310.txt' mode='w' encoding='UTF-8'>\n",
            "<_io.TextIOWrapper name='drive/MyDrive/sample/sa/7132_14340.txt' mode='w' encoding='UTF-8'>\n",
            "<_io.TextIOWrapper name='drive/MyDrive/sample/sa/7132_14370.txt' mode='w' encoding='UTF-8'>\n",
            "<_io.TextIOWrapper name='drive/MyDrive/sample/sa/7132_14400.txt' mode='w' encoding='UTF-8'>\n",
            "<_io.TextIOWrapper name='drive/MyDrive/sample/normal/7132_14430.txt' mode='w' encoding='UTF-8'>\n",
            "<_io.TextIOWrapper name='drive/MyDrive/sample/sa/7132_14460.txt' mode='w' encoding='UTF-8'>\n",
            "<_io.TextIOWrapper name='drive/MyDrive/sample/normal/7132_14490.txt' mode='w' encoding='UTF-8'>\n",
            "<_io.TextIOWrapper name='drive/MyDrive/sample/normal/7132_14520.txt' mode='w' encoding='UTF-8'>\n",
            "<_io.TextIOWrapper name='drive/MyDrive/sample/normal/7132_14550.txt' mode='w' encoding='UTF-8'>\n",
            "<_io.TextIOWrapper name='drive/MyDrive/sample/normal/7132_14580.txt' mode='w' encoding='UTF-8'>\n",
            "<_io.TextIOWrapper name='drive/MyDrive/sample/normal/7132_14610.txt' mode='w' encoding='UTF-8'>\n",
            "<_io.TextIOWrapper name='drive/MyDrive/sample/normal/7132_14640.txt' mode='w' encoding='UTF-8'>\n",
            "<_io.TextIOWrapper name='drive/MyDrive/sample/sa/7132_14670.txt' mode='w' encoding='UTF-8'>\n",
            "<_io.TextIOWrapper name='drive/MyDrive/sample/normal/7132_14700.txt' mode='w' encoding='UTF-8'>\n",
            "<_io.TextIOWrapper name='drive/MyDrive/sample/normal/7132_14730.txt' mode='w' encoding='UTF-8'>\n",
            "<_io.TextIOWrapper name='drive/MyDrive/sample/normal/7132_14760.txt' mode='w' encoding='UTF-8'>\n",
            "<_io.TextIOWrapper name='drive/MyDrive/sample/normal/7132_14790.txt' mode='w' encoding='UTF-8'>\n",
            "<_io.TextIOWrapper name='drive/MyDrive/sample/sa/7132_14820.txt' mode='w' encoding='UTF-8'>\n",
            "<_io.TextIOWrapper name='drive/MyDrive/sample/sa/7132_14850.txt' mode='w' encoding='UTF-8'>\n",
            "<_io.TextIOWrapper name='drive/MyDrive/sample/normal/7132_14880.txt' mode='w' encoding='UTF-8'>\n",
            "<_io.TextIOWrapper name='drive/MyDrive/sample/normal/7132_14910.txt' mode='w' encoding='UTF-8'>\n",
            "<_io.TextIOWrapper name='drive/MyDrive/sample/normal/7132_14940.txt' mode='w' encoding='UTF-8'>\n",
            "<_io.TextIOWrapper name='drive/MyDrive/sample/sa/7132_14970.txt' mode='w' encoding='UTF-8'>\n",
            "<_io.TextIOWrapper name='drive/MyDrive/sample/normal/7132_15000.txt' mode='w' encoding='UTF-8'>\n",
            "<_io.TextIOWrapper name='drive/MyDrive/sample/sa/7132_15030.txt' mode='w' encoding='UTF-8'>\n",
            "<_io.TextIOWrapper name='drive/MyDrive/sample/sa/7132_15060.txt' mode='w' encoding='UTF-8'>\n",
            "<_io.TextIOWrapper name='drive/MyDrive/sample/normal/7132_15090.txt' mode='w' encoding='UTF-8'>\n",
            "<_io.TextIOWrapper name='drive/MyDrive/sample/normal/7132_15120.txt' mode='w' encoding='UTF-8'>\n",
            "<_io.TextIOWrapper name='drive/MyDrive/sample/sa/7132_15150.txt' mode='w' encoding='UTF-8'>\n",
            "<_io.TextIOWrapper name='drive/MyDrive/sample/normal/7132_15180.txt' mode='w' encoding='UTF-8'>\n",
            "<_io.TextIOWrapper name='drive/MyDrive/sample/sa/7132_15210.txt' mode='w' encoding='UTF-8'>\n",
            "<_io.TextIOWrapper name='drive/MyDrive/sample/sa/7132_15240.txt' mode='w' encoding='UTF-8'>\n",
            "<_io.TextIOWrapper name='drive/MyDrive/sample/normal/7132_15270.txt' mode='w' encoding='UTF-8'>\n",
            "<_io.TextIOWrapper name='drive/MyDrive/sample/sa/7132_15300.txt' mode='w' encoding='UTF-8'>\n",
            "<_io.TextIOWrapper name='drive/MyDrive/sample/sa/7132_15330.txt' mode='w' encoding='UTF-8'>\n",
            "<_io.TextIOWrapper name='drive/MyDrive/sample/sa/7132_15360.txt' mode='w' encoding='UTF-8'>\n",
            "<_io.TextIOWrapper name='drive/MyDrive/sample/normal/7132_15390.txt' mode='w' encoding='UTF-8'>\n",
            "<_io.TextIOWrapper name='drive/MyDrive/sample/sa/7132_15420.txt' mode='w' encoding='UTF-8'>\n",
            "<_io.TextIOWrapper name='drive/MyDrive/sample/sa/7132_15450.txt' mode='w' encoding='UTF-8'>\n",
            "<_io.TextIOWrapper name='drive/MyDrive/sample/normal/7132_15480.txt' mode='w' encoding='UTF-8'>\n",
            "<_io.TextIOWrapper name='drive/MyDrive/sample/normal/7132_15510.txt' mode='w' encoding='UTF-8'>\n",
            "<_io.TextIOWrapper name='drive/MyDrive/sample/sa/7132_15540.txt' mode='w' encoding='UTF-8'>\n",
            "<_io.TextIOWrapper name='drive/MyDrive/sample/normal/7132_15570.txt' mode='w' encoding='UTF-8'>\n",
            "<_io.TextIOWrapper name='drive/MyDrive/sample/sa/7132_15600.txt' mode='w' encoding='UTF-8'>\n",
            "<_io.TextIOWrapper name='drive/MyDrive/sample/sa/7132_15630.txt' mode='w' encoding='UTF-8'>\n",
            "<_io.TextIOWrapper name='drive/MyDrive/sample/normal/7132_15660.txt' mode='w' encoding='UTF-8'>\n",
            "<_io.TextIOWrapper name='drive/MyDrive/sample/normal/7132_15690.txt' mode='w' encoding='UTF-8'>\n",
            "<_io.TextIOWrapper name='drive/MyDrive/sample/normal/7132_15720.txt' mode='w' encoding='UTF-8'>\n",
            "<_io.TextIOWrapper name='drive/MyDrive/sample/normal/7132_15750.txt' mode='w' encoding='UTF-8'>\n",
            "<_io.TextIOWrapper name='drive/MyDrive/sample/normal/7132_15780.txt' mode='w' encoding='UTF-8'>\n",
            "<_io.TextIOWrapper name='drive/MyDrive/sample/normal/7132_15810.txt' mode='w' encoding='UTF-8'>\n",
            "<_io.TextIOWrapper name='drive/MyDrive/sample/sa/7132_15840.txt' mode='w' encoding='UTF-8'>\n",
            "<_io.TextIOWrapper name='drive/MyDrive/sample/sa/7132_15870.txt' mode='w' encoding='UTF-8'>\n",
            "<_io.TextIOWrapper name='drive/MyDrive/sample/sa/7132_15900.txt' mode='w' encoding='UTF-8'>\n",
            "<_io.TextIOWrapper name='drive/MyDrive/sample/normal/7132_15930.txt' mode='w' encoding='UTF-8'>\n",
            "<_io.TextIOWrapper name='drive/MyDrive/sample/normal/7132_15960.txt' mode='w' encoding='UTF-8'>\n",
            "<_io.TextIOWrapper name='drive/MyDrive/sample/normal/7132_15990.txt' mode='w' encoding='UTF-8'>\n",
            "<_io.TextIOWrapper name='drive/MyDrive/sample/normal/7132_16020.txt' mode='w' encoding='UTF-8'>\n",
            "<_io.TextIOWrapper name='drive/MyDrive/sample/normal/7132_16050.txt' mode='w' encoding='UTF-8'>\n",
            "<_io.TextIOWrapper name='drive/MyDrive/sample/sa/7132_16080.txt' mode='w' encoding='UTF-8'>\n",
            "<_io.TextIOWrapper name='drive/MyDrive/sample/normal/7132_16110.txt' mode='w' encoding='UTF-8'>\n",
            "<_io.TextIOWrapper name='drive/MyDrive/sample/normal/7132_16140.txt' mode='w' encoding='UTF-8'>\n",
            "<_io.TextIOWrapper name='drive/MyDrive/sample/sa/7132_16170.txt' mode='w' encoding='UTF-8'>\n",
            "<_io.TextIOWrapper name='drive/MyDrive/sample/normal/7132_16200.txt' mode='w' encoding='UTF-8'>\n",
            "<_io.TextIOWrapper name='drive/MyDrive/sample/normal/7132_16230.txt' mode='w' encoding='UTF-8'>\n",
            "<_io.TextIOWrapper name='drive/MyDrive/sample/normal/7132_16260.txt' mode='w' encoding='UTF-8'>\n",
            "<_io.TextIOWrapper name='drive/MyDrive/sample/normal/7132_16290.txt' mode='w' encoding='UTF-8'>\n",
            "<_io.TextIOWrapper name='drive/MyDrive/sample/sa/7132_16320.txt' mode='w' encoding='UTF-8'>\n",
            "<_io.TextIOWrapper name='drive/MyDrive/sample/normal/7132_16350.txt' mode='w' encoding='UTF-8'>\n",
            "<_io.TextIOWrapper name='drive/MyDrive/sample/sa/7132_16380.txt' mode='w' encoding='UTF-8'>\n",
            "<_io.TextIOWrapper name='drive/MyDrive/sample/normal/7132_16410.txt' mode='w' encoding='UTF-8'>\n",
            "<_io.TextIOWrapper name='drive/MyDrive/sample/normal/7132_16440.txt' mode='w' encoding='UTF-8'>\n",
            "<_io.TextIOWrapper name='drive/MyDrive/sample/sa/7132_16470.txt' mode='w' encoding='UTF-8'>\n",
            "<_io.TextIOWrapper name='drive/MyDrive/sample/sa/7132_16500.txt' mode='w' encoding='UTF-8'>\n",
            "<_io.TextIOWrapper name='drive/MyDrive/sample/sa/7132_16530.txt' mode='w' encoding='UTF-8'>\n",
            "<_io.TextIOWrapper name='drive/MyDrive/sample/normal/7132_16560.txt' mode='w' encoding='UTF-8'>\n",
            "<_io.TextIOWrapper name='drive/MyDrive/sample/normal/7132_16590.txt' mode='w' encoding='UTF-8'>\n",
            "<_io.TextIOWrapper name='drive/MyDrive/sample/sa/7132_16620.txt' mode='w' encoding='UTF-8'>\n",
            "<_io.TextIOWrapper name='drive/MyDrive/sample/normal/7132_16650.txt' mode='w' encoding='UTF-8'>\n",
            "<_io.TextIOWrapper name='drive/MyDrive/sample/sa/7132_16680.txt' mode='w' encoding='UTF-8'>\n",
            "<_io.TextIOWrapper name='drive/MyDrive/sample/sa/7132_16710.txt' mode='w' encoding='UTF-8'>\n",
            "<_io.TextIOWrapper name='drive/MyDrive/sample/sa/7132_16740.txt' mode='w' encoding='UTF-8'>\n",
            "<_io.TextIOWrapper name='drive/MyDrive/sample/sa/7132_16770.txt' mode='w' encoding='UTF-8'>\n",
            "<_io.TextIOWrapper name='drive/MyDrive/sample/normal/7132_16800.txt' mode='w' encoding='UTF-8'>\n",
            "<_io.TextIOWrapper name='drive/MyDrive/sample/normal/7132_16830.txt' mode='w' encoding='UTF-8'>\n",
            "<_io.TextIOWrapper name='drive/MyDrive/sample/normal/7132_16860.txt' mode='w' encoding='UTF-8'>\n",
            "<_io.TextIOWrapper name='drive/MyDrive/sample/normal/7132_16890.txt' mode='w' encoding='UTF-8'>\n",
            "<_io.TextIOWrapper name='drive/MyDrive/sample/normal/7132_16920.txt' mode='w' encoding='UTF-8'>\n",
            "<_io.TextIOWrapper name='drive/MyDrive/sample/sa/7132_16950.txt' mode='w' encoding='UTF-8'>\n",
            "<_io.TextIOWrapper name='drive/MyDrive/sample/sa/7132_16980.txt' mode='w' encoding='UTF-8'>\n",
            "<_io.TextIOWrapper name='drive/MyDrive/sample/normal/7132_17010.txt' mode='w' encoding='UTF-8'>\n",
            "<_io.TextIOWrapper name='drive/MyDrive/sample/normal/7132_17040.txt' mode='w' encoding='UTF-8'>\n",
            "<_io.TextIOWrapper name='drive/MyDrive/sample/normal/7132_17070.txt' mode='w' encoding='UTF-8'>\n",
            "<_io.TextIOWrapper name='drive/MyDrive/sample/sa/7132_17100.txt' mode='w' encoding='UTF-8'>\n",
            "<_io.TextIOWrapper name='drive/MyDrive/sample/sa/7132_17130.txt' mode='w' encoding='UTF-8'>\n",
            "<_io.TextIOWrapper name='drive/MyDrive/sample/sa/7132_17160.txt' mode='w' encoding='UTF-8'>\n",
            "<_io.TextIOWrapper name='drive/MyDrive/sample/sa/7132_17190.txt' mode='w' encoding='UTF-8'>\n",
            "<_io.TextIOWrapper name='drive/MyDrive/sample/sa/7132_17220.txt' mode='w' encoding='UTF-8'>\n",
            "<_io.TextIOWrapper name='drive/MyDrive/sample/sa/7132_17250.txt' mode='w' encoding='UTF-8'>\n",
            "<_io.TextIOWrapper name='drive/MyDrive/sample/sa/7132_17280.txt' mode='w' encoding='UTF-8'>\n",
            "<_io.TextIOWrapper name='drive/MyDrive/sample/sa/7132_17310.txt' mode='w' encoding='UTF-8'>\n",
            "<_io.TextIOWrapper name='drive/MyDrive/sample/sa/7132_17340.txt' mode='w' encoding='UTF-8'>\n",
            "<_io.TextIOWrapper name='drive/MyDrive/sample/normal/7132_17370.txt' mode='w' encoding='UTF-8'>\n",
            "<_io.TextIOWrapper name='drive/MyDrive/sample/sa/7132_17400.txt' mode='w' encoding='UTF-8'>\n",
            "<_io.TextIOWrapper name='drive/MyDrive/sample/normal/7132_17430.txt' mode='w' encoding='UTF-8'>\n",
            "<_io.TextIOWrapper name='drive/MyDrive/sample/sa/7132_17460.txt' mode='w' encoding='UTF-8'>\n",
            "<_io.TextIOWrapper name='drive/MyDrive/sample/normal/7132_17490.txt' mode='w' encoding='UTF-8'>\n",
            "<_io.TextIOWrapper name='drive/MyDrive/sample/normal/7132_17520.txt' mode='w' encoding='UTF-8'>\n",
            "<_io.TextIOWrapper name='drive/MyDrive/sample/sa/7132_17550.txt' mode='w' encoding='UTF-8'>\n",
            "<_io.TextIOWrapper name='drive/MyDrive/sample/normal/7132_17580.txt' mode='w' encoding='UTF-8'>\n",
            "<_io.TextIOWrapper name='drive/MyDrive/sample/sa/7132_17610.txt' mode='w' encoding='UTF-8'>\n",
            "<_io.TextIOWrapper name='drive/MyDrive/sample/sa/7132_17640.txt' mode='w' encoding='UTF-8'>\n",
            "<_io.TextIOWrapper name='drive/MyDrive/sample/normal/7132_17670.txt' mode='w' encoding='UTF-8'>\n",
            "<_io.TextIOWrapper name='drive/MyDrive/sample/sa/7132_17700.txt' mode='w' encoding='UTF-8'>\n",
            "<_io.TextIOWrapper name='drive/MyDrive/sample/sa/7132_17730.txt' mode='w' encoding='UTF-8'>\n",
            "<_io.TextIOWrapper name='drive/MyDrive/sample/sa/7132_17760.txt' mode='w' encoding='UTF-8'>\n",
            "<_io.TextIOWrapper name='drive/MyDrive/sample/normal/7132_17790.txt' mode='w' encoding='UTF-8'>\n",
            "<_io.TextIOWrapper name='drive/MyDrive/sample/sa/7132_17820.txt' mode='w' encoding='UTF-8'>\n",
            "<_io.TextIOWrapper name='drive/MyDrive/sample/normal/7132_17850.txt' mode='w' encoding='UTF-8'>\n",
            "<_io.TextIOWrapper name='drive/MyDrive/sample/normal/7132_17880.txt' mode='w' encoding='UTF-8'>\n",
            "<_io.TextIOWrapper name='drive/MyDrive/sample/sa/7132_17910.txt' mode='w' encoding='UTF-8'>\n",
            "<_io.TextIOWrapper name='drive/MyDrive/sample/sa/7132_17940.txt' mode='w' encoding='UTF-8'>\n",
            "<_io.TextIOWrapper name='drive/MyDrive/sample/sa/7132_17970.txt' mode='w' encoding='UTF-8'>\n",
            "<_io.TextIOWrapper name='drive/MyDrive/sample/normal/7132_18000.txt' mode='w' encoding='UTF-8'>\n",
            "<_io.TextIOWrapper name='drive/MyDrive/sample/normal/7132_18030.txt' mode='w' encoding='UTF-8'>\n",
            "<_io.TextIOWrapper name='drive/MyDrive/sample/normal/7132_18060.txt' mode='w' encoding='UTF-8'>\n",
            "<_io.TextIOWrapper name='drive/MyDrive/sample/sa/7132_18090.txt' mode='w' encoding='UTF-8'>\n",
            "<_io.TextIOWrapper name='drive/MyDrive/sample/sa/7132_18120.txt' mode='w' encoding='UTF-8'>\n",
            "<_io.TextIOWrapper name='drive/MyDrive/sample/sa/7132_18150.txt' mode='w' encoding='UTF-8'>\n",
            "<_io.TextIOWrapper name='drive/MyDrive/sample/sa/7132_18180.txt' mode='w' encoding='UTF-8'>\n",
            "<_io.TextIOWrapper name='drive/MyDrive/sample/normal/7132_18210.txt' mode='w' encoding='UTF-8'>\n",
            "<_io.TextIOWrapper name='drive/MyDrive/sample/normal/7132_18240.txt' mode='w' encoding='UTF-8'>\n",
            "<_io.TextIOWrapper name='drive/MyDrive/sample/sa/7132_18270.txt' mode='w' encoding='UTF-8'>\n",
            "<_io.TextIOWrapper name='drive/MyDrive/sample/normal/7132_18300.txt' mode='w' encoding='UTF-8'>\n",
            "<_io.TextIOWrapper name='drive/MyDrive/sample/sa/7132_18330.txt' mode='w' encoding='UTF-8'>\n",
            "<_io.TextIOWrapper name='drive/MyDrive/sample/normal/7132_18360.txt' mode='w' encoding='UTF-8'>\n",
            "<_io.TextIOWrapper name='drive/MyDrive/sample/sa/7132_18390.txt' mode='w' encoding='UTF-8'>\n",
            "<_io.TextIOWrapper name='drive/MyDrive/sample/sa/7132_18420.txt' mode='w' encoding='UTF-8'>\n",
            "<_io.TextIOWrapper name='drive/MyDrive/sample/normal/7132_18450.txt' mode='w' encoding='UTF-8'>\n",
            "<_io.TextIOWrapper name='drive/MyDrive/sample/normal/7132_18480.txt' mode='w' encoding='UTF-8'>\n",
            "<_io.TextIOWrapper name='drive/MyDrive/sample/sa/7132_18510.txt' mode='w' encoding='UTF-8'>\n",
            "<_io.TextIOWrapper name='drive/MyDrive/sample/sa/7132_18540.txt' mode='w' encoding='UTF-8'>\n",
            "<_io.TextIOWrapper name='drive/MyDrive/sample/normal/7132_18570.txt' mode='w' encoding='UTF-8'>\n",
            "<_io.TextIOWrapper name='drive/MyDrive/sample/sa/7132_18600.txt' mode='w' encoding='UTF-8'>\n",
            "<_io.TextIOWrapper name='drive/MyDrive/sample/sa/7132_18630.txt' mode='w' encoding='UTF-8'>\n",
            "<_io.TextIOWrapper name='drive/MyDrive/sample/sa/7132_18660.txt' mode='w' encoding='UTF-8'>\n",
            "<_io.TextIOWrapper name='drive/MyDrive/sample/normal/7132_18690.txt' mode='w' encoding='UTF-8'>\n",
            "<_io.TextIOWrapper name='drive/MyDrive/sample/sa/7132_18720.txt' mode='w' encoding='UTF-8'>\n",
            "<_io.TextIOWrapper name='drive/MyDrive/sample/normal/7132_18750.txt' mode='w' encoding='UTF-8'>\n",
            "<_io.TextIOWrapper name='drive/MyDrive/sample/sa/7132_18780.txt' mode='w' encoding='UTF-8'>\n",
            "<_io.TextIOWrapper name='drive/MyDrive/sample/sa/7132_18810.txt' mode='w' encoding='UTF-8'>\n",
            "<_io.TextIOWrapper name='drive/MyDrive/sample/sa/7132_18840.txt' mode='w' encoding='UTF-8'>\n",
            "<_io.TextIOWrapper name='drive/MyDrive/sample/normal/7132_18870.txt' mode='w' encoding='UTF-8'>\n",
            "<_io.TextIOWrapper name='drive/MyDrive/sample/sa/7132_18900.txt' mode='w' encoding='UTF-8'>\n",
            "<_io.TextIOWrapper name='drive/MyDrive/sample/sa/7132_18930.txt' mode='w' encoding='UTF-8'>\n",
            "<_io.TextIOWrapper name='drive/MyDrive/sample/sa/7132_18960.txt' mode='w' encoding='UTF-8'>\n",
            "<_io.TextIOWrapper name='drive/MyDrive/sample/normal/7132_18990.txt' mode='w' encoding='UTF-8'>\n",
            "<_io.TextIOWrapper name='drive/MyDrive/sample/sa/7132_19020.txt' mode='w' encoding='UTF-8'>\n",
            "<_io.TextIOWrapper name='drive/MyDrive/sample/normal/7132_19050.txt' mode='w' encoding='UTF-8'>\n",
            "<_io.TextIOWrapper name='drive/MyDrive/sample/sa/7132_19080.txt' mode='w' encoding='UTF-8'>\n",
            "<_io.TextIOWrapper name='drive/MyDrive/sample/sa/7132_19110.txt' mode='w' encoding='UTF-8'>\n",
            "<_io.TextIOWrapper name='drive/MyDrive/sample/sa/7132_19140.txt' mode='w' encoding='UTF-8'>\n",
            "<_io.TextIOWrapper name='drive/MyDrive/sample/normal/7132_19170.txt' mode='w' encoding='UTF-8'>\n",
            "<_io.TextIOWrapper name='drive/MyDrive/sample/sa/7132_19200.txt' mode='w' encoding='UTF-8'>\n",
            "<_io.TextIOWrapper name='drive/MyDrive/sample/normal/7132_19230.txt' mode='w' encoding='UTF-8'>\n",
            "<_io.TextIOWrapper name='drive/MyDrive/sample/normal/7132_19260.txt' mode='w' encoding='UTF-8'>\n",
            "<_io.TextIOWrapper name='drive/MyDrive/sample/normal/7132_19290.txt' mode='w' encoding='UTF-8'>\n",
            "<_io.TextIOWrapper name='drive/MyDrive/sample/normal/7132_19320.txt' mode='w' encoding='UTF-8'>\n",
            "<_io.TextIOWrapper name='drive/MyDrive/sample/sa/7132_19350.txt' mode='w' encoding='UTF-8'>\n",
            "<_io.TextIOWrapper name='drive/MyDrive/sample/sa/7132_19380.txt' mode='w' encoding='UTF-8'>\n",
            "<_io.TextIOWrapper name='drive/MyDrive/sample/normal/7132_19410.txt' mode='w' encoding='UTF-8'>\n",
            "<_io.TextIOWrapper name='drive/MyDrive/sample/sa/7132_19440.txt' mode='w' encoding='UTF-8'>\n",
            "<_io.TextIOWrapper name='drive/MyDrive/sample/sa/7132_19470.txt' mode='w' encoding='UTF-8'>\n",
            "<_io.TextIOWrapper name='drive/MyDrive/sample/normal/7132_19500.txt' mode='w' encoding='UTF-8'>\n",
            "<_io.TextIOWrapper name='drive/MyDrive/sample/sa/7132_19530.txt' mode='w' encoding='UTF-8'>\n",
            "<_io.TextIOWrapper name='drive/MyDrive/sample/sa/7132_19560.txt' mode='w' encoding='UTF-8'>\n",
            "<_io.TextIOWrapper name='drive/MyDrive/sample/normal/7132_19590.txt' mode='w' encoding='UTF-8'>\n",
            "<_io.TextIOWrapper name='drive/MyDrive/sample/normal/7132_19620.txt' mode='w' encoding='UTF-8'>\n",
            "<_io.TextIOWrapper name='drive/MyDrive/sample/sa/7132_19650.txt' mode='w' encoding='UTF-8'>\n",
            "<_io.TextIOWrapper name='drive/MyDrive/sample/sa/7132_19680.txt' mode='w' encoding='UTF-8'>\n",
            "<_io.TextIOWrapper name='drive/MyDrive/sample/normal/7132_19710.txt' mode='w' encoding='UTF-8'>\n",
            "<_io.TextIOWrapper name='drive/MyDrive/sample/sa/7132_19740.txt' mode='w' encoding='UTF-8'>\n",
            "<_io.TextIOWrapper name='drive/MyDrive/sample/sa/7132_19770.txt' mode='w' encoding='UTF-8'>\n",
            "<_io.TextIOWrapper name='drive/MyDrive/sample/normal/7132_19800.txt' mode='w' encoding='UTF-8'>\n",
            "<_io.TextIOWrapper name='drive/MyDrive/sample/sa/7132_19830.txt' mode='w' encoding='UTF-8'>\n",
            "<_io.TextIOWrapper name='drive/MyDrive/sample/sa/7132_19860.txt' mode='w' encoding='UTF-8'>\n",
            "<_io.TextIOWrapper name='drive/MyDrive/sample/normal/7132_19890.txt' mode='w' encoding='UTF-8'>\n",
            "<_io.TextIOWrapper name='drive/MyDrive/sample/normal/7132_19920.txt' mode='w' encoding='UTF-8'>\n",
            "<_io.TextIOWrapper name='drive/MyDrive/sample/normal/7132_19950.txt' mode='w' encoding='UTF-8'>\n",
            "<_io.TextIOWrapper name='drive/MyDrive/sample/sa/7132_19980.txt' mode='w' encoding='UTF-8'>\n",
            "<_io.TextIOWrapper name='drive/MyDrive/sample/sa/7132_20010.txt' mode='w' encoding='UTF-8'>\n",
            "<_io.TextIOWrapper name='drive/MyDrive/sample/sa/7132_20040.txt' mode='w' encoding='UTF-8'>\n",
            "<_io.TextIOWrapper name='drive/MyDrive/sample/normal/7132_20070.txt' mode='w' encoding='UTF-8'>\n",
            "<_io.TextIOWrapper name='drive/MyDrive/sample/normal/7132_20100.txt' mode='w' encoding='UTF-8'>\n",
            "<_io.TextIOWrapper name='drive/MyDrive/sample/sa/7132_20130.txt' mode='w' encoding='UTF-8'>\n",
            "<_io.TextIOWrapper name='drive/MyDrive/sample/normal/7132_20160.txt' mode='w' encoding='UTF-8'>\n",
            "<_io.TextIOWrapper name='drive/MyDrive/sample/sa/7132_20190.txt' mode='w' encoding='UTF-8'>\n",
            "<_io.TextIOWrapper name='drive/MyDrive/sample/sa/7132_20220.txt' mode='w' encoding='UTF-8'>\n",
            "<_io.TextIOWrapper name='drive/MyDrive/sample/sa/7132_20250.txt' mode='w' encoding='UTF-8'>\n",
            "<_io.TextIOWrapper name='drive/MyDrive/sample/normal/7132_20280.txt' mode='w' encoding='UTF-8'>\n",
            "<_io.TextIOWrapper name='drive/MyDrive/sample/normal/7132_20310.txt' mode='w' encoding='UTF-8'>\n",
            "<_io.TextIOWrapper name='drive/MyDrive/sample/sa/7132_20340.txt' mode='w' encoding='UTF-8'>\n",
            "<_io.TextIOWrapper name='drive/MyDrive/sample/sa/7132_20370.txt' mode='w' encoding='UTF-8'>\n",
            "<_io.TextIOWrapper name='drive/MyDrive/sample/normal/7132_20400.txt' mode='w' encoding='UTF-8'>\n",
            "<_io.TextIOWrapper name='drive/MyDrive/sample/sa/7132_20430.txt' mode='w' encoding='UTF-8'>\n",
            "<_io.TextIOWrapper name='drive/MyDrive/sample/normal/7132_20460.txt' mode='w' encoding='UTF-8'>\n",
            "<_io.TextIOWrapper name='drive/MyDrive/sample/normal/7132_20490.txt' mode='w' encoding='UTF-8'>\n",
            "<_io.TextIOWrapper name='drive/MyDrive/sample/sa/7132_20520.txt' mode='w' encoding='UTF-8'>\n",
            "<_io.TextIOWrapper name='drive/MyDrive/sample/sa/7132_20550.txt' mode='w' encoding='UTF-8'>\n",
            "<_io.TextIOWrapper name='drive/MyDrive/sample/sa/7132_20580.txt' mode='w' encoding='UTF-8'>\n",
            "<_io.TextIOWrapper name='drive/MyDrive/sample/normal/7132_20610.txt' mode='w' encoding='UTF-8'>\n",
            "<_io.TextIOWrapper name='drive/MyDrive/sample/sa/7132_20640.txt' mode='w' encoding='UTF-8'>\n",
            "<_io.TextIOWrapper name='drive/MyDrive/sample/sa/7132_20670.txt' mode='w' encoding='UTF-8'>\n",
            "<_io.TextIOWrapper name='drive/MyDrive/sample/sa/7132_20700.txt' mode='w' encoding='UTF-8'>\n",
            "<_io.TextIOWrapper name='drive/MyDrive/sample/normal/7132_20730.txt' mode='w' encoding='UTF-8'>\n",
            "<_io.TextIOWrapper name='drive/MyDrive/sample/sa/7132_20760.txt' mode='w' encoding='UTF-8'>\n",
            "<_io.TextIOWrapper name='drive/MyDrive/sample/normal/7132_20790.txt' mode='w' encoding='UTF-8'>\n",
            "<_io.TextIOWrapper name='drive/MyDrive/sample/sa/7132_20820.txt' mode='w' encoding='UTF-8'>\n",
            "<_io.TextIOWrapper name='drive/MyDrive/sample/sa/7132_20850.txt' mode='w' encoding='UTF-8'>\n",
            "<_io.TextIOWrapper name='drive/MyDrive/sample/sa/7132_20880.txt' mode='w' encoding='UTF-8'>\n",
            "<_io.TextIOWrapper name='drive/MyDrive/sample/sa/7132_20910.txt' mode='w' encoding='UTF-8'>\n",
            "<_io.TextIOWrapper name='drive/MyDrive/sample/sa/7132_20940.txt' mode='w' encoding='UTF-8'>\n",
            "<_io.TextIOWrapper name='drive/MyDrive/sample/sa/7132_20970.txt' mode='w' encoding='UTF-8'>\n",
            "<_io.TextIOWrapper name='drive/MyDrive/sample/sa/7132_21000.txt' mode='w' encoding='UTF-8'>\n",
            "<_io.TextIOWrapper name='drive/MyDrive/sample/sa/7132_21030.txt' mode='w' encoding='UTF-8'>\n",
            "<_io.TextIOWrapper name='drive/MyDrive/sample/normal/7132_21060.txt' mode='w' encoding='UTF-8'>\n",
            "<_io.TextIOWrapper name='drive/MyDrive/sample/sa/7132_21090.txt' mode='w' encoding='UTF-8'>\n",
            "<_io.TextIOWrapper name='drive/MyDrive/sample/sa/7132_21120.txt' mode='w' encoding='UTF-8'>\n",
            "<_io.TextIOWrapper name='drive/MyDrive/sample/normal/7132_21150.txt' mode='w' encoding='UTF-8'>\n",
            "<_io.TextIOWrapper name='drive/MyDrive/sample/normal/7132_21180.txt' mode='w' encoding='UTF-8'>\n",
            "<_io.TextIOWrapper name='drive/MyDrive/sample/normal/7132_21210.txt' mode='w' encoding='UTF-8'>\n",
            "<_io.TextIOWrapper name='drive/MyDrive/sample/normal/7132_21240.txt' mode='w' encoding='UTF-8'>\n",
            "<_io.TextIOWrapper name='drive/MyDrive/sample/normal/7132_21270.txt' mode='w' encoding='UTF-8'>\n",
            "<_io.TextIOWrapper name='drive/MyDrive/sample/normal/7132_21300.txt' mode='w' encoding='UTF-8'>\n",
            "<_io.TextIOWrapper name='drive/MyDrive/sample/normal/7132_21330.txt' mode='w' encoding='UTF-8'>\n",
            "<_io.TextIOWrapper name='drive/MyDrive/sample/sa/7132_21360.txt' mode='w' encoding='UTF-8'>\n",
            "<_io.TextIOWrapper name='drive/MyDrive/sample/sa/7132_21390.txt' mode='w' encoding='UTF-8'>\n",
            "<_io.TextIOWrapper name='drive/MyDrive/sample/sa/7132_21420.txt' mode='w' encoding='UTF-8'>\n",
            "<_io.TextIOWrapper name='drive/MyDrive/sample/sa/7132_21450.txt' mode='w' encoding='UTF-8'>\n",
            "<_io.TextIOWrapper name='drive/MyDrive/sample/sa/7132_21480.txt' mode='w' encoding='UTF-8'>\n",
            "<_io.TextIOWrapper name='drive/MyDrive/sample/sa/7132_21510.txt' mode='w' encoding='UTF-8'>\n",
            "<_io.TextIOWrapper name='drive/MyDrive/sample/sa/7132_21540.txt' mode='w' encoding='UTF-8'>\n",
            "<_io.TextIOWrapper name='drive/MyDrive/sample/normal/7132_21570.txt' mode='w' encoding='UTF-8'>\n",
            "<_io.TextIOWrapper name='drive/MyDrive/sample/sa/7132_21600.txt' mode='w' encoding='UTF-8'>\n",
            "<_io.TextIOWrapper name='drive/MyDrive/sample/normal/7132_21630.txt' mode='w' encoding='UTF-8'>\n",
            "<_io.TextIOWrapper name='drive/MyDrive/sample/sa/7132_21660.txt' mode='w' encoding='UTF-8'>\n",
            "<_io.TextIOWrapper name='drive/MyDrive/sample/normal/7132_21690.txt' mode='w' encoding='UTF-8'>\n",
            "<_io.TextIOWrapper name='drive/MyDrive/sample/normal/7132_21720.txt' mode='w' encoding='UTF-8'>\n",
            "<_io.TextIOWrapper name='drive/MyDrive/sample/sa/7132_21750.txt' mode='w' encoding='UTF-8'>\n",
            "<_io.TextIOWrapper name='drive/MyDrive/sample/normal/7132_21780.txt' mode='w' encoding='UTF-8'>\n",
            "<_io.TextIOWrapper name='drive/MyDrive/sample/sa/7132_21810.txt' mode='w' encoding='UTF-8'>\n",
            "<_io.TextIOWrapper name='drive/MyDrive/sample/sa/7132_21840.txt' mode='w' encoding='UTF-8'>\n",
            "<_io.TextIOWrapper name='drive/MyDrive/sample/normal/7132_21870.txt' mode='w' encoding='UTF-8'>\n",
            "<_io.TextIOWrapper name='drive/MyDrive/sample/sa/7132_21900.txt' mode='w' encoding='UTF-8'>\n",
            "<_io.TextIOWrapper name='drive/MyDrive/sample/normal/7132_21930.txt' mode='w' encoding='UTF-8'>\n",
            "<_io.TextIOWrapper name='drive/MyDrive/sample/normal/7132_21960.txt' mode='w' encoding='UTF-8'>\n",
            "<_io.TextIOWrapper name='drive/MyDrive/sample/sa/7132_21990.txt' mode='w' encoding='UTF-8'>\n",
            "<_io.TextIOWrapper name='drive/MyDrive/sample/sa/7132_22020.txt' mode='w' encoding='UTF-8'>\n",
            "<_io.TextIOWrapper name='drive/MyDrive/sample/normal/7132_22050.txt' mode='w' encoding='UTF-8'>\n",
            "<_io.TextIOWrapper name='drive/MyDrive/sample/sa/7132_22080.txt' mode='w' encoding='UTF-8'>\n",
            "<_io.TextIOWrapper name='drive/MyDrive/sample/normal/7132_22110.txt' mode='w' encoding='UTF-8'>\n",
            "<_io.TextIOWrapper name='drive/MyDrive/sample/normal/7132_22140.txt' mode='w' encoding='UTF-8'>\n",
            "<_io.TextIOWrapper name='drive/MyDrive/sample/normal/7132_22170.txt' mode='w' encoding='UTF-8'>\n",
            "<_io.TextIOWrapper name='drive/MyDrive/sample/normal/7132_22200.txt' mode='w' encoding='UTF-8'>\n",
            "<_io.TextIOWrapper name='drive/MyDrive/sample/normal/7132_22230.txt' mode='w' encoding='UTF-8'>\n",
            "<_io.TextIOWrapper name='drive/MyDrive/sample/normal/7132_22260.txt' mode='w' encoding='UTF-8'>\n",
            "<_io.TextIOWrapper name='drive/MyDrive/sample/sa/7132_22290.txt' mode='w' encoding='UTF-8'>\n",
            "<_io.TextIOWrapper name='drive/MyDrive/sample/sa/7132_22320.txt' mode='w' encoding='UTF-8'>\n",
            "<_io.TextIOWrapper name='drive/MyDrive/sample/sa/7132_22350.txt' mode='w' encoding='UTF-8'>\n",
            "<_io.TextIOWrapper name='drive/MyDrive/sample/normal/7132_22380.txt' mode='w' encoding='UTF-8'>\n",
            "<_io.TextIOWrapper name='drive/MyDrive/sample/normal/7132_22410.txt' mode='w' encoding='UTF-8'>\n",
            "<_io.TextIOWrapper name='drive/MyDrive/sample/sa/7132_22440.txt' mode='w' encoding='UTF-8'>\n",
            "<_io.TextIOWrapper name='drive/MyDrive/sample/normal/7132_22470.txt' mode='w' encoding='UTF-8'>\n",
            "<_io.TextIOWrapper name='drive/MyDrive/sample/sa/7132_22500.txt' mode='w' encoding='UTF-8'>\n",
            "<_io.TextIOWrapper name='drive/MyDrive/sample/sa/7132_22530.txt' mode='w' encoding='UTF-8'>\n",
            "<_io.TextIOWrapper name='drive/MyDrive/sample/normal/7132_22560.txt' mode='w' encoding='UTF-8'>\n",
            "<_io.TextIOWrapper name='drive/MyDrive/sample/sa/7132_22590.txt' mode='w' encoding='UTF-8'>\n",
            "<_io.TextIOWrapper name='drive/MyDrive/sample/sa/7132_22620.txt' mode='w' encoding='UTF-8'>\n",
            "<_io.TextIOWrapper name='drive/MyDrive/sample/sa/7132_22650.txt' mode='w' encoding='UTF-8'>\n",
            "<_io.TextIOWrapper name='drive/MyDrive/sample/normal/7132_22680.txt' mode='w' encoding='UTF-8'>\n",
            "<_io.TextIOWrapper name='drive/MyDrive/sample/sa/7132_22710.txt' mode='w' encoding='UTF-8'>\n",
            "<_io.TextIOWrapper name='drive/MyDrive/sample/sa/7132_22740.txt' mode='w' encoding='UTF-8'>\n"
          ]
        },
        {
          "ename": "KeyboardInterrupt",
          "evalue": "ignored",
          "output_type": "error",
          "traceback": [
            "\u001b[0;31m---------------------------------------------------------------------------\u001b[0m",
            "\u001b[0;31mKeyboardInterrupt\u001b[0m                         Traceback (most recent call last)",
            "\u001b[0;32m<ipython-input-9-4213178f9d63>\u001b[0m in \u001b[0;36m<module>\u001b[0;34m\u001b[0m\n\u001b[1;32m      7\u001b[0m \u001b[0;34m\u001b[0m\u001b[0m\n\u001b[1;32m      8\u001b[0m   \u001b[0mmakeDirectory\u001b[0m\u001b[0;34m(\u001b[0m\u001b[0mwords\u001b[0m\u001b[0;34m)\u001b[0m\u001b[0;34m\u001b[0m\u001b[0;34m\u001b[0m\u001b[0m\n\u001b[0;32m----> 9\u001b[0;31m   \u001b[0mpecahSatu\u001b[0m\u001b[0;34m(\u001b[0m\u001b[0mdir\u001b[0m\u001b[0;34m,\u001b[0m \u001b[0mwords\u001b[0m\u001b[0;34m)\u001b[0m\u001b[0;34m\u001b[0m\u001b[0;34m\u001b[0m\u001b[0m\n\u001b[0m\u001b[1;32m     10\u001b[0m \u001b[0;34m\u001b[0m\u001b[0m\n\u001b[1;32m     11\u001b[0m \u001b[0mget_ipython\u001b[0m\u001b[0;34m(\u001b[0m\u001b[0;34m)\u001b[0m\u001b[0;34m.\u001b[0m\u001b[0msystem\u001b[0m\u001b[0;34m(\u001b[0m\u001b[0;34m\"ls '/content/drive/MyDrive/sample'\"\u001b[0m\u001b[0;34m)\u001b[0m\u001b[0;34m\u001b[0m\u001b[0;34m\u001b[0m\u001b[0m\n",
            "\u001b[0;32m<ipython-input-8-8f9e5b18f5c8>\u001b[0m in \u001b[0;36mpecahSatu\u001b[0;34m(filepath, labels)\u001b[0m\n\u001b[1;32m     24\u001b[0m \u001b[0;34m\u001b[0m\u001b[0m\n\u001b[1;32m     25\u001b[0m       \u001b[0;31m# print(recording)\u001b[0m\u001b[0;34m\u001b[0m\u001b[0;34m\u001b[0m\u001b[0m\n\u001b[0;32m---> 26\u001b[0;31m       \u001b[0;32mwith\u001b[0m \u001b[0mopen\u001b[0m\u001b[0;34m(\u001b[0m\u001b[0;34mf'drive/MyDrive/sample/{label}/{title}.txt'\u001b[0m\u001b[0;34m,\u001b[0m \u001b[0;34m'w'\u001b[0m\u001b[0;34m)\u001b[0m \u001b[0;32mas\u001b[0m \u001b[0mfile\u001b[0m\u001b[0;34m:\u001b[0m\u001b[0;34m\u001b[0m\u001b[0;34m\u001b[0m\u001b[0m\n\u001b[0m\u001b[1;32m     27\u001b[0m           \u001b[0mfile\u001b[0m\u001b[0;34m.\u001b[0m\u001b[0mwritelines\u001b[0m\u001b[0;34m(\u001b[0m\u001b[0mrecording\u001b[0m\u001b[0;34m)\u001b[0m\u001b[0;34m\u001b[0m\u001b[0;34m\u001b[0m\u001b[0m\n\u001b[1;32m     28\u001b[0m           \u001b[0;31m# print({folder}+'/'+{title}+'.txt')\u001b[0m\u001b[0;34m\u001b[0m\u001b[0;34m\u001b[0m\u001b[0m\n",
            "\u001b[0;32m/usr/lib/python3.9/_bootlocale.py\u001b[0m in \u001b[0;36mgetpreferredencoding\u001b[0;34m(do_setlocale)\u001b[0m\n\u001b[1;32m     31\u001b[0m                 \u001b[0;32mreturn\u001b[0m \u001b[0mlocale\u001b[0m\u001b[0;34m.\u001b[0m\u001b[0mgetpreferredencoding\u001b[0m\u001b[0;34m(\u001b[0m\u001b[0mdo_setlocale\u001b[0m\u001b[0;34m)\u001b[0m\u001b[0;34m\u001b[0m\u001b[0;34m\u001b[0m\u001b[0m\n\u001b[1;32m     32\u001b[0m     \u001b[0;32melse\u001b[0m\u001b[0;34m:\u001b[0m\u001b[0;34m\u001b[0m\u001b[0;34m\u001b[0m\u001b[0m\n\u001b[0;32m---> 33\u001b[0;31m         \u001b[0;32mdef\u001b[0m \u001b[0mgetpreferredencoding\u001b[0m\u001b[0;34m(\u001b[0m\u001b[0mdo_setlocale\u001b[0m\u001b[0;34m=\u001b[0m\u001b[0;32mTrue\u001b[0m\u001b[0;34m)\u001b[0m\u001b[0;34m:\u001b[0m\u001b[0;34m\u001b[0m\u001b[0;34m\u001b[0m\u001b[0m\n\u001b[0m\u001b[1;32m     34\u001b[0m             \u001b[0;32massert\u001b[0m \u001b[0;32mnot\u001b[0m \u001b[0mdo_setlocale\u001b[0m\u001b[0;34m\u001b[0m\u001b[0;34m\u001b[0m\u001b[0m\n\u001b[1;32m     35\u001b[0m             \u001b[0;32mif\u001b[0m \u001b[0msys\u001b[0m\u001b[0;34m.\u001b[0m\u001b[0mflags\u001b[0m\u001b[0;34m.\u001b[0m\u001b[0mutf8_mode\u001b[0m\u001b[0;34m:\u001b[0m\u001b[0;34m\u001b[0m\u001b[0;34m\u001b[0m\u001b[0m\n",
            "\u001b[0;31mKeyboardInterrupt\u001b[0m: "
          ]
        }
      ],
      "source": [
        "import random\n",
        "\n",
        "eeg_vec_dir = tf.io.gfile.glob(str(vector_dir) +'*.txt')\n",
        "sample_dir = \"/content/drive/MyDrive/dataset/sample/\"\n",
        "\n",
        "\n",
        "for dir in eeg_vec_dir:\n",
        "  words = [\"sa\", \"normal\"]\n",
        "\n",
        "  makeDirectory(words)\n",
        "  pecahSatu(dir, words)"
      ]
    },
    {
      "cell_type": "markdown",
      "metadata": {
        "id": "rv1ZODcbtUe_"
      },
      "source": [
        "### Single Files"
      ]
    },
    {
      "cell_type": "code",
      "execution_count": null,
      "metadata": {
        "id": "JbazD8NtnQXJ"
      },
      "outputs": [],
      "source": [
        "import random\n",
        "\n",
        "sample_dir = \"/content/drive/MyDrive/dataset/sample\"\n",
        "labels = [\"sa\", \"normal\"]"
      ]
    },
    {
      "cell_type": "code",
      "execution_count": null,
      "metadata": {
        "colab": {
          "base_uri": "https://localhost:8080/"
        },
        "id": "x1splIRUuBG_",
        "outputId": "0e54aecf-ce8a-4859-b3e1-78dd142eec10"
      },
      "outputs": [
        {
          "name": "stdout",
          "output_type": "stream",
          "text": [
            "b'/content/drive/MyDrive/dataset/eeg/61-sleep-edf/Vector/Vector_7071.txt'\n",
            "Created directory for sa\n",
            "Created directory for normal\n",
            "Saved recording to /content/drive/MyDrive/dataset/sample/sa/sa_7071_30.txt\n",
            "Saved recording to /content/drive/MyDrive/dataset/sample/normal/normal_7071_60.txt\n",
            "Saved recording to /content/drive/MyDrive/dataset/sample/normal/normal_7071_90.txt\n",
            "Saved recording to /content/drive/MyDrive/dataset/sample/sa/sa_7071_120.txt\n",
            "Saved recording to /content/drive/MyDrive/dataset/sample/normal/normal_7071_150.txt\n",
            "Saved recording to /content/drive/MyDrive/dataset/sample/sa/sa_7071_180.txt\n",
            "Saved recording to /content/drive/MyDrive/dataset/sample/normal/normal_7071_210.txt\n",
            "Saved recording to /content/drive/MyDrive/dataset/sample/sa/sa_7071_240.txt\n",
            "Saved recording to /content/drive/MyDrive/dataset/sample/normal/normal_7071_270.txt\n",
            "Saved recording to /content/drive/MyDrive/dataset/sample/normal/normal_7071_300.txt\n",
            "Saved recording to /content/drive/MyDrive/dataset/sample/sa/sa_7071_330.txt\n",
            "Saved recording to /content/drive/MyDrive/dataset/sample/normal/normal_7071_360.txt\n",
            "Saved recording to /content/drive/MyDrive/dataset/sample/normal/normal_7071_390.txt\n",
            "Saved recording to /content/drive/MyDrive/dataset/sample/sa/sa_7071_420.txt\n",
            "Saved recording to /content/drive/MyDrive/dataset/sample/normal/normal_7071_450.txt\n",
            "Saved recording to /content/drive/MyDrive/dataset/sample/normal/normal_7071_480.txt\n",
            "Saved recording to /content/drive/MyDrive/dataset/sample/normal/normal_7071_510.txt\n",
            "Saved recording to /content/drive/MyDrive/dataset/sample/normal/normal_7071_540.txt\n",
            "Saved recording to /content/drive/MyDrive/dataset/sample/normal/normal_7071_570.txt\n",
            "Saved recording to /content/drive/MyDrive/dataset/sample/normal/normal_7071_600.txt\n",
            "Saved recording to /content/drive/MyDrive/dataset/sample/sa/sa_7071_630.txt\n",
            "Saved recording to /content/drive/MyDrive/dataset/sample/sa/sa_7071_660.txt\n",
            "Saved recording to /content/drive/MyDrive/dataset/sample/normal/normal_7071_690.txt\n",
            "Saved recording to /content/drive/MyDrive/dataset/sample/normal/normal_7071_720.txt\n",
            "Saved recording to /content/drive/MyDrive/dataset/sample/normal/normal_7071_750.txt\n",
            "Saved recording to /content/drive/MyDrive/dataset/sample/normal/normal_7071_780.txt\n",
            "Saved recording to /content/drive/MyDrive/dataset/sample/sa/sa_7071_810.txt\n",
            "Saved recording to /content/drive/MyDrive/dataset/sample/normal/normal_7071_840.txt\n",
            "Saved recording to /content/drive/MyDrive/dataset/sample/normal/normal_7071_870.txt\n",
            "Saved recording to /content/drive/MyDrive/dataset/sample/normal/normal_7071_900.txt\n",
            "Saved recording to /content/drive/MyDrive/dataset/sample/sa/sa_7071_930.txt\n",
            "Saved recording to /content/drive/MyDrive/dataset/sample/sa/sa_7071_960.txt\n",
            "Saved recording to /content/drive/MyDrive/dataset/sample/sa/sa_7071_990.txt\n",
            "Saved recording to /content/drive/MyDrive/dataset/sample/sa/sa_7071_1020.txt\n",
            "Saved recording to /content/drive/MyDrive/dataset/sample/normal/normal_7071_1050.txt\n",
            "Saved recording to /content/drive/MyDrive/dataset/sample/normal/normal_7071_1080.txt\n",
            "Saved recording to /content/drive/MyDrive/dataset/sample/sa/sa_7071_1110.txt\n",
            "Saved recording to /content/drive/MyDrive/dataset/sample/normal/normal_7071_1140.txt\n",
            "Saved recording to /content/drive/MyDrive/dataset/sample/sa/sa_7071_1170.txt\n",
            "Saved recording to /content/drive/MyDrive/dataset/sample/sa/sa_7071_1200.txt\n",
            "Saved recording to /content/drive/MyDrive/dataset/sample/normal/normal_7071_1230.txt\n",
            "Saved recording to /content/drive/MyDrive/dataset/sample/normal/normal_7071_1260.txt\n",
            "Saved recording to /content/drive/MyDrive/dataset/sample/sa/sa_7071_1290.txt\n",
            "Saved recording to /content/drive/MyDrive/dataset/sample/normal/normal_7071_1320.txt\n",
            "Saved recording to /content/drive/MyDrive/dataset/sample/sa/sa_7071_1350.txt\n",
            "Saved recording to /content/drive/MyDrive/dataset/sample/sa/sa_7071_1380.txt\n",
            "Saved recording to /content/drive/MyDrive/dataset/sample/sa/sa_7071_1410.txt\n",
            "Saved recording to /content/drive/MyDrive/dataset/sample/sa/sa_7071_1440.txt\n",
            "Saved recording to /content/drive/MyDrive/dataset/sample/sa/sa_7071_1470.txt\n",
            "Saved recording to /content/drive/MyDrive/dataset/sample/normal/normal_7071_1500.txt\n",
            "Saved recording to /content/drive/MyDrive/dataset/sample/sa/sa_7071_1530.txt\n",
            "Saved recording to /content/drive/MyDrive/dataset/sample/sa/sa_7071_1560.txt\n",
            "Saved recording to /content/drive/MyDrive/dataset/sample/normal/normal_7071_1590.txt\n",
            "Saved recording to /content/drive/MyDrive/dataset/sample/sa/sa_7071_1620.txt\n",
            "Saved recording to /content/drive/MyDrive/dataset/sample/normal/normal_7071_1650.txt\n",
            "Saved recording to /content/drive/MyDrive/dataset/sample/sa/sa_7071_1680.txt\n",
            "Saved recording to /content/drive/MyDrive/dataset/sample/sa/sa_7071_1710.txt\n",
            "Saved recording to /content/drive/MyDrive/dataset/sample/sa/sa_7071_1740.txt\n",
            "Saved recording to /content/drive/MyDrive/dataset/sample/sa/sa_7071_1770.txt\n",
            "Saved recording to /content/drive/MyDrive/dataset/sample/normal/normal_7071_1800.txt\n",
            "Saved recording to /content/drive/MyDrive/dataset/sample/sa/sa_7071_1830.txt\n",
            "Saved recording to /content/drive/MyDrive/dataset/sample/normal/normal_7071_1860.txt\n",
            "Saved recording to /content/drive/MyDrive/dataset/sample/sa/sa_7071_1890.txt\n",
            "Saved recording to /content/drive/MyDrive/dataset/sample/normal/normal_7071_1920.txt\n",
            "Saved recording to /content/drive/MyDrive/dataset/sample/sa/sa_7071_1950.txt\n",
            "Saved recording to /content/drive/MyDrive/dataset/sample/sa/sa_7071_1980.txt\n",
            "Saved recording to /content/drive/MyDrive/dataset/sample/sa/sa_7071_2010.txt\n",
            "Saved recording to /content/drive/MyDrive/dataset/sample/sa/sa_7071_2040.txt\n",
            "Saved recording to /content/drive/MyDrive/dataset/sample/sa/sa_7071_2070.txt\n",
            "Saved recording to /content/drive/MyDrive/dataset/sample/sa/sa_7071_2100.txt\n",
            "Saved recording to /content/drive/MyDrive/dataset/sample/sa/sa_7071_2130.txt\n",
            "Saved recording to /content/drive/MyDrive/dataset/sample/sa/sa_7071_2160.txt\n",
            "Saved recording to /content/drive/MyDrive/dataset/sample/normal/normal_7071_2190.txt\n",
            "Saved recording to /content/drive/MyDrive/dataset/sample/normal/normal_7071_2220.txt\n",
            "Saved recording to /content/drive/MyDrive/dataset/sample/sa/sa_7071_2250.txt\n",
            "Saved recording to /content/drive/MyDrive/dataset/sample/normal/normal_7071_2280.txt\n",
            "Saved recording to /content/drive/MyDrive/dataset/sample/normal/normal_7071_2310.txt\n",
            "Saved recording to /content/drive/MyDrive/dataset/sample/sa/sa_7071_2340.txt\n",
            "Saved recording to /content/drive/MyDrive/dataset/sample/sa/sa_7071_2370.txt\n",
            "Saved recording to /content/drive/MyDrive/dataset/sample/sa/sa_7071_2400.txt\n",
            "Saved recording to /content/drive/MyDrive/dataset/sample/normal/normal_7071_2430.txt\n",
            "Saved recording to /content/drive/MyDrive/dataset/sample/normal/normal_7071_2460.txt\n",
            "Saved recording to /content/drive/MyDrive/dataset/sample/sa/sa_7071_2490.txt\n",
            "Saved recording to /content/drive/MyDrive/dataset/sample/normal/normal_7071_2520.txt\n",
            "Saved recording to /content/drive/MyDrive/dataset/sample/normal/normal_7071_2550.txt\n",
            "Saved recording to /content/drive/MyDrive/dataset/sample/normal/normal_7071_2580.txt\n",
            "Saved recording to /content/drive/MyDrive/dataset/sample/sa/sa_7071_2610.txt\n",
            "Saved recording to /content/drive/MyDrive/dataset/sample/sa/sa_7071_2640.txt\n",
            "Saved recording to /content/drive/MyDrive/dataset/sample/normal/normal_7071_2670.txt\n",
            "Saved recording to /content/drive/MyDrive/dataset/sample/sa/sa_7071_2700.txt\n",
            "Saved recording to /content/drive/MyDrive/dataset/sample/normal/normal_7071_2730.txt\n",
            "Saved recording to /content/drive/MyDrive/dataset/sample/sa/sa_7071_2760.txt\n",
            "Saved recording to /content/drive/MyDrive/dataset/sample/sa/sa_7071_2790.txt\n",
            "Saved recording to /content/drive/MyDrive/dataset/sample/normal/normal_7071_2820.txt\n",
            "Saved recording to /content/drive/MyDrive/dataset/sample/sa/sa_7071_2850.txt\n",
            "Saved recording to /content/drive/MyDrive/dataset/sample/sa/sa_7071_2880.txt\n",
            "Saved recording to /content/drive/MyDrive/dataset/sample/sa/sa_7071_2910.txt\n",
            "Saved recording to /content/drive/MyDrive/dataset/sample/normal/normal_7071_2940.txt\n",
            "Saved recording to /content/drive/MyDrive/dataset/sample/normal/normal_7071_2970.txt\n",
            "Saved recording to /content/drive/MyDrive/dataset/sample/normal/normal_7071_3000.txt\n",
            "Saved recording to /content/drive/MyDrive/dataset/sample/sa/sa_7071_3030.txt\n",
            "Saved recording to /content/drive/MyDrive/dataset/sample/sa/sa_7071_3060.txt\n",
            "Saved recording to /content/drive/MyDrive/dataset/sample/normal/normal_7071_3090.txt\n",
            "Saved recording to /content/drive/MyDrive/dataset/sample/sa/sa_7071_3120.txt\n",
            "Saved recording to /content/drive/MyDrive/dataset/sample/sa/sa_7071_3150.txt\n",
            "Saved recording to /content/drive/MyDrive/dataset/sample/normal/normal_7071_3180.txt\n",
            "Saved recording to /content/drive/MyDrive/dataset/sample/normal/normal_7071_3210.txt\n",
            "Saved recording to /content/drive/MyDrive/dataset/sample/sa/sa_7071_3240.txt\n",
            "Saved recording to /content/drive/MyDrive/dataset/sample/sa/sa_7071_3270.txt\n",
            "Saved recording to /content/drive/MyDrive/dataset/sample/sa/sa_7071_3300.txt\n",
            "Saved recording to /content/drive/MyDrive/dataset/sample/sa/sa_7071_3330.txt\n",
            "Saved recording to /content/drive/MyDrive/dataset/sample/sa/sa_7071_3360.txt\n",
            "Saved recording to /content/drive/MyDrive/dataset/sample/sa/sa_7071_3390.txt\n",
            "Saved recording to /content/drive/MyDrive/dataset/sample/sa/sa_7071_3420.txt\n",
            "Saved recording to /content/drive/MyDrive/dataset/sample/normal/normal_7071_3450.txt\n",
            "Saved recording to /content/drive/MyDrive/dataset/sample/normal/normal_7071_3480.txt\n",
            "Saved recording to /content/drive/MyDrive/dataset/sample/sa/sa_7071_3510.txt\n",
            "Saved recording to /content/drive/MyDrive/dataset/sample/sa/sa_7071_3540.txt\n",
            "Saved recording to /content/drive/MyDrive/dataset/sample/sa/sa_7071_3570.txt\n",
            "Saved recording to /content/drive/MyDrive/dataset/sample/sa/sa_7071_3600.txt\n",
            "Saved recording to /content/drive/MyDrive/dataset/sample/normal/normal_7071_3630.txt\n",
            "Saved recording to /content/drive/MyDrive/dataset/sample/normal/normal_7071_3660.txt\n",
            "Saved recording to /content/drive/MyDrive/dataset/sample/normal/normal_7071_3690.txt\n",
            "Saved recording to /content/drive/MyDrive/dataset/sample/sa/sa_7071_3720.txt\n",
            "Saved recording to /content/drive/MyDrive/dataset/sample/sa/sa_7071_3750.txt\n",
            "Saved recording to /content/drive/MyDrive/dataset/sample/normal/normal_7071_3780.txt\n",
            "Saved recording to /content/drive/MyDrive/dataset/sample/normal/normal_7071_3810.txt\n",
            "Saved recording to /content/drive/MyDrive/dataset/sample/sa/sa_7071_3840.txt\n",
            "Saved recording to /content/drive/MyDrive/dataset/sample/sa/sa_7071_3870.txt\n",
            "Saved recording to /content/drive/MyDrive/dataset/sample/normal/normal_7071_3900.txt\n",
            "Saved recording to /content/drive/MyDrive/dataset/sample/normal/normal_7071_3930.txt\n",
            "Saved recording to /content/drive/MyDrive/dataset/sample/normal/normal_7071_3960.txt\n",
            "Saved recording to /content/drive/MyDrive/dataset/sample/sa/sa_7071_3990.txt\n",
            "Saved recording to /content/drive/MyDrive/dataset/sample/sa/sa_7071_4020.txt\n",
            "Saved recording to /content/drive/MyDrive/dataset/sample/sa/sa_7071_4050.txt\n",
            "Saved recording to /content/drive/MyDrive/dataset/sample/normal/normal_7071_4080.txt\n",
            "Saved recording to /content/drive/MyDrive/dataset/sample/normal/normal_7071_4110.txt\n",
            "Saved recording to /content/drive/MyDrive/dataset/sample/normal/normal_7071_4140.txt\n",
            "Saved recording to /content/drive/MyDrive/dataset/sample/sa/sa_7071_4170.txt\n",
            "Saved recording to /content/drive/MyDrive/dataset/sample/sa/sa_7071_4200.txt\n",
            "Saved recording to /content/drive/MyDrive/dataset/sample/normal/normal_7071_4230.txt\n",
            "Saved recording to /content/drive/MyDrive/dataset/sample/sa/sa_7071_4260.txt\n",
            "Saved recording to /content/drive/MyDrive/dataset/sample/sa/sa_7071_4290.txt\n",
            "Saved recording to /content/drive/MyDrive/dataset/sample/normal/normal_7071_4320.txt\n",
            "Saved recording to /content/drive/MyDrive/dataset/sample/sa/sa_7071_4350.txt\n",
            "Saved recording to /content/drive/MyDrive/dataset/sample/normal/normal_7071_4380.txt\n",
            "Saved recording to /content/drive/MyDrive/dataset/sample/normal/normal_7071_4410.txt\n",
            "Saved recording to /content/drive/MyDrive/dataset/sample/sa/sa_7071_4440.txt\n",
            "Saved recording to /content/drive/MyDrive/dataset/sample/normal/normal_7071_4470.txt\n",
            "Saved recording to /content/drive/MyDrive/dataset/sample/normal/normal_7071_4500.txt\n",
            "Saved recording to /content/drive/MyDrive/dataset/sample/sa/sa_7071_4530.txt\n",
            "Saved recording to /content/drive/MyDrive/dataset/sample/sa/sa_7071_4560.txt\n",
            "Saved recording to /content/drive/MyDrive/dataset/sample/sa/sa_7071_4590.txt\n",
            "Saved recording to /content/drive/MyDrive/dataset/sample/normal/normal_7071_4620.txt\n",
            "Saved recording to /content/drive/MyDrive/dataset/sample/normal/normal_7071_4650.txt\n",
            "Saved recording to /content/drive/MyDrive/dataset/sample/sa/sa_7071_4680.txt\n",
            "Saved recording to /content/drive/MyDrive/dataset/sample/sa/sa_7071_4710.txt\n",
            "Saved recording to /content/drive/MyDrive/dataset/sample/normal/normal_7071_4740.txt\n",
            "Saved recording to /content/drive/MyDrive/dataset/sample/normal/normal_7071_4770.txt\n",
            "Saved recording to /content/drive/MyDrive/dataset/sample/normal/normal_7071_4800.txt\n",
            "Saved recording to /content/drive/MyDrive/dataset/sample/sa/sa_7071_4830.txt\n",
            "Saved recording to /content/drive/MyDrive/dataset/sample/sa/sa_7071_4860.txt\n",
            "Saved recording to /content/drive/MyDrive/dataset/sample/sa/sa_7071_4890.txt\n",
            "Saved recording to /content/drive/MyDrive/dataset/sample/sa/sa_7071_4920.txt\n",
            "Saved recording to /content/drive/MyDrive/dataset/sample/sa/sa_7071_4950.txt\n",
            "Saved recording to /content/drive/MyDrive/dataset/sample/sa/sa_7071_4980.txt\n",
            "Saved recording to /content/drive/MyDrive/dataset/sample/sa/sa_7071_5010.txt\n",
            "Saved recording to /content/drive/MyDrive/dataset/sample/normal/normal_7071_5040.txt\n",
            "Saved recording to /content/drive/MyDrive/dataset/sample/normal/normal_7071_5070.txt\n",
            "Saved recording to /content/drive/MyDrive/dataset/sample/normal/normal_7071_5100.txt\n",
            "Saved recording to /content/drive/MyDrive/dataset/sample/sa/sa_7071_5130.txt\n",
            "Saved recording to /content/drive/MyDrive/dataset/sample/normal/normal_7071_5160.txt\n",
            "Saved recording to /content/drive/MyDrive/dataset/sample/normal/normal_7071_5190.txt\n",
            "Saved recording to /content/drive/MyDrive/dataset/sample/sa/sa_7071_5220.txt\n",
            "Saved recording to /content/drive/MyDrive/dataset/sample/sa/sa_7071_5250.txt\n",
            "Saved recording to /content/drive/MyDrive/dataset/sample/normal/normal_7071_5280.txt\n",
            "Saved recording to /content/drive/MyDrive/dataset/sample/normal/normal_7071_5310.txt\n",
            "Saved recording to /content/drive/MyDrive/dataset/sample/sa/sa_7071_5340.txt\n",
            "Saved recording to /content/drive/MyDrive/dataset/sample/sa/sa_7071_5370.txt\n",
            "Saved recording to /content/drive/MyDrive/dataset/sample/normal/normal_7071_5400.txt\n",
            "Saved recording to /content/drive/MyDrive/dataset/sample/sa/sa_7071_5430.txt\n",
            "Saved recording to /content/drive/MyDrive/dataset/sample/sa/sa_7071_5460.txt\n",
            "Saved recording to /content/drive/MyDrive/dataset/sample/normal/normal_7071_5490.txt\n",
            "Saved recording to /content/drive/MyDrive/dataset/sample/sa/sa_7071_5520.txt\n",
            "Saved recording to /content/drive/MyDrive/dataset/sample/normal/normal_7071_5550.txt\n",
            "Saved recording to /content/drive/MyDrive/dataset/sample/sa/sa_7071_5580.txt\n",
            "Saved recording to /content/drive/MyDrive/dataset/sample/sa/sa_7071_5610.txt\n",
            "Saved recording to /content/drive/MyDrive/dataset/sample/sa/sa_7071_5640.txt\n",
            "Saved recording to /content/drive/MyDrive/dataset/sample/normal/normal_7071_5670.txt\n",
            "Saved recording to /content/drive/MyDrive/dataset/sample/sa/sa_7071_5700.txt\n",
            "Saved recording to /content/drive/MyDrive/dataset/sample/sa/sa_7071_5730.txt\n",
            "Saved recording to /content/drive/MyDrive/dataset/sample/normal/normal_7071_5760.txt\n",
            "Saved recording to /content/drive/MyDrive/dataset/sample/sa/sa_7071_5790.txt\n",
            "Saved recording to /content/drive/MyDrive/dataset/sample/normal/normal_7071_5820.txt\n",
            "Saved recording to /content/drive/MyDrive/dataset/sample/sa/sa_7071_5850.txt\n",
            "Saved recording to /content/drive/MyDrive/dataset/sample/normal/normal_7071_5880.txt\n",
            "Saved recording to /content/drive/MyDrive/dataset/sample/sa/sa_7071_5910.txt\n",
            "Saved recording to /content/drive/MyDrive/dataset/sample/normal/normal_7071_5940.txt\n",
            "Saved recording to /content/drive/MyDrive/dataset/sample/normal/normal_7071_5970.txt\n",
            "Saved recording to /content/drive/MyDrive/dataset/sample/sa/sa_7071_6000.txt\n",
            "Saved recording to /content/drive/MyDrive/dataset/sample/sa/sa_7071_6030.txt\n",
            "Saved recording to /content/drive/MyDrive/dataset/sample/normal/normal_7071_6060.txt\n",
            "Saved recording to /content/drive/MyDrive/dataset/sample/sa/sa_7071_6090.txt\n",
            "Saved recording to /content/drive/MyDrive/dataset/sample/sa/sa_7071_6120.txt\n",
            "Saved recording to /content/drive/MyDrive/dataset/sample/normal/normal_7071_6150.txt\n",
            "Saved recording to /content/drive/MyDrive/dataset/sample/normal/normal_7071_6180.txt\n",
            "Saved recording to /content/drive/MyDrive/dataset/sample/sa/sa_7071_6210.txt\n",
            "Saved recording to /content/drive/MyDrive/dataset/sample/sa/sa_7071_6240.txt\n",
            "Saved recording to /content/drive/MyDrive/dataset/sample/sa/sa_7071_6270.txt\n",
            "Saved recording to /content/drive/MyDrive/dataset/sample/normal/normal_7071_6300.txt\n",
            "Saved recording to /content/drive/MyDrive/dataset/sample/sa/sa_7071_6330.txt\n",
            "Saved recording to /content/drive/MyDrive/dataset/sample/normal/normal_7071_6360.txt\n",
            "Saved recording to /content/drive/MyDrive/dataset/sample/normal/normal_7071_6390.txt\n",
            "Saved recording to /content/drive/MyDrive/dataset/sample/sa/sa_7071_6420.txt\n",
            "Saved recording to /content/drive/MyDrive/dataset/sample/normal/normal_7071_6450.txt\n",
            "Saved recording to /content/drive/MyDrive/dataset/sample/normal/normal_7071_6480.txt\n",
            "Saved recording to /content/drive/MyDrive/dataset/sample/sa/sa_7071_6510.txt\n",
            "Saved recording to /content/drive/MyDrive/dataset/sample/normal/normal_7071_6540.txt\n",
            "Saved recording to /content/drive/MyDrive/dataset/sample/normal/normal_7071_6570.txt\n",
            "Saved recording to /content/drive/MyDrive/dataset/sample/normal/normal_7071_6600.txt\n",
            "Saved recording to /content/drive/MyDrive/dataset/sample/sa/sa_7071_6630.txt\n",
            "Saved recording to /content/drive/MyDrive/dataset/sample/normal/normal_7071_6660.txt\n",
            "Saved recording to /content/drive/MyDrive/dataset/sample/normal/normal_7071_6690.txt\n",
            "Saved recording to /content/drive/MyDrive/dataset/sample/normal/normal_7071_6720.txt\n",
            "Saved recording to /content/drive/MyDrive/dataset/sample/normal/normal_7071_6750.txt\n",
            "Saved recording to /content/drive/MyDrive/dataset/sample/sa/sa_7071_6780.txt\n",
            "Saved recording to /content/drive/MyDrive/dataset/sample/normal/normal_7071_6810.txt\n",
            "Saved recording to /content/drive/MyDrive/dataset/sample/normal/normal_7071_6840.txt\n",
            "Saved recording to /content/drive/MyDrive/dataset/sample/normal/normal_7071_6870.txt\n",
            "Saved recording to /content/drive/MyDrive/dataset/sample/normal/normal_7071_6900.txt\n",
            "Saved recording to /content/drive/MyDrive/dataset/sample/normal/normal_7071_6930.txt\n",
            "Saved recording to /content/drive/MyDrive/dataset/sample/normal/normal_7071_6960.txt\n",
            "Saved recording to /content/drive/MyDrive/dataset/sample/sa/sa_7071_6990.txt\n",
            "Saved recording to /content/drive/MyDrive/dataset/sample/normal/normal_7071_7020.txt\n",
            "Saved recording to /content/drive/MyDrive/dataset/sample/sa/sa_7071_7050.txt\n",
            "Saved recording to /content/drive/MyDrive/dataset/sample/sa/sa_7071_7080.txt\n",
            "Saved recording to /content/drive/MyDrive/dataset/sample/sa/sa_7071_7110.txt\n",
            "Saved recording to /content/drive/MyDrive/dataset/sample/normal/normal_7071_7140.txt\n",
            "Saved recording to /content/drive/MyDrive/dataset/sample/normal/normal_7071_7170.txt\n",
            "Saved recording to /content/drive/MyDrive/dataset/sample/normal/normal_7071_7200.txt\n",
            "Saved recording to /content/drive/MyDrive/dataset/sample/normal/normal_7071_7230.txt\n",
            "Saved recording to /content/drive/MyDrive/dataset/sample/sa/sa_7071_7260.txt\n",
            "Saved recording to /content/drive/MyDrive/dataset/sample/sa/sa_7071_7290.txt\n",
            "Saved recording to /content/drive/MyDrive/dataset/sample/sa/sa_7071_7320.txt\n",
            "Saved recording to /content/drive/MyDrive/dataset/sample/normal/normal_7071_7350.txt\n",
            "Saved recording to /content/drive/MyDrive/dataset/sample/normal/normal_7071_7380.txt\n",
            "Saved recording to /content/drive/MyDrive/dataset/sample/normal/normal_7071_7410.txt\n",
            "Saved recording to /content/drive/MyDrive/dataset/sample/normal/normal_7071_7440.txt\n",
            "Saved recording to /content/drive/MyDrive/dataset/sample/normal/normal_7071_7470.txt\n",
            "Saved recording to /content/drive/MyDrive/dataset/sample/sa/sa_7071_7500.txt\n",
            "Saved recording to /content/drive/MyDrive/dataset/sample/sa/sa_7071_7530.txt\n",
            "Saved recording to /content/drive/MyDrive/dataset/sample/sa/sa_7071_7560.txt\n",
            "Saved recording to /content/drive/MyDrive/dataset/sample/normal/normal_7071_7590.txt\n",
            "Saved recording to /content/drive/MyDrive/dataset/sample/sa/sa_7071_7620.txt\n",
            "Saved recording to /content/drive/MyDrive/dataset/sample/sa/sa_7071_7650.txt\n",
            "Saved recording to /content/drive/MyDrive/dataset/sample/normal/normal_7071_7680.txt\n",
            "Saved recording to /content/drive/MyDrive/dataset/sample/sa/sa_7071_7710.txt\n",
            "Saved recording to /content/drive/MyDrive/dataset/sample/sa/sa_7071_7740.txt\n",
            "Saved recording to /content/drive/MyDrive/dataset/sample/normal/normal_7071_7770.txt\n",
            "Saved recording to /content/drive/MyDrive/dataset/sample/normal/normal_7071_7800.txt\n",
            "Saved recording to /content/drive/MyDrive/dataset/sample/normal/normal_7071_7830.txt\n",
            "Saved recording to /content/drive/MyDrive/dataset/sample/normal/normal_7071_7860.txt\n",
            "Saved recording to /content/drive/MyDrive/dataset/sample/sa/sa_7071_7890.txt\n",
            "Saved recording to /content/drive/MyDrive/dataset/sample/sa/sa_7071_7920.txt\n",
            "Saved recording to /content/drive/MyDrive/dataset/sample/normal/normal_7071_7950.txt\n",
            "Saved recording to /content/drive/MyDrive/dataset/sample/sa/sa_7071_7980.txt\n",
            "Saved recording to /content/drive/MyDrive/dataset/sample/normal/normal_7071_8010.txt\n",
            "Saved recording to /content/drive/MyDrive/dataset/sample/sa/sa_7071_8040.txt\n",
            "Saved recording to /content/drive/MyDrive/dataset/sample/sa/sa_7071_8070.txt\n",
            "Saved recording to /content/drive/MyDrive/dataset/sample/normal/normal_7071_8100.txt\n",
            "Saved recording to /content/drive/MyDrive/dataset/sample/sa/sa_7071_8130.txt\n",
            "Saved recording to /content/drive/MyDrive/dataset/sample/sa/sa_7071_8160.txt\n",
            "Saved recording to /content/drive/MyDrive/dataset/sample/sa/sa_7071_8190.txt\n",
            "Saved recording to /content/drive/MyDrive/dataset/sample/sa/sa_7071_8220.txt\n",
            "Saved recording to /content/drive/MyDrive/dataset/sample/normal/normal_7071_8250.txt\n",
            "Saved recording to /content/drive/MyDrive/dataset/sample/sa/sa_7071_8280.txt\n",
            "Saved recording to /content/drive/MyDrive/dataset/sample/normal/normal_7071_8310.txt\n",
            "Saved recording to /content/drive/MyDrive/dataset/sample/sa/sa_7071_8340.txt\n",
            "Saved recording to /content/drive/MyDrive/dataset/sample/sa/sa_7071_8370.txt\n",
            "Saved recording to /content/drive/MyDrive/dataset/sample/sa/sa_7071_8400.txt\n",
            "Saved recording to /content/drive/MyDrive/dataset/sample/normal/normal_7071_8430.txt\n",
            "Saved recording to /content/drive/MyDrive/dataset/sample/normal/normal_7071_8460.txt\n",
            "Saved recording to /content/drive/MyDrive/dataset/sample/normal/normal_7071_8490.txt\n",
            "Saved recording to /content/drive/MyDrive/dataset/sample/sa/sa_7071_8520.txt\n",
            "Saved recording to /content/drive/MyDrive/dataset/sample/sa/sa_7071_8550.txt\n",
            "Saved recording to /content/drive/MyDrive/dataset/sample/normal/normal_7071_8580.txt\n",
            "Saved recording to /content/drive/MyDrive/dataset/sample/sa/sa_7071_8610.txt\n",
            "Saved recording to /content/drive/MyDrive/dataset/sample/normal/normal_7071_8640.txt\n",
            "Saved recording to /content/drive/MyDrive/dataset/sample/normal/normal_7071_8670.txt\n",
            "Saved recording to /content/drive/MyDrive/dataset/sample/normal/normal_7071_8700.txt\n",
            "Saved recording to /content/drive/MyDrive/dataset/sample/normal/normal_7071_8730.txt\n",
            "Saved recording to /content/drive/MyDrive/dataset/sample/normal/normal_7071_8760.txt\n",
            "Saved recording to /content/drive/MyDrive/dataset/sample/normal/normal_7071_8790.txt\n",
            "Saved recording to /content/drive/MyDrive/dataset/sample/normal/normal_7071_8820.txt\n",
            "Saved recording to /content/drive/MyDrive/dataset/sample/sa/sa_7071_8850.txt\n",
            "Saved recording to /content/drive/MyDrive/dataset/sample/sa/sa_7071_8880.txt\n",
            "Saved recording to /content/drive/MyDrive/dataset/sample/normal/normal_7071_8910.txt\n",
            "Saved recording to /content/drive/MyDrive/dataset/sample/sa/sa_7071_8940.txt\n",
            "Saved recording to /content/drive/MyDrive/dataset/sample/normal/normal_7071_8970.txt\n",
            "Saved recording to /content/drive/MyDrive/dataset/sample/sa/sa_7071_9000.txt\n",
            "Saved recording to /content/drive/MyDrive/dataset/sample/normal/normal_7071_9030.txt\n",
            "Saved recording to /content/drive/MyDrive/dataset/sample/sa/sa_7071_9060.txt\n",
            "Saved recording to /content/drive/MyDrive/dataset/sample/sa/sa_7071_9090.txt\n",
            "Saved recording to /content/drive/MyDrive/dataset/sample/sa/sa_7071_9120.txt\n",
            "Saved recording to /content/drive/MyDrive/dataset/sample/sa/sa_7071_9150.txt\n",
            "Saved recording to /content/drive/MyDrive/dataset/sample/sa/sa_7071_9180.txt\n",
            "Saved recording to /content/drive/MyDrive/dataset/sample/sa/sa_7071_9210.txt\n",
            "Saved recording to /content/drive/MyDrive/dataset/sample/normal/normal_7071_9240.txt\n",
            "Saved recording to /content/drive/MyDrive/dataset/sample/sa/sa_7071_9270.txt\n",
            "Saved recording to /content/drive/MyDrive/dataset/sample/normal/normal_7071_9300.txt\n",
            "Saved recording to /content/drive/MyDrive/dataset/sample/normal/normal_7071_9330.txt\n",
            "Saved recording to /content/drive/MyDrive/dataset/sample/normal/normal_7071_9360.txt\n",
            "Saved recording to /content/drive/MyDrive/dataset/sample/normal/normal_7071_9390.txt\n",
            "Saved recording to /content/drive/MyDrive/dataset/sample/sa/sa_7071_9420.txt\n",
            "Saved recording to /content/drive/MyDrive/dataset/sample/sa/sa_7071_9450.txt\n",
            "Saved recording to /content/drive/MyDrive/dataset/sample/normal/normal_7071_9480.txt\n",
            "Saved recording to /content/drive/MyDrive/dataset/sample/normal/normal_7071_9510.txt\n",
            "Saved recording to /content/drive/MyDrive/dataset/sample/normal/normal_7071_9540.txt\n",
            "Saved recording to /content/drive/MyDrive/dataset/sample/sa/sa_7071_9570.txt\n",
            "Saved recording to /content/drive/MyDrive/dataset/sample/sa/sa_7071_9600.txt\n",
            "Saved recording to /content/drive/MyDrive/dataset/sample/sa/sa_7071_9630.txt\n",
            "Saved recording to /content/drive/MyDrive/dataset/sample/normal/normal_7071_9660.txt\n",
            "Saved recording to /content/drive/MyDrive/dataset/sample/normal/normal_7071_9690.txt\n",
            "Saved recording to /content/drive/MyDrive/dataset/sample/normal/normal_7071_9720.txt\n",
            "Saved recording to /content/drive/MyDrive/dataset/sample/normal/normal_7071_9750.txt\n",
            "Saved recording to /content/drive/MyDrive/dataset/sample/sa/sa_7071_9780.txt\n",
            "Saved recording to /content/drive/MyDrive/dataset/sample/normal/normal_7071_9810.txt\n",
            "Saved recording to /content/drive/MyDrive/dataset/sample/normal/normal_7071_9840.txt\n",
            "Saved recording to /content/drive/MyDrive/dataset/sample/sa/sa_7071_9870.txt\n",
            "Saved recording to /content/drive/MyDrive/dataset/sample/sa/sa_7071_9900.txt\n",
            "Saved recording to /content/drive/MyDrive/dataset/sample/normal/normal_7071_9930.txt\n",
            "Saved recording to /content/drive/MyDrive/dataset/sample/sa/sa_7071_9960.txt\n",
            "Saved recording to /content/drive/MyDrive/dataset/sample/sa/sa_7071_9990.txt\n",
            "Saved recording to /content/drive/MyDrive/dataset/sample/normal/normal_7071_10020.txt\n",
            "Saved recording to /content/drive/MyDrive/dataset/sample/normal/normal_7071_10050.txt\n",
            "Saved recording to /content/drive/MyDrive/dataset/sample/sa/sa_7071_10080.txt\n",
            "Saved recording to /content/drive/MyDrive/dataset/sample/sa/sa_7071_10110.txt\n",
            "Saved recording to /content/drive/MyDrive/dataset/sample/normal/normal_7071_10140.txt\n",
            "Saved recording to /content/drive/MyDrive/dataset/sample/normal/normal_7071_10170.txt\n",
            "Saved recording to /content/drive/MyDrive/dataset/sample/sa/sa_7071_10200.txt\n",
            "Saved recording to /content/drive/MyDrive/dataset/sample/normal/normal_7071_10230.txt\n",
            "Saved recording to /content/drive/MyDrive/dataset/sample/normal/normal_7071_10260.txt\n",
            "Saved recording to /content/drive/MyDrive/dataset/sample/normal/normal_7071_10290.txt\n",
            "Saved recording to /content/drive/MyDrive/dataset/sample/normal/normal_7071_10320.txt\n",
            "Saved recording to /content/drive/MyDrive/dataset/sample/normal/normal_7071_10350.txt\n",
            "Saved recording to /content/drive/MyDrive/dataset/sample/normal/normal_7071_10380.txt\n",
            "Saved recording to /content/drive/MyDrive/dataset/sample/sa/sa_7071_10410.txt\n",
            "Saved recording to /content/drive/MyDrive/dataset/sample/sa/sa_7071_10440.txt\n",
            "Saved recording to /content/drive/MyDrive/dataset/sample/sa/sa_7071_10470.txt\n",
            "Saved recording to /content/drive/MyDrive/dataset/sample/sa/sa_7071_10500.txt\n",
            "Saved recording to /content/drive/MyDrive/dataset/sample/normal/normal_7071_10530.txt\n",
            "Saved recording to /content/drive/MyDrive/dataset/sample/sa/sa_7071_10560.txt\n",
            "Saved recording to /content/drive/MyDrive/dataset/sample/normal/normal_7071_10590.txt\n",
            "Saved recording to /content/drive/MyDrive/dataset/sample/sa/sa_7071_10620.txt\n",
            "Saved recording to /content/drive/MyDrive/dataset/sample/sa/sa_7071_10650.txt\n",
            "Saved recording to /content/drive/MyDrive/dataset/sample/sa/sa_7071_10680.txt\n",
            "Saved recording to /content/drive/MyDrive/dataset/sample/sa/sa_7071_10710.txt\n",
            "Saved recording to /content/drive/MyDrive/dataset/sample/sa/sa_7071_10740.txt\n",
            "Saved recording to /content/drive/MyDrive/dataset/sample/normal/normal_7071_10770.txt\n",
            "Saved recording to /content/drive/MyDrive/dataset/sample/sa/sa_7071_10800.txt\n",
            "Saved recording to /content/drive/MyDrive/dataset/sample/sa/sa_7071_10830.txt\n",
            "Saved recording to /content/drive/MyDrive/dataset/sample/sa/sa_7071_10860.txt\n",
            "Saved recording to /content/drive/MyDrive/dataset/sample/normal/normal_7071_10890.txt\n",
            "Saved recording to /content/drive/MyDrive/dataset/sample/sa/sa_7071_10920.txt\n",
            "Saved recording to /content/drive/MyDrive/dataset/sample/sa/sa_7071_10950.txt\n",
            "Saved recording to /content/drive/MyDrive/dataset/sample/sa/sa_7071_10980.txt\n",
            "Saved recording to /content/drive/MyDrive/dataset/sample/normal/normal_7071_11010.txt\n",
            "Saved recording to /content/drive/MyDrive/dataset/sample/sa/sa_7071_11040.txt\n",
            "Saved recording to /content/drive/MyDrive/dataset/sample/normal/normal_7071_11070.txt\n",
            "Saved recording to /content/drive/MyDrive/dataset/sample/sa/sa_7071_11100.txt\n",
            "Saved recording to /content/drive/MyDrive/dataset/sample/sa/sa_7071_11130.txt\n",
            "Saved recording to /content/drive/MyDrive/dataset/sample/sa/sa_7071_11160.txt\n",
            "Saved recording to /content/drive/MyDrive/dataset/sample/sa/sa_7071_11190.txt\n",
            "Saved recording to /content/drive/MyDrive/dataset/sample/sa/sa_7071_11220.txt\n",
            "Saved recording to /content/drive/MyDrive/dataset/sample/normal/normal_7071_11250.txt\n",
            "Saved recording to /content/drive/MyDrive/dataset/sample/normal/normal_7071_11280.txt\n",
            "Saved recording to /content/drive/MyDrive/dataset/sample/normal/normal_7071_11310.txt\n",
            "Saved recording to /content/drive/MyDrive/dataset/sample/normal/normal_7071_11340.txt\n",
            "Saved recording to /content/drive/MyDrive/dataset/sample/normal/normal_7071_11370.txt\n",
            "Saved recording to /content/drive/MyDrive/dataset/sample/normal/normal_7071_11400.txt\n",
            "Saved recording to /content/drive/MyDrive/dataset/sample/normal/normal_7071_11430.txt\n",
            "Saved recording to /content/drive/MyDrive/dataset/sample/normal/normal_7071_11460.txt\n",
            "Saved recording to /content/drive/MyDrive/dataset/sample/normal/normal_7071_11490.txt\n",
            "Saved recording to /content/drive/MyDrive/dataset/sample/normal/normal_7071_11520.txt\n",
            "Saved recording to /content/drive/MyDrive/dataset/sample/sa/sa_7071_11550.txt\n",
            "Saved recording to /content/drive/MyDrive/dataset/sample/sa/sa_7071_11580.txt\n",
            "Saved recording to /content/drive/MyDrive/dataset/sample/normal/normal_7071_11610.txt\n",
            "Saved recording to /content/drive/MyDrive/dataset/sample/sa/sa_7071_11640.txt\n",
            "Saved recording to /content/drive/MyDrive/dataset/sample/sa/sa_7071_11670.txt\n",
            "Saved recording to /content/drive/MyDrive/dataset/sample/normal/normal_7071_11700.txt\n",
            "Saved recording to /content/drive/MyDrive/dataset/sample/normal/normal_7071_11730.txt\n",
            "Saved recording to /content/drive/MyDrive/dataset/sample/sa/sa_7071_11760.txt\n",
            "Saved recording to /content/drive/MyDrive/dataset/sample/sa/sa_7071_11790.txt\n",
            "Saved recording to /content/drive/MyDrive/dataset/sample/sa/sa_7071_11820.txt\n",
            "Saved recording to /content/drive/MyDrive/dataset/sample/normal/normal_7071_11850.txt\n",
            "Saved recording to /content/drive/MyDrive/dataset/sample/sa/sa_7071_11880.txt\n",
            "Saved recording to /content/drive/MyDrive/dataset/sample/sa/sa_7071_11910.txt\n",
            "Saved recording to /content/drive/MyDrive/dataset/sample/sa/sa_7071_11940.txt\n",
            "Saved recording to /content/drive/MyDrive/dataset/sample/sa/sa_7071_11970.txt\n",
            "Saved recording to /content/drive/MyDrive/dataset/sample/normal/normal_7071_12000.txt\n",
            "Saved recording to /content/drive/MyDrive/dataset/sample/normal/normal_7071_12030.txt\n",
            "Saved recording to /content/drive/MyDrive/dataset/sample/normal/normal_7071_12060.txt\n",
            "Saved recording to /content/drive/MyDrive/dataset/sample/normal/normal_7071_12090.txt\n",
            "Saved recording to /content/drive/MyDrive/dataset/sample/normal/normal_7071_12120.txt\n",
            "Saved recording to /content/drive/MyDrive/dataset/sample/normal/normal_7071_12150.txt\n",
            "Saved recording to /content/drive/MyDrive/dataset/sample/normal/normal_7071_12180.txt\n",
            "Saved recording to /content/drive/MyDrive/dataset/sample/normal/normal_7071_12210.txt\n",
            "Saved recording to /content/drive/MyDrive/dataset/sample/normal/normal_7071_12240.txt\n",
            "Saved recording to /content/drive/MyDrive/dataset/sample/normal/normal_7071_12270.txt\n",
            "Saved recording to /content/drive/MyDrive/dataset/sample/normal/normal_7071_12300.txt\n",
            "Saved recording to /content/drive/MyDrive/dataset/sample/sa/sa_7071_12330.txt\n",
            "Saved recording to /content/drive/MyDrive/dataset/sample/sa/sa_7071_12360.txt\n",
            "Saved recording to /content/drive/MyDrive/dataset/sample/normal/normal_7071_12390.txt\n",
            "Saved recording to /content/drive/MyDrive/dataset/sample/normal/normal_7071_12420.txt\n",
            "Saved recording to /content/drive/MyDrive/dataset/sample/normal/normal_7071_12450.txt\n",
            "Saved recording to /content/drive/MyDrive/dataset/sample/normal/normal_7071_12480.txt\n",
            "Saved recording to /content/drive/MyDrive/dataset/sample/normal/normal_7071_12510.txt\n",
            "Saved recording to /content/drive/MyDrive/dataset/sample/normal/normal_7071_12540.txt\n",
            "Saved recording to /content/drive/MyDrive/dataset/sample/sa/sa_7071_12570.txt\n",
            "Saved recording to /content/drive/MyDrive/dataset/sample/normal/normal_7071_12600.txt\n",
            "Saved recording to /content/drive/MyDrive/dataset/sample/sa/sa_7071_12630.txt\n",
            "Saved recording to /content/drive/MyDrive/dataset/sample/sa/sa_7071_12660.txt\n",
            "Saved recording to /content/drive/MyDrive/dataset/sample/normal/normal_7071_12690.txt\n",
            "Saved recording to /content/drive/MyDrive/dataset/sample/sa/sa_7071_12720.txt\n",
            "Saved recording to /content/drive/MyDrive/dataset/sample/normal/normal_7071_12750.txt\n",
            "Saved recording to /content/drive/MyDrive/dataset/sample/normal/normal_7071_12780.txt\n",
            "Saved recording to /content/drive/MyDrive/dataset/sample/sa/sa_7071_12810.txt\n",
            "Saved recording to /content/drive/MyDrive/dataset/sample/sa/sa_7071_12840.txt\n",
            "Saved recording to /content/drive/MyDrive/dataset/sample/normal/normal_7071_12870.txt\n",
            "Saved recording to /content/drive/MyDrive/dataset/sample/normal/normal_7071_12900.txt\n",
            "Saved recording to /content/drive/MyDrive/dataset/sample/sa/sa_7071_12930.txt\n",
            "Saved recording to /content/drive/MyDrive/dataset/sample/normal/normal_7071_12960.txt\n",
            "Saved recording to /content/drive/MyDrive/dataset/sample/sa/sa_7071_12990.txt\n",
            "Saved recording to /content/drive/MyDrive/dataset/sample/sa/sa_7071_13020.txt\n",
            "Saved recording to /content/drive/MyDrive/dataset/sample/normal/normal_7071_13050.txt\n",
            "Saved recording to /content/drive/MyDrive/dataset/sample/sa/sa_7071_13080.txt\n",
            "Saved recording to /content/drive/MyDrive/dataset/sample/sa/sa_7071_13110.txt\n",
            "Saved recording to /content/drive/MyDrive/dataset/sample/sa/sa_7071_13140.txt\n",
            "Saved recording to /content/drive/MyDrive/dataset/sample/sa/sa_7071_13170.txt\n",
            "Saved recording to /content/drive/MyDrive/dataset/sample/normal/normal_7071_13200.txt\n",
            "Saved recording to /content/drive/MyDrive/dataset/sample/sa/sa_7071_13230.txt\n",
            "Saved recording to /content/drive/MyDrive/dataset/sample/sa/sa_7071_13260.txt\n",
            "Saved recording to /content/drive/MyDrive/dataset/sample/normal/normal_7071_13290.txt\n",
            "Saved recording to /content/drive/MyDrive/dataset/sample/normal/normal_7071_13320.txt\n",
            "Saved recording to /content/drive/MyDrive/dataset/sample/sa/sa_7071_13350.txt\n",
            "Saved recording to /content/drive/MyDrive/dataset/sample/sa/sa_7071_13380.txt\n",
            "Saved recording to /content/drive/MyDrive/dataset/sample/sa/sa_7071_13410.txt\n",
            "Saved recording to /content/drive/MyDrive/dataset/sample/normal/normal_7071_13440.txt\n",
            "Saved recording to /content/drive/MyDrive/dataset/sample/normal/normal_7071_13470.txt\n",
            "Saved recording to /content/drive/MyDrive/dataset/sample/normal/normal_7071_13500.txt\n",
            "Saved recording to /content/drive/MyDrive/dataset/sample/sa/sa_7071_13530.txt\n",
            "Saved recording to /content/drive/MyDrive/dataset/sample/normal/normal_7071_13560.txt\n",
            "Saved recording to /content/drive/MyDrive/dataset/sample/sa/sa_7071_13590.txt\n",
            "Saved recording to /content/drive/MyDrive/dataset/sample/sa/sa_7071_13620.txt\n",
            "Saved recording to /content/drive/MyDrive/dataset/sample/sa/sa_7071_13650.txt\n",
            "Saved recording to /content/drive/MyDrive/dataset/sample/normal/normal_7071_13680.txt\n",
            "Saved recording to /content/drive/MyDrive/dataset/sample/sa/sa_7071_13710.txt\n",
            "Saved recording to /content/drive/MyDrive/dataset/sample/sa/sa_7071_13740.txt\n",
            "Saved recording to /content/drive/MyDrive/dataset/sample/sa/sa_7071_13770.txt\n",
            "Saved recording to /content/drive/MyDrive/dataset/sample/normal/normal_7071_13800.txt\n",
            "Saved recording to /content/drive/MyDrive/dataset/sample/sa/sa_7071_13830.txt\n",
            "Saved recording to /content/drive/MyDrive/dataset/sample/sa/sa_7071_13860.txt\n",
            "Saved recording to /content/drive/MyDrive/dataset/sample/normal/normal_7071_13890.txt\n",
            "Saved recording to /content/drive/MyDrive/dataset/sample/sa/sa_7071_13920.txt\n",
            "Saved recording to /content/drive/MyDrive/dataset/sample/sa/sa_7071_13950.txt\n",
            "Saved recording to /content/drive/MyDrive/dataset/sample/sa/sa_7071_13980.txt\n",
            "Saved recording to /content/drive/MyDrive/dataset/sample/sa/sa_7071_14010.txt\n",
            "Saved recording to /content/drive/MyDrive/dataset/sample/sa/sa_7071_14040.txt\n",
            "Saved recording to /content/drive/MyDrive/dataset/sample/sa/sa_7071_14070.txt\n",
            "Saved recording to /content/drive/MyDrive/dataset/sample/normal/normal_7071_14100.txt\n",
            "Saved recording to /content/drive/MyDrive/dataset/sample/sa/sa_7071_14130.txt\n",
            "Saved recording to /content/drive/MyDrive/dataset/sample/sa/sa_7071_14160.txt\n",
            "Saved recording to /content/drive/MyDrive/dataset/sample/sa/sa_7071_14190.txt\n",
            "Saved recording to /content/drive/MyDrive/dataset/sample/sa/sa_7071_14220.txt\n",
            "Saved recording to /content/drive/MyDrive/dataset/sample/normal/normal_7071_14250.txt\n",
            "Saved recording to /content/drive/MyDrive/dataset/sample/sa/sa_7071_14280.txt\n",
            "Saved recording to /content/drive/MyDrive/dataset/sample/normal/normal_7071_14310.txt\n",
            "Saved recording to /content/drive/MyDrive/dataset/sample/normal/normal_7071_14340.txt\n",
            "Saved recording to /content/drive/MyDrive/dataset/sample/normal/normal_7071_14370.txt\n",
            "Saved recording to /content/drive/MyDrive/dataset/sample/sa/sa_7071_14400.txt\n",
            "Saved recording to /content/drive/MyDrive/dataset/sample/sa/sa_7071_14430.txt\n",
            "Saved recording to /content/drive/MyDrive/dataset/sample/normal/normal_7071_14460.txt\n",
            "Saved recording to /content/drive/MyDrive/dataset/sample/normal/normal_7071_14490.txt\n",
            "Saved recording to /content/drive/MyDrive/dataset/sample/sa/sa_7071_14520.txt\n",
            "Saved recording to /content/drive/MyDrive/dataset/sample/normal/normal_7071_14550.txt\n",
            "Saved recording to /content/drive/MyDrive/dataset/sample/sa/sa_7071_14580.txt\n",
            "Saved recording to /content/drive/MyDrive/dataset/sample/sa/sa_7071_14610.txt\n",
            "Saved recording to /content/drive/MyDrive/dataset/sample/sa/sa_7071_14640.txt\n",
            "Saved recording to /content/drive/MyDrive/dataset/sample/sa/sa_7071_14670.txt\n",
            "Saved recording to /content/drive/MyDrive/dataset/sample/sa/sa_7071_14700.txt\n",
            "Saved recording to /content/drive/MyDrive/dataset/sample/normal/normal_7071_14730.txt\n",
            "Saved recording to /content/drive/MyDrive/dataset/sample/sa/sa_7071_14760.txt\n",
            "Saved recording to /content/drive/MyDrive/dataset/sample/normal/normal_7071_14790.txt\n",
            "Saved recording to /content/drive/MyDrive/dataset/sample/sa/sa_7071_14820.txt\n",
            "Saved recording to /content/drive/MyDrive/dataset/sample/sa/sa_7071_14850.txt\n",
            "Saved recording to /content/drive/MyDrive/dataset/sample/normal/normal_7071_14880.txt\n",
            "Saved recording to /content/drive/MyDrive/dataset/sample/sa/sa_7071_14910.txt\n",
            "Saved recording to /content/drive/MyDrive/dataset/sample/normal/normal_7071_14940.txt\n",
            "Saved recording to /content/drive/MyDrive/dataset/sample/sa/sa_7071_14970.txt\n",
            "Saved recording to /content/drive/MyDrive/dataset/sample/normal/normal_7071_15000.txt\n",
            "Saved recording to /content/drive/MyDrive/dataset/sample/normal/normal_7071_15030.txt\n",
            "Saved recording to /content/drive/MyDrive/dataset/sample/sa/sa_7071_15060.txt\n",
            "Saved recording to /content/drive/MyDrive/dataset/sample/normal/normal_7071_15090.txt\n",
            "Saved recording to /content/drive/MyDrive/dataset/sample/normal/normal_7071_15120.txt\n",
            "Saved recording to /content/drive/MyDrive/dataset/sample/sa/sa_7071_15150.txt\n",
            "Saved recording to /content/drive/MyDrive/dataset/sample/normal/normal_7071_15180.txt\n",
            "Saved recording to /content/drive/MyDrive/dataset/sample/sa/sa_7071_15210.txt\n",
            "Saved recording to /content/drive/MyDrive/dataset/sample/sa/sa_7071_15240.txt\n",
            "Saved recording to /content/drive/MyDrive/dataset/sample/sa/sa_7071_15270.txt\n",
            "Saved recording to /content/drive/MyDrive/dataset/sample/normal/normal_7071_15300.txt\n",
            "Saved recording to /content/drive/MyDrive/dataset/sample/sa/sa_7071_15330.txt\n",
            "Saved recording to /content/drive/MyDrive/dataset/sample/normal/normal_7071_15360.txt\n",
            "Saved recording to /content/drive/MyDrive/dataset/sample/normal/normal_7071_15390.txt\n",
            "Saved recording to /content/drive/MyDrive/dataset/sample/sa/sa_7071_15420.txt\n",
            "Saved recording to /content/drive/MyDrive/dataset/sample/sa/sa_7071_15450.txt\n",
            "Saved recording to /content/drive/MyDrive/dataset/sample/normal/normal_7071_15480.txt\n",
            "Saved recording to /content/drive/MyDrive/dataset/sample/sa/sa_7071_15510.txt\n",
            "Saved recording to /content/drive/MyDrive/dataset/sample/normal/normal_7071_15540.txt\n",
            "Saved recording to /content/drive/MyDrive/dataset/sample/normal/normal_7071_15570.txt\n",
            "Saved recording to /content/drive/MyDrive/dataset/sample/sa/sa_7071_15600.txt\n",
            "Saved recording to /content/drive/MyDrive/dataset/sample/sa/sa_7071_15630.txt\n",
            "Saved recording to /content/drive/MyDrive/dataset/sample/sa/sa_7071_15660.txt\n",
            "Saved recording to /content/drive/MyDrive/dataset/sample/normal/normal_7071_15690.txt\n",
            "Saved recording to /content/drive/MyDrive/dataset/sample/normal/normal_7071_15720.txt\n",
            "Saved recording to /content/drive/MyDrive/dataset/sample/normal/normal_7071_15750.txt\n",
            "Saved recording to /content/drive/MyDrive/dataset/sample/normal/normal_7071_15780.txt\n",
            "Saved recording to /content/drive/MyDrive/dataset/sample/normal/normal_7071_15810.txt\n",
            "Saved recording to /content/drive/MyDrive/dataset/sample/normal/normal_7071_15840.txt\n",
            "Saved recording to /content/drive/MyDrive/dataset/sample/sa/sa_7071_15870.txt\n",
            "Saved recording to /content/drive/MyDrive/dataset/sample/normal/normal_7071_15900.txt\n",
            "Saved recording to /content/drive/MyDrive/dataset/sample/sa/sa_7071_15930.txt\n",
            "Saved recording to /content/drive/MyDrive/dataset/sample/sa/sa_7071_15960.txt\n",
            "Saved recording to /content/drive/MyDrive/dataset/sample/sa/sa_7071_15990.txt\n",
            "Saved recording to /content/drive/MyDrive/dataset/sample/normal/normal_7071_16020.txt\n",
            "Saved recording to /content/drive/MyDrive/dataset/sample/sa/sa_7071_16050.txt\n",
            "Saved recording to /content/drive/MyDrive/dataset/sample/sa/sa_7071_16080.txt\n",
            "Saved recording to /content/drive/MyDrive/dataset/sample/sa/sa_7071_16110.txt\n",
            "Saved recording to /content/drive/MyDrive/dataset/sample/normal/normal_7071_16140.txt\n",
            "Saved recording to /content/drive/MyDrive/dataset/sample/normal/normal_7071_16170.txt\n",
            "Saved recording to /content/drive/MyDrive/dataset/sample/normal/normal_7071_16200.txt\n",
            "Saved recording to /content/drive/MyDrive/dataset/sample/sa/sa_7071_16230.txt\n",
            "Saved recording to /content/drive/MyDrive/dataset/sample/sa/sa_7071_16260.txt\n",
            "Saved recording to /content/drive/MyDrive/dataset/sample/sa/sa_7071_16290.txt\n",
            "Saved recording to /content/drive/MyDrive/dataset/sample/sa/sa_7071_16320.txt\n",
            "Saved recording to /content/drive/MyDrive/dataset/sample/normal/normal_7071_16350.txt\n",
            "Saved recording to /content/drive/MyDrive/dataset/sample/sa/sa_7071_16380.txt\n",
            "Saved recording to /content/drive/MyDrive/dataset/sample/normal/normal_7071_16410.txt\n",
            "Saved recording to /content/drive/MyDrive/dataset/sample/sa/sa_7071_16440.txt\n",
            "Saved recording to /content/drive/MyDrive/dataset/sample/sa/sa_7071_16470.txt\n",
            "Saved recording to /content/drive/MyDrive/dataset/sample/sa/sa_7071_16500.txt\n",
            "Saved recording to /content/drive/MyDrive/dataset/sample/sa/sa_7071_16530.txt\n",
            "Saved recording to /content/drive/MyDrive/dataset/sample/sa/sa_7071_16560.txt\n",
            "Saved recording to /content/drive/MyDrive/dataset/sample/sa/sa_7071_16590.txt\n",
            "Saved recording to /content/drive/MyDrive/dataset/sample/normal/normal_7071_16620.txt\n",
            "Saved recording to /content/drive/MyDrive/dataset/sample/normal/normal_7071_16650.txt\n",
            "Saved recording to /content/drive/MyDrive/dataset/sample/normal/normal_7071_16680.txt\n",
            "Saved recording to /content/drive/MyDrive/dataset/sample/normal/normal_7071_16710.txt\n",
            "Saved recording to /content/drive/MyDrive/dataset/sample/sa/sa_7071_16740.txt\n",
            "Saved recording to /content/drive/MyDrive/dataset/sample/sa/sa_7071_16770.txt\n",
            "Saved recording to /content/drive/MyDrive/dataset/sample/sa/sa_7071_16800.txt\n",
            "Saved recording to /content/drive/MyDrive/dataset/sample/sa/sa_7071_16830.txt\n",
            "Saved recording to /content/drive/MyDrive/dataset/sample/normal/normal_7071_16860.txt\n",
            "Saved recording to /content/drive/MyDrive/dataset/sample/normal/normal_7071_16890.txt\n",
            "Saved recording to /content/drive/MyDrive/dataset/sample/normal/normal_7071_16920.txt\n",
            "Saved recording to /content/drive/MyDrive/dataset/sample/normal/normal_7071_16950.txt\n",
            "Saved recording to /content/drive/MyDrive/dataset/sample/normal/normal_7071_16980.txt\n",
            "Saved recording to /content/drive/MyDrive/dataset/sample/normal/normal_7071_17010.txt\n",
            "Saved recording to /content/drive/MyDrive/dataset/sample/normal/normal_7071_17040.txt\n",
            "Saved recording to /content/drive/MyDrive/dataset/sample/normal/normal_7071_17070.txt\n",
            "Saved recording to /content/drive/MyDrive/dataset/sample/sa/sa_7071_17100.txt\n",
            "Saved recording to /content/drive/MyDrive/dataset/sample/normal/normal_7071_17130.txt\n",
            "Saved recording to /content/drive/MyDrive/dataset/sample/normal/normal_7071_17160.txt\n",
            "Saved recording to /content/drive/MyDrive/dataset/sample/sa/sa_7071_17190.txt\n",
            "Saved recording to /content/drive/MyDrive/dataset/sample/sa/sa_7071_17220.txt\n",
            "Saved recording to /content/drive/MyDrive/dataset/sample/normal/normal_7071_17250.txt\n",
            "Saved recording to /content/drive/MyDrive/dataset/sample/sa/sa_7071_17280.txt\n",
            "Saved recording to /content/drive/MyDrive/dataset/sample/normal/normal_7071_17310.txt\n",
            "Saved recording to /content/drive/MyDrive/dataset/sample/sa/sa_7071_17340.txt\n",
            "Saved recording to /content/drive/MyDrive/dataset/sample/sa/sa_7071_17370.txt\n",
            "Saved recording to /content/drive/MyDrive/dataset/sample/sa/sa_7071_17400.txt\n",
            "Saved recording to /content/drive/MyDrive/dataset/sample/normal/normal_7071_17430.txt\n",
            "Saved recording to /content/drive/MyDrive/dataset/sample/normal/normal_7071_17460.txt\n",
            "Saved recording to /content/drive/MyDrive/dataset/sample/normal/normal_7071_17490.txt\n",
            "Saved recording to /content/drive/MyDrive/dataset/sample/normal/normal_7071_17520.txt\n",
            "Saved recording to /content/drive/MyDrive/dataset/sample/sa/sa_7071_17550.txt\n",
            "Saved recording to /content/drive/MyDrive/dataset/sample/sa/sa_7071_17580.txt\n",
            "Saved recording to /content/drive/MyDrive/dataset/sample/sa/sa_7071_17610.txt\n",
            "Saved recording to /content/drive/MyDrive/dataset/sample/normal/normal_7071_17640.txt\n",
            "Saved recording to /content/drive/MyDrive/dataset/sample/sa/sa_7071_17670.txt\n",
            "Saved recording to /content/drive/MyDrive/dataset/sample/normal/normal_7071_17700.txt\n",
            "Saved recording to /content/drive/MyDrive/dataset/sample/normal/normal_7071_17730.txt\n",
            "Saved recording to /content/drive/MyDrive/dataset/sample/normal/normal_7071_17760.txt\n",
            "Saved recording to /content/drive/MyDrive/dataset/sample/sa/sa_7071_17790.txt\n",
            "Saved recording to /content/drive/MyDrive/dataset/sample/sa/sa_7071_17820.txt\n",
            "Saved recording to /content/drive/MyDrive/dataset/sample/normal/normal_7071_17850.txt\n",
            "Saved recording to /content/drive/MyDrive/dataset/sample/sa/sa_7071_17880.txt\n",
            "Saved recording to /content/drive/MyDrive/dataset/sample/sa/sa_7071_17910.txt\n",
            "Saved recording to /content/drive/MyDrive/dataset/sample/sa/sa_7071_17940.txt\n",
            "Saved recording to /content/drive/MyDrive/dataset/sample/sa/sa_7071_17970.txt\n",
            "Saved recording to /content/drive/MyDrive/dataset/sample/sa/sa_7071_18000.txt\n",
            "Saved recording to /content/drive/MyDrive/dataset/sample/normal/normal_7071_18030.txt\n",
            "Saved recording to /content/drive/MyDrive/dataset/sample/sa/sa_7071_18060.txt\n",
            "Saved recording to /content/drive/MyDrive/dataset/sample/normal/normal_7071_18090.txt\n",
            "Saved recording to /content/drive/MyDrive/dataset/sample/normal/normal_7071_18120.txt\n",
            "Saved recording to /content/drive/MyDrive/dataset/sample/sa/sa_7071_18150.txt\n",
            "Saved recording to /content/drive/MyDrive/dataset/sample/sa/sa_7071_18180.txt\n",
            "Saved recording to /content/drive/MyDrive/dataset/sample/normal/normal_7071_18210.txt\n",
            "Saved recording to /content/drive/MyDrive/dataset/sample/normal/normal_7071_18240.txt\n",
            "Saved recording to /content/drive/MyDrive/dataset/sample/sa/sa_7071_18270.txt\n",
            "Saved recording to /content/drive/MyDrive/dataset/sample/sa/sa_7071_18300.txt\n",
            "Saved recording to /content/drive/MyDrive/dataset/sample/normal/normal_7071_18330.txt\n",
            "Saved recording to /content/drive/MyDrive/dataset/sample/sa/sa_7071_18360.txt\n",
            "Saved recording to /content/drive/MyDrive/dataset/sample/sa/sa_7071_18390.txt\n",
            "Saved recording to /content/drive/MyDrive/dataset/sample/normal/normal_7071_18420.txt\n",
            "Saved recording to /content/drive/MyDrive/dataset/sample/normal/normal_7071_18450.txt\n",
            "Saved recording to /content/drive/MyDrive/dataset/sample/normal/normal_7071_18480.txt\n",
            "Saved recording to /content/drive/MyDrive/dataset/sample/sa/sa_7071_18510.txt\n",
            "Saved recording to /content/drive/MyDrive/dataset/sample/sa/sa_7071_18540.txt\n",
            "Saved recording to /content/drive/MyDrive/dataset/sample/sa/sa_7071_18570.txt\n",
            "Saved recording to /content/drive/MyDrive/dataset/sample/sa/sa_7071_18600.txt\n",
            "Saved recording to /content/drive/MyDrive/dataset/sample/sa/sa_7071_18630.txt\n",
            "Saved recording to /content/drive/MyDrive/dataset/sample/sa/sa_7071_18660.txt\n",
            "Saved recording to /content/drive/MyDrive/dataset/sample/sa/sa_7071_18690.txt\n",
            "Saved recording to /content/drive/MyDrive/dataset/sample/sa/sa_7071_18720.txt\n",
            "Saved recording to /content/drive/MyDrive/dataset/sample/sa/sa_7071_18750.txt\n",
            "Saved recording to /content/drive/MyDrive/dataset/sample/normal/normal_7071_18780.txt\n",
            "Saved recording to /content/drive/MyDrive/dataset/sample/normal/normal_7071_18810.txt\n",
            "Saved recording to /content/drive/MyDrive/dataset/sample/normal/normal_7071_18840.txt\n",
            "Saved recording to /content/drive/MyDrive/dataset/sample/normal/normal_7071_18870.txt\n",
            "Saved recording to /content/drive/MyDrive/dataset/sample/normal/normal_7071_18900.txt\n",
            "Saved recording to /content/drive/MyDrive/dataset/sample/normal/normal_7071_18930.txt\n",
            "Saved recording to /content/drive/MyDrive/dataset/sample/normal/normal_7071_18960.txt\n",
            "Saved recording to /content/drive/MyDrive/dataset/sample/normal/normal_7071_18990.txt\n",
            "Saved recording to /content/drive/MyDrive/dataset/sample/sa/sa_7071_19020.txt\n",
            "Saved recording to /content/drive/MyDrive/dataset/sample/sa/sa_7071_19050.txt\n",
            "Saved recording to /content/drive/MyDrive/dataset/sample/normal/normal_7071_19080.txt\n",
            "Saved recording to /content/drive/MyDrive/dataset/sample/sa/sa_7071_19110.txt\n",
            "Saved recording to /content/drive/MyDrive/dataset/sample/normal/normal_7071_19140.txt\n",
            "Saved recording to /content/drive/MyDrive/dataset/sample/sa/sa_7071_19170.txt\n",
            "Saved recording to /content/drive/MyDrive/dataset/sample/normal/normal_7071_19200.txt\n",
            "Saved recording to /content/drive/MyDrive/dataset/sample/sa/sa_7071_19230.txt\n",
            "Saved recording to /content/drive/MyDrive/dataset/sample/sa/sa_7071_19260.txt\n",
            "Saved recording to /content/drive/MyDrive/dataset/sample/sa/sa_7071_19290.txt\n",
            "Saved recording to /content/drive/MyDrive/dataset/sample/normal/normal_7071_19320.txt\n",
            "Saved recording to /content/drive/MyDrive/dataset/sample/sa/sa_7071_19350.txt\n",
            "Saved recording to /content/drive/MyDrive/dataset/sample/sa/sa_7071_19380.txt\n",
            "Saved recording to /content/drive/MyDrive/dataset/sample/normal/normal_7071_19410.txt\n",
            "Saved recording to /content/drive/MyDrive/dataset/sample/normal/normal_7071_19440.txt\n",
            "Saved recording to /content/drive/MyDrive/dataset/sample/normal/normal_7071_19470.txt\n",
            "Saved recording to /content/drive/MyDrive/dataset/sample/normal/normal_7071_19500.txt\n",
            "Saved recording to /content/drive/MyDrive/dataset/sample/normal/normal_7071_19530.txt\n",
            "Saved recording to /content/drive/MyDrive/dataset/sample/normal/normal_7071_19560.txt\n",
            "Saved recording to /content/drive/MyDrive/dataset/sample/normal/normal_7071_19590.txt\n",
            "Saved recording to /content/drive/MyDrive/dataset/sample/sa/sa_7071_19620.txt\n",
            "Saved recording to /content/drive/MyDrive/dataset/sample/normal/normal_7071_19650.txt\n",
            "Saved recording to /content/drive/MyDrive/dataset/sample/normal/normal_7071_19680.txt\n",
            "Saved recording to /content/drive/MyDrive/dataset/sample/sa/sa_7071_19710.txt\n",
            "Saved recording to /content/drive/MyDrive/dataset/sample/sa/sa_7071_19740.txt\n",
            "Saved recording to /content/drive/MyDrive/dataset/sample/normal/normal_7071_19770.txt\n",
            "Saved recording to /content/drive/MyDrive/dataset/sample/normal/normal_7071_19800.txt\n",
            "Saved recording to /content/drive/MyDrive/dataset/sample/sa/sa_7071_19830.txt\n",
            "Saved recording to /content/drive/MyDrive/dataset/sample/normal/normal_7071_19860.txt\n",
            "Saved recording to /content/drive/MyDrive/dataset/sample/normal/normal_7071_19890.txt\n",
            "Saved recording to /content/drive/MyDrive/dataset/sample/normal/normal_7071_19920.txt\n",
            "Saved recording to /content/drive/MyDrive/dataset/sample/sa/sa_7071_19950.txt\n",
            "Saved recording to /content/drive/MyDrive/dataset/sample/sa/sa_7071_19980.txt\n",
            "Saved recording to /content/drive/MyDrive/dataset/sample/normal/normal_7071_20010.txt\n",
            "Saved recording to /content/drive/MyDrive/dataset/sample/sa/sa_7071_20040.txt\n",
            "Saved recording to /content/drive/MyDrive/dataset/sample/sa/sa_7071_20070.txt\n",
            "Saved recording to /content/drive/MyDrive/dataset/sample/sa/sa_7071_20100.txt\n",
            "Saved recording to /content/drive/MyDrive/dataset/sample/sa/sa_7071_20130.txt\n",
            "Saved recording to /content/drive/MyDrive/dataset/sample/normal/normal_7071_20160.txt\n",
            "Saved recording to /content/drive/MyDrive/dataset/sample/normal/normal_7071_20190.txt\n",
            "Saved recording to /content/drive/MyDrive/dataset/sample/normal/normal_7071_20220.txt\n",
            "Saved recording to /content/drive/MyDrive/dataset/sample/sa/sa_7071_20250.txt\n",
            "Saved recording to /content/drive/MyDrive/dataset/sample/sa/sa_7071_20280.txt\n",
            "Saved recording to /content/drive/MyDrive/dataset/sample/sa/sa_7071_20310.txt\n",
            "Saved recording to /content/drive/MyDrive/dataset/sample/normal/normal_7071_20340.txt\n",
            "Saved recording to /content/drive/MyDrive/dataset/sample/sa/sa_7071_20370.txt\n",
            "Saved recording to /content/drive/MyDrive/dataset/sample/normal/normal_7071_20400.txt\n",
            "Saved recording to /content/drive/MyDrive/dataset/sample/normal/normal_7071_20430.txt\n",
            "Saved recording to /content/drive/MyDrive/dataset/sample/normal/normal_7071_20460.txt\n",
            "Saved recording to /content/drive/MyDrive/dataset/sample/sa/sa_7071_20490.txt\n",
            "Saved recording to /content/drive/MyDrive/dataset/sample/sa/sa_7071_20520.txt\n",
            "Saved recording to /content/drive/MyDrive/dataset/sample/sa/sa_7071_20550.txt\n",
            "Saved recording to /content/drive/MyDrive/dataset/sample/sa/sa_7071_20580.txt\n",
            "Saved recording to /content/drive/MyDrive/dataset/sample/sa/sa_7071_20610.txt\n",
            "Saved recording to /content/drive/MyDrive/dataset/sample/normal/normal_7071_20640.txt\n",
            "Saved recording to /content/drive/MyDrive/dataset/sample/normal/normal_7071_20670.txt\n",
            "Saved recording to /content/drive/MyDrive/dataset/sample/sa/sa_7071_20700.txt\n",
            "Saved recording to /content/drive/MyDrive/dataset/sample/sa/sa_7071_20730.txt\n",
            "Saved recording to /content/drive/MyDrive/dataset/sample/normal/normal_7071_20760.txt\n",
            "Saved recording to /content/drive/MyDrive/dataset/sample/normal/normal_7071_20790.txt\n",
            "Saved recording to /content/drive/MyDrive/dataset/sample/sa/sa_7071_20820.txt\n",
            "Saved recording to /content/drive/MyDrive/dataset/sample/sa/sa_7071_20850.txt\n",
            "Saved recording to /content/drive/MyDrive/dataset/sample/normal/normal_7071_20880.txt\n",
            "Saved recording to /content/drive/MyDrive/dataset/sample/normal/normal_7071_20910.txt\n",
            "Saved recording to /content/drive/MyDrive/dataset/sample/normal/normal_7071_20940.txt\n",
            "Saved recording to /content/drive/MyDrive/dataset/sample/normal/normal_7071_20970.txt\n",
            "Saved recording to /content/drive/MyDrive/dataset/sample/sa/sa_7071_21000.txt\n",
            "Saved recording to /content/drive/MyDrive/dataset/sample/sa/sa_7071_21030.txt\n",
            "Saved recording to /content/drive/MyDrive/dataset/sample/sa/sa_7071_21060.txt\n",
            "Saved recording to /content/drive/MyDrive/dataset/sample/normal/normal_7071_21090.txt\n",
            "Saved recording to /content/drive/MyDrive/dataset/sample/sa/sa_7071_21120.txt\n",
            "Saved recording to /content/drive/MyDrive/dataset/sample/normal/normal_7071_21150.txt\n",
            "Saved recording to /content/drive/MyDrive/dataset/sample/sa/sa_7071_21180.txt\n",
            "Saved recording to /content/drive/MyDrive/dataset/sample/normal/normal_7071_21210.txt\n",
            "Saved recording to /content/drive/MyDrive/dataset/sample/normal/normal_7071_21240.txt\n",
            "Saved recording to /content/drive/MyDrive/dataset/sample/normal/normal_7071_21270.txt\n",
            "Saved recording to /content/drive/MyDrive/dataset/sample/sa/sa_7071_21300.txt\n",
            "Saved recording to /content/drive/MyDrive/dataset/sample/normal/normal_7071_21330.txt\n",
            "Saved recording to /content/drive/MyDrive/dataset/sample/sa/sa_7071_21360.txt\n",
            "Saved recording to /content/drive/MyDrive/dataset/sample/sa/sa_7071_21390.txt\n",
            "Saved recording to /content/drive/MyDrive/dataset/sample/normal/normal_7071_21420.txt\n",
            "Saved recording to /content/drive/MyDrive/dataset/sample/sa/sa_7071_21450.txt\n",
            "Saved recording to /content/drive/MyDrive/dataset/sample/normal/normal_7071_21480.txt\n",
            "Saved recording to /content/drive/MyDrive/dataset/sample/sa/sa_7071_21510.txt\n",
            "Saved recording to /content/drive/MyDrive/dataset/sample/normal/normal_7071_21540.txt\n",
            "Saved recording to /content/drive/MyDrive/dataset/sample/sa/sa_7071_21570.txt\n",
            "Saved recording to /content/drive/MyDrive/dataset/sample/sa/sa_7071_21600.txt\n",
            "Saved recording to /content/drive/MyDrive/dataset/sample/sa/sa_7071_21630.txt\n",
            "Saved recording to /content/drive/MyDrive/dataset/sample/normal/normal_7071_21660.txt\n",
            "Saved recording to /content/drive/MyDrive/dataset/sample/normal/normal_7071_21690.txt\n",
            "Saved recording to /content/drive/MyDrive/dataset/sample/normal/normal_7071_21720.txt\n",
            "Saved recording to /content/drive/MyDrive/dataset/sample/sa/sa_7071_21750.txt\n",
            "Saved recording to /content/drive/MyDrive/dataset/sample/normal/normal_7071_21780.txt\n",
            "Saved recording to /content/drive/MyDrive/dataset/sample/sa/sa_7071_21810.txt\n",
            "Saved recording to /content/drive/MyDrive/dataset/sample/normal/normal_7071_21840.txt\n",
            "Saved recording to /content/drive/MyDrive/dataset/sample/sa/sa_7071_21870.txt\n",
            "Saved recording to /content/drive/MyDrive/dataset/sample/sa/sa_7071_21900.txt\n",
            "Saved recording to /content/drive/MyDrive/dataset/sample/sa/sa_7071_21930.txt\n",
            "Saved recording to /content/drive/MyDrive/dataset/sample/sa/sa_7071_21960.txt\n",
            "Saved recording to /content/drive/MyDrive/dataset/sample/sa/sa_7071_21990.txt\n",
            "Saved recording to /content/drive/MyDrive/dataset/sample/normal/normal_7071_22020.txt\n",
            "Saved recording to /content/drive/MyDrive/dataset/sample/normal/normal_7071_22050.txt\n",
            "Saved recording to /content/drive/MyDrive/dataset/sample/sa/sa_7071_22080.txt\n",
            "Saved recording to /content/drive/MyDrive/dataset/sample/sa/sa_7071_22110.txt\n",
            "Saved recording to /content/drive/MyDrive/dataset/sample/normal/normal_7071_22140.txt\n",
            "Saved recording to /content/drive/MyDrive/dataset/sample/sa/sa_7071_22170.txt\n",
            "Saved recording to /content/drive/MyDrive/dataset/sample/sa/sa_7071_22200.txt\n",
            "Saved recording to /content/drive/MyDrive/dataset/sample/sa/sa_7071_22230.txt\n",
            "Saved recording to /content/drive/MyDrive/dataset/sample/normal/normal_7071_22260.txt\n",
            "Saved recording to /content/drive/MyDrive/dataset/sample/normal/normal_7071_22290.txt\n",
            "Saved recording to /content/drive/MyDrive/dataset/sample/sa/sa_7071_22320.txt\n",
            "Saved recording to /content/drive/MyDrive/dataset/sample/normal/normal_7071_22350.txt\n",
            "Saved recording to /content/drive/MyDrive/dataset/sample/sa/sa_7071_22380.txt\n",
            "Saved recording to /content/drive/MyDrive/dataset/sample/sa/sa_7071_22410.txt\n",
            "Saved recording to /content/drive/MyDrive/dataset/sample/sa/sa_7071_22440.txt\n",
            "Saved recording to /content/drive/MyDrive/dataset/sample/sa/sa_7071_22470.txt\n",
            "Saved recording to /content/drive/MyDrive/dataset/sample/sa/sa_7071_22500.txt\n",
            "Saved recording to /content/drive/MyDrive/dataset/sample/sa/sa_7071_22530.txt\n",
            "Saved recording to /content/drive/MyDrive/dataset/sample/normal/normal_7071_22560.txt\n",
            "Saved recording to /content/drive/MyDrive/dataset/sample/sa/sa_7071_22590.txt\n",
            "Saved recording to /content/drive/MyDrive/dataset/sample/normal/normal_7071_22620.txt\n",
            "Saved recording to /content/drive/MyDrive/dataset/sample/sa/sa_7071_22650.txt\n",
            "Saved recording to /content/drive/MyDrive/dataset/sample/sa/sa_7071_22680.txt\n",
            "Saved recording to /content/drive/MyDrive/dataset/sample/sa/sa_7071_22710.txt\n",
            "Saved recording to /content/drive/MyDrive/dataset/sample/sa/sa_7071_22740.txt\n",
            "Saved recording to /content/drive/MyDrive/dataset/sample/sa/sa_7071_22770.txt\n",
            "Saved recording to /content/drive/MyDrive/dataset/sample/sa/sa_7071_22800.txt\n",
            "Saved recording to /content/drive/MyDrive/dataset/sample/normal/normal_7071_22830.txt\n",
            "Saved recording to /content/drive/MyDrive/dataset/sample/sa/sa_7071_22860.txt\n",
            "Saved recording to /content/drive/MyDrive/dataset/sample/sa/sa_7071_22890.txt\n",
            "Saved recording to /content/drive/MyDrive/dataset/sample/normal/normal_7071_22920.txt\n",
            "Saved recording to /content/drive/MyDrive/dataset/sample/sa/sa_7071_22950.txt\n",
            "Saved recording to /content/drive/MyDrive/dataset/sample/sa/sa_7071_22980.txt\n",
            "Saved recording to /content/drive/MyDrive/dataset/sample/sa/sa_7071_23010.txt\n",
            "Saved recording to /content/drive/MyDrive/dataset/sample/normal/normal_7071_23040.txt\n",
            "Saved recording to /content/drive/MyDrive/dataset/sample/sa/sa_7071_23070.txt\n",
            "Saved recording to /content/drive/MyDrive/dataset/sample/sa/sa_7071_23100.txt\n",
            "Saved recording to /content/drive/MyDrive/dataset/sample/normal/normal_7071_23130.txt\n",
            "Saved recording to /content/drive/MyDrive/dataset/sample/sa/sa_7071_23160.txt\n",
            "Saved recording to /content/drive/MyDrive/dataset/sample/sa/sa_7071_23190.txt\n",
            "Saved recording to /content/drive/MyDrive/dataset/sample/normal/normal_7071_23220.txt\n",
            "Saved recording to /content/drive/MyDrive/dataset/sample/sa/sa_7071_23250.txt\n",
            "Saved recording to /content/drive/MyDrive/dataset/sample/normal/normal_7071_23280.txt\n",
            "Saved recording to /content/drive/MyDrive/dataset/sample/sa/sa_7071_23310.txt\n",
            "Saved recording to /content/drive/MyDrive/dataset/sample/normal/normal_7071_23340.txt\n",
            "Saved recording to /content/drive/MyDrive/dataset/sample/normal/normal_7071_23370.txt\n",
            "Saved recording to /content/drive/MyDrive/dataset/sample/sa/sa_7071_23400.txt\n",
            "Saved recording to /content/drive/MyDrive/dataset/sample/normal/normal_7071_23430.txt\n",
            "Saved recording to /content/drive/MyDrive/dataset/sample/sa/sa_7071_23460.txt\n",
            "Saved recording to /content/drive/MyDrive/dataset/sample/normal/normal_7071_23490.txt\n",
            "Saved recording to /content/drive/MyDrive/dataset/sample/normal/normal_7071_23520.txt\n",
            "Saved recording to /content/drive/MyDrive/dataset/sample/normal/normal_7071_23550.txt\n",
            "Saved recording to /content/drive/MyDrive/dataset/sample/normal/normal_7071_23580.txt\n",
            "Saved recording to /content/drive/MyDrive/dataset/sample/sa/sa_7071_23610.txt\n",
            "Saved recording to /content/drive/MyDrive/dataset/sample/sa/sa_7071_23640.txt\n",
            "Saved recording to /content/drive/MyDrive/dataset/sample/sa/sa_7071_23670.txt\n",
            "Saved recording to /content/drive/MyDrive/dataset/sample/normal/normal_7071_23700.txt\n",
            "Saved recording to /content/drive/MyDrive/dataset/sample/sa/sa_7071_23730.txt\n",
            "Saved recording to /content/drive/MyDrive/dataset/sample/sa/sa_7071_23760.txt\n",
            "Saved recording to /content/drive/MyDrive/dataset/sample/normal/normal_7071_23790.txt\n",
            "Saved recording to /content/drive/MyDrive/dataset/sample/sa/sa_7071_23820.txt\n",
            "Saved recording to /content/drive/MyDrive/dataset/sample/sa/sa_7071_23850.txt\n",
            "Saved recording to /content/drive/MyDrive/dataset/sample/sa/sa_7071_23880.txt\n",
            "Saved recording to /content/drive/MyDrive/dataset/sample/sa/sa_7071_23910.txt\n",
            "Saved recording to /content/drive/MyDrive/dataset/sample/normal/normal_7071_23940.txt\n",
            "Saved recording to /content/drive/MyDrive/dataset/sample/sa/sa_7071_23970.txt\n",
            "Saved recording to /content/drive/MyDrive/dataset/sample/normal/normal_7071_24000.txt\n",
            "Saved recording to /content/drive/MyDrive/dataset/sample/normal/normal_7071_24030.txt\n",
            "Saved recording to /content/drive/MyDrive/dataset/sample/sa/sa_7071_24060.txt\n",
            "Saved recording to /content/drive/MyDrive/dataset/sample/sa/sa_7071_24090.txt\n",
            "Saved recording to /content/drive/MyDrive/dataset/sample/sa/sa_7071_24120.txt\n",
            "Saved recording to /content/drive/MyDrive/dataset/sample/normal/normal_7071_24150.txt\n",
            "Saved recording to /content/drive/MyDrive/dataset/sample/normal/normal_7071_24180.txt\n",
            "Saved recording to /content/drive/MyDrive/dataset/sample/normal/normal_7071_24210.txt\n",
            "Saved recording to /content/drive/MyDrive/dataset/sample/normal/normal_7071_24240.txt\n",
            "Saved recording to /content/drive/MyDrive/dataset/sample/normal/normal_7071_24270.txt\n",
            "Saved recording to /content/drive/MyDrive/dataset/sample/sa/sa_7071_24300.txt\n",
            "Saved recording to /content/drive/MyDrive/dataset/sample/normal/normal_7071_24330.txt\n",
            "Saved recording to /content/drive/MyDrive/dataset/sample/normal/normal_7071_24360.txt\n",
            "Saved recording to /content/drive/MyDrive/dataset/sample/sa/sa_7071_24390.txt\n",
            "Saved recording to /content/drive/MyDrive/dataset/sample/normal/normal_7071_24420.txt\n",
            "Saved recording to /content/drive/MyDrive/dataset/sample/normal/normal_7071_24450.txt\n",
            "Saved recording to /content/drive/MyDrive/dataset/sample/normal/normal_7071_24480.txt\n",
            "Saved recording to /content/drive/MyDrive/dataset/sample/sa/sa_7071_24510.txt\n",
            "Saved recording to /content/drive/MyDrive/dataset/sample/normal/normal_7071_24540.txt\n",
            "Saved recording to /content/drive/MyDrive/dataset/sample/normal/normal_7071_24570.txt\n",
            "Saved recording to /content/drive/MyDrive/dataset/sample/normal/normal_7071_24600.txt\n",
            "Saved recording to /content/drive/MyDrive/dataset/sample/normal/normal_7071_24630.txt\n"
          ]
        }
      ],
      "source": [
        "# convert the EagerTensor object to a NumPy array\n",
        "eeg_vec_dir = np.array(eeg_vec_dir)\n",
        "\n",
        "# convert the array to a Python list\n",
        "eeg_vec_dir = eeg_vec_dir.tolist()\n",
        "\n",
        "for dir in eeg_vec_dir:\n",
        "\n",
        "  print(dir)\n",
        "\n",
        "  makeDirectory(labels, sample_dir)\n",
        "  pecahSatu(dir, labels, sample_dir)"
      ]
    },
    {
      "cell_type": "markdown",
      "metadata": {
        "id": "-_lIGInQmjy2"
      },
      "source": [
        "##READ INDIVIDUAL"
      ]
    },
    {
      "cell_type": "markdown",
      "metadata": {
        "id": "Fk1rE0l_CaUP"
      },
      "source": [
        "### CAP (edf)"
      ]
    },
    {
      "cell_type": "code",
      "execution_count": null,
      "metadata": {
        "colab": {
          "base_uri": "https://localhost:8080/"
        },
        "id": "vQE0D4uRCdR3",
        "outputId": "be1fc1ea-3b07-4b8a-9cb8-4658f3f5dfb2"
      },
      "outputs": [
        {
          "name": "stdout",
          "output_type": "stream",
          "text": [
            "<pyedflib.edfreader.EdfReader object at 0x63ff790>\n",
            "['ROC-LOC', 'LOC-ROC', 'F2-F4', 'F4-C4', 'C4-P4', 'P4-O2', 'F1-F3', 'F3-C3', 'C3-P3', 'P3-O1', 'C4-A1', 'EMG1-EMG2', 'ECG1-ECG2', 'TERMISTORE', 'TORACE', 'ADDOME', 'Dx1-DX2', 'SX1-SX2', 'Posizione', 'HR', 'SpO2']\n",
            "[512 512 512 512 512 512 512 512 512 512 512 256 512  64  64  64 256 256\n",
            "  64   1   1]\n",
            "[[86.07919432 86.07919432 85.07820249 ... 73.08155947 73.08155947\n",
            "  73.08155947]\n",
            " [95.01792935 95.01792935 95.01792935 ... 98.02090486 98.02090486\n",
            "  98.02090486]]\n"
          ]
        }
      ],
      "source": [
        "import pyedflib\n",
        "\n",
        "# open the EDF file\n",
        "edf_file = pyedflib.EdfReader('/content/drive/MyDrive/dataset/eegcap/normal/n1.edf')\n",
        "print(edf_file)\n",
        "\n",
        "# get the channel names and sample rates\n",
        "channel_names = edf_file.getSignalLabels()\n",
        "print(channel_names)\n",
        "\n",
        "sample_rates = edf_file.getSampleFrequencies()\n",
        "print(sample_rates)\n",
        "\n",
        "# extract the EEG data\n",
        "eeg_data = []\n",
        "for i in range(edf_file.signals_in_file):\n",
        "    # only extract EEG channels (i.e. those with a sample rate of 100Hz)\n",
        "    if sample_rates[i] == 1:\n",
        "        eeg_data.append(edf_file.readSignal(i))\n",
        "\n",
        "# convert the EEG data to a NumPy array\n",
        "eeg_data = np.array(eeg_data)\n",
        "\n",
        "print(eeg_data)\n"
      ]
    },
    {
      "cell_type": "code",
      "execution_count": null,
      "metadata": {
        "colab": {
          "base_uri": "https://localhost:8080/"
        },
        "id": "NODIxs2tGATv",
        "outputId": "ef974292-254b-4f3a-8053-d175f2d4608d"
      },
      "outputs": [
        {
          "name": "stdout",
          "output_type": "stream",
          "text": [
            "17725440\n",
            "512.0\n",
            "[ 28.96970238  19.93384158   8.21164377 ... 244.94509158 242.44191392\n",
            " 241.61769689]\n",
            "[0.00000000e+00 1.95312500e-03 3.90625000e-03 ... 3.46199941e+04\n",
            " 3.46199961e+04 3.46199980e+04]\n"
          ]
        }
      ],
      "source": [
        "# get the number of samples in the file\n",
        "n_samples = edf_file.getNSamples()[0]\n",
        "print(n_samples)\n",
        "\n",
        "# get the sample frequency\n",
        "freq = edf_file.getSampleFrequency(0)\n",
        "print(freq)\n",
        "\n",
        "# get the data for the first channel\n",
        "channel_data = edf_file.readSignal(0)\n",
        "print(channel_data)\n",
        "\n",
        "# create an array of all the time intervals for the channel\n",
        "time_intervals = np.arange(n_samples) / freq\n",
        "print(time_intervals)"
      ]
    },
    {
      "cell_type": "code",
      "execution_count": null,
      "metadata": {
        "id": "-MZcYS3pG3ZX"
      },
      "outputs": [],
      "source": [
        "# close the EDF file\n",
        "edf_file.close()"
      ]
    },
    {
      "cell_type": "code",
      "execution_count": null,
      "metadata": {
        "colab": {
          "base_uri": "https://localhost:8080/"
        },
        "id": "6fv2cA9eiy8P",
        "outputId": "d34b7195-d7bb-4519-e380-03680fd8522a"
      },
      "outputs": [
        {
          "name": "stdout",
          "output_type": "stream",
          "text": [
            "[]\n",
            "files :  0\n"
          ]
        }
      ],
      "source": [
        "## Ambil list directory di vector\n",
        "eeg_vec_dir = tf.io.gfile.glob(str(vector_dir) +'*.edf')\n",
        "print(eeg_vec_dir)\n",
        "eeg_vec_dir = tf.random.shuffle(eeg_vec_dir)\n",
        "print(\"files : \", len(eeg_vec_dir))"
      ]
    },
    {
      "cell_type": "code",
      "execution_count": null,
      "metadata": {
        "id": "nYmIyjGkGiBQ"
      },
      "outputs": [],
      "source": [
        "def get_samples(edf_file, channel_name):\n",
        "    # open the EDF file\n",
        "    with pyedflib.EdfReader(edf_file) as edf:\n",
        "        # get the index of the channel\n",
        "        channel_index = edf.getSignalLabels().index(channel_name)\n",
        "        \n",
        "        # get all the data for the channel\n",
        "        samples = edf.readSignal(channel_index)\n",
        "\n",
        "    return samples"
      ]
    },
    {
      "cell_type": "code",
      "execution_count": null,
      "metadata": {
        "colab": {
          "base_uri": "https://localhost:8080/",
          "height": 320
        },
        "id": "U2aZoxOTGn0_",
        "outputId": "30dbe8b0-c9b6-42d6-e75b-ea7997c7f648"
      },
      "outputs": [
        {
          "ename": "ValueError",
          "evalue": "ignored",
          "output_type": "error",
          "traceback": [
            "\u001b[0;31m---------------------------------------------------------------------------\u001b[0m",
            "\u001b[0;31mValueError\u001b[0m                                Traceback (most recent call last)",
            "\u001b[0;32m<ipython-input-22-517b839b2390>\u001b[0m in \u001b[0;36m<cell line: 1>\u001b[0;34m()\u001b[0m\n\u001b[0;32m----> 1\u001b[0;31m \u001b[0msample\u001b[0m \u001b[0;34m=\u001b[0m \u001b[0mget_samples\u001b[0m\u001b[0;34m(\u001b[0m\u001b[0;34m\"/content/drive/MyDrive/dataset/eegcap/sdb/sdb2.edf\"\u001b[0m\u001b[0;34m,\u001b[0m\u001b[0;34m\"F2-F4\"\u001b[0m\u001b[0;34m)\u001b[0m\u001b[0;34m\u001b[0m\u001b[0;34m\u001b[0m\u001b[0m\n\u001b[0m\u001b[1;32m      2\u001b[0m \u001b[0mprint\u001b[0m\u001b[0;34m(\u001b[0m\u001b[0msample\u001b[0m\u001b[0;34m.\u001b[0m\u001b[0mshape\u001b[0m\u001b[0;34m)\u001b[0m\u001b[0;34m\u001b[0m\u001b[0;34m\u001b[0m\u001b[0m\n",
            "\u001b[0;32m<ipython-input-19-06f9db7855a4>\u001b[0m in \u001b[0;36mget_samples\u001b[0;34m(edf_file, channel_name)\u001b[0m\n\u001b[1;32m      3\u001b[0m     \u001b[0;32mwith\u001b[0m \u001b[0mpyedflib\u001b[0m\u001b[0;34m.\u001b[0m\u001b[0mEdfReader\u001b[0m\u001b[0;34m(\u001b[0m\u001b[0medf_file\u001b[0m\u001b[0;34m)\u001b[0m \u001b[0;32mas\u001b[0m \u001b[0medf\u001b[0m\u001b[0;34m:\u001b[0m\u001b[0;34m\u001b[0m\u001b[0;34m\u001b[0m\u001b[0m\n\u001b[1;32m      4\u001b[0m         \u001b[0;31m# get the index of the channel\u001b[0m\u001b[0;34m\u001b[0m\u001b[0;34m\u001b[0m\u001b[0m\n\u001b[0;32m----> 5\u001b[0;31m         \u001b[0mchannel_index\u001b[0m \u001b[0;34m=\u001b[0m \u001b[0medf\u001b[0m\u001b[0;34m.\u001b[0m\u001b[0mgetSignalLabels\u001b[0m\u001b[0;34m(\u001b[0m\u001b[0;34m)\u001b[0m\u001b[0;34m.\u001b[0m\u001b[0mindex\u001b[0m\u001b[0;34m(\u001b[0m\u001b[0mchannel_name\u001b[0m\u001b[0;34m)\u001b[0m\u001b[0;34m\u001b[0m\u001b[0;34m\u001b[0m\u001b[0m\n\u001b[0m\u001b[1;32m      6\u001b[0m \u001b[0;34m\u001b[0m\u001b[0m\n\u001b[1;32m      7\u001b[0m         \u001b[0;31m# get all the data for the channel\u001b[0m\u001b[0;34m\u001b[0m\u001b[0;34m\u001b[0m\u001b[0m\n",
            "\u001b[0;31mValueError\u001b[0m: 'F2-F4' is not in list"
          ]
        }
      ],
      "source": [
        "sample = get_samples(\"/content/drive/MyDrive/dataset/eegcap/sdb/sdb2.edf\",\"F2-F4\")\n",
        "print(sample.shape)"
      ]
    },
    {
      "cell_type": "code",
      "execution_count": null,
      "metadata": {
        "colab": {
          "base_uri": "https://localhost:8080/"
        },
        "id": "xMI5yOk31Kfk",
        "outputId": "b70ff13c-f643-4f96-d54d-12c6374707e0"
      },
      "outputs": [
        {
          "name": "stdout",
          "output_type": "stream",
          "text": [
            "/content/drive/MyDrive/dataset/eegcap ['sdb', 'normal'] F2-F4\n"
          ]
        }
      ],
      "source": [
        "sample_dir = vector_dir\n",
        "labels = [\"sdb\", \"normal\"]\n",
        "channel_name = \"F2-F4\"\n",
        "print(sample_dir, labels, channel_name)"
      ]
    },
    {
      "cell_type": "code",
      "execution_count": null,
      "metadata": {
        "colab": {
          "base_uri": "https://localhost:8080/",
          "height": 356
        },
        "id": "VToSFouC1JBl",
        "outputId": "681cf958-0911-42ff-9424-1f70d70ef3d2"
      },
      "outputs": [
        {
          "ename": "OSError",
          "evalue": "ignored",
          "output_type": "error",
          "traceback": [
            "\u001b[0;31m---------------------------------------------------------------------------\u001b[0m",
            "\u001b[0;31mOSError\u001b[0m                                   Traceback (most recent call last)",
            "\u001b[0;32m<ipython-input-18-2776dfe23583>\u001b[0m in \u001b[0;36m<cell line: 5>\u001b[0;34m()\u001b[0m\n\u001b[1;32m      8\u001b[0m         \u001b[0mfilepath\u001b[0m \u001b[0;34m=\u001b[0m \u001b[0mos\u001b[0m\u001b[0;34m.\u001b[0m\u001b[0mpath\u001b[0m\u001b[0;34m.\u001b[0m\u001b[0mjoin\u001b[0m\u001b[0;34m(\u001b[0m\u001b[0mlabel_dir\u001b[0m\u001b[0;34m,\u001b[0m \u001b[0mfilename\u001b[0m\u001b[0;34m)\u001b[0m\u001b[0;34m\u001b[0m\u001b[0;34m\u001b[0m\u001b[0m\n\u001b[1;32m      9\u001b[0m \u001b[0;34m\u001b[0m\u001b[0m\n\u001b[0;32m---> 10\u001b[0;31m         \u001b[0;32mwith\u001b[0m \u001b[0mpyedflib\u001b[0m\u001b[0;34m.\u001b[0m\u001b[0mEdfReader\u001b[0m\u001b[0;34m(\u001b[0m\u001b[0mfilepath\u001b[0m\u001b[0;34m)\u001b[0m \u001b[0;32mas\u001b[0m \u001b[0medf\u001b[0m\u001b[0;34m:\u001b[0m\u001b[0;34m\u001b[0m\u001b[0;34m\u001b[0m\u001b[0m\n\u001b[0m\u001b[1;32m     11\u001b[0m           \u001b[0;31m# get the index of the channel\u001b[0m\u001b[0;34m\u001b[0m\u001b[0;34m\u001b[0m\u001b[0m\n\u001b[1;32m     12\u001b[0m           \u001b[0mchannel_index\u001b[0m \u001b[0;34m=\u001b[0m \u001b[0medf\u001b[0m\u001b[0;34m.\u001b[0m\u001b[0mgetSignalLabels\u001b[0m\u001b[0;34m(\u001b[0m\u001b[0;34m)\u001b[0m\u001b[0;34m.\u001b[0m\u001b[0mindex\u001b[0m\u001b[0;34m(\u001b[0m\u001b[0mchannel_name\u001b[0m\u001b[0;34m)\u001b[0m\u001b[0;34m\u001b[0m\u001b[0;34m\u001b[0m\u001b[0m\n",
            "\u001b[0;32mpyedflib/_extensions/_pyedflib.pyx\u001b[0m in \u001b[0;36mpyedflib._extensions._pyedflib.CyEdfReader.__init__\u001b[0;34m()\u001b[0m\n",
            "\u001b[0;32mpyedflib/_extensions/_pyedflib.pyx\u001b[0m in \u001b[0;36mpyedflib._extensions._pyedflib.CyEdfReader.open\u001b[0;34m()\u001b[0m\n",
            "\u001b[0;32mpyedflib/_extensions/_pyedflib.pyx\u001b[0m in \u001b[0;36mpyedflib._extensions._pyedflib.CyEdfReader.check_open_ok\u001b[0;34m()\u001b[0m\n",
            "\u001b[0;31mOSError\u001b[0m: /content/drive/MyDrive/dataset/eegcap/sdb/sdb1.edf: the file is not EDF(+) or BDF(+) compliant (Digital Minimum)"
          ]
        }
      ],
      "source": [
        "from tensorflow.python.ops.functional_ops import If\n",
        "eeg_data = []\n",
        "eeg_labels = []\n",
        "\n",
        "for label in labels:\n",
        "    label_dir = os.path.join(sample_dir, label)\n",
        "    for filename in os.listdir(label_dir):\n",
        "        filepath = os.path.join(label_dir, filename)\n",
        "\n",
        "        with pyedflib.EdfReader(filepath) as edf:\n",
        "          # get the index of the channel\n",
        "          channel_index = edf.getSignalLabels().index(channel_name)\n",
        "          \n",
        "          # get all the data for the channel\n",
        "          samples = edf.readSignal(channel_index)\n",
        "        \n",
        "        # with open(filepath, 'r') as file:\n",
        "        #     recording = np.array(file.read().split(), dtype=np.float32)\n",
        "\n",
        "        eeg_data.append(samples)\n",
        "\n",
        "        if (label == 'normal'):\n",
        "          label = 0\n",
        "        elif (label == 'sdb'):\n",
        "          label = 1\n",
        "\n",
        "        eeg_labels.append(label)\n",
        "\n",
        "\n",
        "eeg_data = np.array(eeg_data)\n",
        "eeg_labels = np.array(eeg_labels)\n",
        "print(\"EEG data shape:\", eeg_data.shape)\n",
        "print(\"EEG label shape:\", eeg_labels.shape)"
      ]
    },
    {
      "cell_type": "markdown",
      "metadata": {
        "id": "eFHnLyQ7raCU"
      },
      "source": [
        "### CAP txt"
      ]
    },
    {
      "cell_type": "markdown",
      "metadata": {
        "id": "nbNhsawQ1PEn"
      },
      "source": [
        "#### window version"
      ]
    },
    {
      "cell_type": "markdown",
      "metadata": {
        "id": "ghaMGzFATmo6"
      },
      "source": [
        "##### NON FFT"
      ]
    },
    {
      "cell_type": "code",
      "execution_count": null,
      "metadata": {
        "colab": {
          "base_uri": "https://localhost:8080/"
        },
        "id": "mlfZsxkP1e5G",
        "outputId": "73cf0e10-2738-4487-ca2f-6dbfcee8d3ea"
      },
      "outputs": [
        {
          "name": "stdout",
          "output_type": "stream",
          "text": [
            "n1 c3p3.txt\n",
            "sdb3 P4-O2 (2)\n",
            "sdb3 P4-O2 (1)\n"
          ]
        }
      ],
      "source": [
        "eeg_sample = []\n",
        "eeg_labell = []\n",
        "max_len = 0  # variable to store maximum length of signals\n",
        "window_size = 879936\n",
        "stride = 0.1 # 10% overlap\n",
        "\n",
        "for label in labels:\n",
        "    label_dir = os.path.join(sample_dir, label)\n",
        "    for filename in os.listdir(label_dir):\n",
        "        filepath = os.path.join(label_dir, filename)\n",
        "        with open(filepath, 'r') as file:\n",
        "            print(filename)\n",
        "            # skip the first line as it contains column headers\n",
        "            file.readline()\n",
        "\n",
        "            # read the remaining lines and extract signal values\n",
        "            data = []\n",
        "            for i, line in enumerate(file):\n",
        "                values = line.strip().split(\";\")[4] # extract signal value from the 5th column\n",
        "                data.append(float(values))\n",
        "\n",
        "            # Pad data if shorter than window size\n",
        "            if len(data) < window_size:\n",
        "                padding = np.zeros(window_size - len(data))\n",
        "                data = np.concatenate([data, padding])\n",
        "\n",
        "            # Split data into segments\n",
        "            stride_size = int(window_size * stride)\n",
        "            for i in range(0, len(data) - window_size + 1, stride_size):\n",
        "                segment = data[i:i+window_size]\n",
        "                eeg_sample.append(segment)\n",
        "\n",
        "                # if this is a new maximum length\n",
        "                if len(segment) > max_len:\n",
        "                    max_len = len(segment)\n",
        "\n",
        "                if (label == 'normal'):\n",
        "                    bi_label = 0\n",
        "                elif (label == 'sdb'):\n",
        "                    bi_label = 1\n",
        "\n",
        "                eeg_labell.append(bi_label)\n"
      ]
    },
    {
      "cell_type": "markdown",
      "metadata": {
        "id": "K9ZSDaTyTrzA"
      },
      "source": [
        "##### FFT"
      ]
    },
    {
      "cell_type": "code",
      "execution_count": null,
      "metadata": {
        "colab": {
          "base_uri": "https://localhost:8080/"
        },
        "id": "4faYjRq9TuZq",
        "outputId": "eac65d84-b071-4883-80f5-8a59c1c34333"
      },
      "outputs": [
        {
          "output_type": "stream",
          "name": "stdout",
          "text": [
            "n1 c3p3.txt\n",
            "sdb3 P4-O2 (2)\n",
            "sdb3 P4-O2 (1)\n"
          ]
        }
      ],
      "source": [
        "from scipy.fft import fft\n",
        "\n",
        "eeg_sample = []\n",
        "eeg_labell = []\n",
        "max_len = 0  # variable to store maximum length of signals\n",
        "window_size = 879936\n",
        "stride = 0.1 # 10% overlap\n",
        "\n",
        "for label in labels:\n",
        "    label_dir = os.path.join(sample_dir, label)\n",
        "    for filename in os.listdir(label_dir):\n",
        "        filepath = os.path.join(label_dir, filename)\n",
        "        with open(filepath, 'r') as file:\n",
        "            print(filename)\n",
        "            # skip the first line as it contains column headers\n",
        "            file.readline()\n",
        "\n",
        "            # read the remaining lines and extract signal values\n",
        "            data = []\n",
        "            for i, line in enumerate(file):\n",
        "                values = line.strip().split(\";\")[4] # extract signal value from the 5th column\n",
        "                data.append(float(values))\n",
        "\n",
        "            # Pad data if shorter than window size\n",
        "            if len(data) < window_size:\n",
        "                padding = np.zeros(window_size - len(data))\n",
        "                data = np.concatenate([data, padding])\n",
        "\n",
        "            # Split data into segments\n",
        "            stride_size = int(window_size * stride)\n",
        "            for i in range(0, len(data) - window_size + 1, stride_size):\n",
        "                segment = data[i:i+window_size]\n",
        "\n",
        "                # Apply FFT to the segment\n",
        "                fft_segment = fft(segment)\n",
        "\n",
        "                eeg_sample.append(segment)\n",
        "\n",
        "                # if this is a new maximum length\n",
        "                if len(segment) > max_len:\n",
        "                    max_len = len(segment)\n",
        "\n",
        "                if (label == 'normal'):\n",
        "                    bi_label = 0\n",
        "                elif (label == 'sdb'):\n",
        "                    bi_label = 1\n",
        "\n",
        "                eeg_labell.append(bi_label)"
      ]
    },
    {
      "cell_type": "markdown",
      "metadata": {
        "id": "BUHDo7JZ1XWv"
      },
      "source": [
        "#### non window"
      ]
    },
    {
      "cell_type": "code",
      "execution_count": null,
      "metadata": {
        "colab": {
          "base_uri": "https://localhost:8080/"
        },
        "id": "AbX--THjrcjg",
        "outputId": "1f4a7fc1-55d1-40a3-c56f-2d8fd4c0da71"
      },
      "outputs": [
        {
          "name": "stdout",
          "output_type": "stream",
          "text": [
            "n1 f2f4.txt\n",
            "n1 f4c4.txt\n",
            "n1 c3p3.txt\n",
            "n1 p3o1.txt\n",
            "n2 C4-A1.txt\n",
            "sdb3 P4-O2 (4)\n",
            "sdb3 P4-O2 (3)\n",
            "sdb3 P4-O2 (5)\n",
            "sdb3 P4-O2 (2)\n",
            "sdb3 P4-O2 (8)\n",
            "sdb3 P4-O2 (9)\n",
            "sdb3 P4-O2 (7)\n",
            "sdb3 P4-O2 (1)\n",
            "sdb3 P4-O2 (6)\n"
          ]
        }
      ],
      "source": [
        "from tensorflow.python.ops.functional_ops import If\n",
        "\n",
        "eeg_sample = []\n",
        "eeg_labell = []\n",
        "max_len = 0  # variable to store maximum length of signals\n",
        "\n",
        "for label in labels:\n",
        "    label_dir = os.path.join(sample_dir, label)\n",
        "    for filename in os.listdir(label_dir):\n",
        "        filepath = os.path.join(label_dir, filename)\n",
        "        with open(filepath, 'r') as file:\n",
        "            print(filename)\n",
        "            # skip the first line as it contains column headers\n",
        "            file.readline()\n",
        "\n",
        "            # read the remaining lines and extract signal values\n",
        "            data = []\n",
        "            for i, line in enumerate(file):\n",
        "                # # only extract signal values from every other line for \"normal\" data\n",
        "                # if label == 'normal' and i % 2 == 0:\n",
        "                #     values = line.strip().split(\";\")[4] # extract signal value from the 5th column\n",
        "                #     data.append(float(values))\n",
        "                # # extract signal values from every line for \"sdb\" data\n",
        "                # elif label == 'sdb':\n",
        "                #     values = line.strip().split(\";\")[4] # extract signal value from the 5th column\n",
        "                #     data.append(float(values))\n",
        "\n",
        "                values = line.strip().split(\";\")[4] # extract signal value from the 5th column\n",
        "                data.append(float(values))\n",
        "                \n",
        "            # update max_len if necessary\n",
        "            if len(data) > max_len:\n",
        "                max_len = len(data)\n",
        "\n",
        "            # convert the list of values to a numpy array\n",
        "            data = np.array(data)\n",
        "\n",
        "        eeg_sample.append(data)\n",
        "\n",
        "        if (label == 'normal'):\n",
        "            bi_label = 0\n",
        "        elif (label == 'sdb'):\n",
        "            bi_label = 1\n",
        "\n",
        "        eeg_labell.append(bi_label)"
      ]
    },
    {
      "cell_type": "markdown",
      "metadata": {
        "id": "knM4_2yq1asH"
      },
      "source": [
        "####check"
      ]
    },
    {
      "cell_type": "code",
      "execution_count": null,
      "metadata": {
        "colab": {
          "base_uri": "https://localhost:8080/"
        },
        "id": "6zvBFXbUhQ6v",
        "outputId": "d1afb378-73ef-43f2-b5d1-f3bebe9e3acd"
      },
      "outputs": [
        {
          "output_type": "stream",
          "name": "stdout",
          "text": [
            "EEG data shape: (352, 879936)\n",
            "EEG label shape: (352,)\n"
          ]
        }
      ],
      "source": [
        "eeg_sample = np.array(eeg_sample)\n",
        "eeg_labell = np.array(eeg_labell)\n",
        "print(\"EEG data shape:\", eeg_sample.shape)\n",
        "print(\"EEG label shape:\", eeg_labell.shape)"
      ]
    },
    {
      "cell_type": "code",
      "execution_count": null,
      "metadata": {
        "colab": {
          "base_uri": "https://localhost:8080/"
        },
        "id": "U8yaVY7I3i_4",
        "outputId": "299f60f2-bf20-436e-b1b1-0ff863055ab5"
      },
      "outputs": [
        {
          "output_type": "stream",
          "name": "stdout",
          "text": [
            "Label counts: {0: 192, 1: 160}\n"
          ]
        }
      ],
      "source": [
        "unique_labels, label_counts = np.unique(eeg_labell, return_counts=True)\n",
        "print(\"Label counts:\", dict(zip(unique_labels, label_counts)))"
      ]
    },
    {
      "cell_type": "code",
      "execution_count": null,
      "metadata": {
        "id": "oLNIhQDrvDfg"
      },
      "outputs": [],
      "source": [
        "eeg_data = eeg_sample\n",
        "eeg_labels = eeg_labell"
      ]
    },
    {
      "cell_type": "code",
      "execution_count": null,
      "metadata": {
        "id": "Y7OaCciRXCKo"
      },
      "outputs": [],
      "source": [
        "print(\"EEG data shape:\", eeg_data.shape)\n",
        "\n",
        "for data in eeg_data:\n",
        "  print( data.shape)"
      ]
    },
    {
      "cell_type": "markdown",
      "metadata": {
        "id": "Oa-JF2T71dzn"
      },
      "source": [
        "#### pad / truncate"
      ]
    },
    {
      "cell_type": "code",
      "execution_count": null,
      "metadata": {
        "colab": {
          "base_uri": "https://localhost:8080/"
        },
        "id": "8h3g6eF2FzRg",
        "outputId": "0a90076f-0769-41e1-f962-9dcd47b203d5"
      },
      "outputs": [
        {
          "name": "stdout",
          "output_type": "stream",
          "text": [
            "EEG data shape: (18, 7879936)\n",
            "EEG label shape: (18,)\n",
            "(7879936,)\n",
            "(7879936,)\n",
            "(7879936,)\n",
            "(7879936,)\n",
            "(7879936,)\n",
            "(7879936,)\n",
            "(7879936,)\n",
            "(7879936,)\n",
            "(7879936,)\n",
            "(7879936,)\n",
            "(7879936,)\n",
            "(7879936,)\n",
            "(7879936,)\n",
            "(7879936,)\n",
            "(7879936,)\n",
            "(7879936,)\n",
            "(7879936,)\n",
            "(7879936,)\n"
          ]
        }
      ],
      "source": [
        "# pad or truncate all signals to the same length\n",
        "eeg_data = pad_sequences(eeg_data, maxlen=7879936, dtype='float32', padding='post', truncating='post')\n",
        "\n",
        "eeg_labels = np.array(eeg_labels)\n",
        "print(\"EEG data shape:\", eeg_data.shape)\n",
        "print(\"EEG label shape:\", eeg_labels.shape)\n",
        "\n",
        "for data in eeg_data:\n",
        "  print(data.shape)"
      ]
    },
    {
      "cell_type": "markdown",
      "metadata": {
        "id": "uN9av2IUQ-2B"
      },
      "source": [
        "### Worked"
      ]
    },
    {
      "cell_type": "code",
      "execution_count": null,
      "metadata": {
        "colab": {
          "base_uri": "https://localhost:8080/",
          "height": 246
        },
        "id": "vjbQfpo71XMR",
        "outputId": "10a7ebce-2649-4575-aaee-6d503ead1096"
      },
      "outputs": [
        {
          "ename": "ValueError",
          "evalue": "ignored",
          "output_type": "error",
          "traceback": [
            "\u001b[0;31m---------------------------------------------------------------------------\u001b[0m",
            "\u001b[0;31mValueError\u001b[0m                                Traceback (most recent call last)",
            "\u001b[0;32m<ipython-input-8-f403f19ef9c2>\u001b[0m in \u001b[0;36m<cell line: 5>\u001b[0;34m()\u001b[0m\n\u001b[1;32m      8\u001b[0m         \u001b[0mfilepath\u001b[0m \u001b[0;34m=\u001b[0m \u001b[0mos\u001b[0m\u001b[0;34m.\u001b[0m\u001b[0mpath\u001b[0m\u001b[0;34m.\u001b[0m\u001b[0mjoin\u001b[0m\u001b[0;34m(\u001b[0m\u001b[0mlabel_dir\u001b[0m\u001b[0;34m,\u001b[0m \u001b[0mfilename\u001b[0m\u001b[0;34m)\u001b[0m\u001b[0;34m\u001b[0m\u001b[0;34m\u001b[0m\u001b[0m\n\u001b[1;32m      9\u001b[0m         \u001b[0;32mwith\u001b[0m \u001b[0mopen\u001b[0m\u001b[0;34m(\u001b[0m\u001b[0mfilepath\u001b[0m\u001b[0;34m,\u001b[0m \u001b[0;34m'r'\u001b[0m\u001b[0;34m)\u001b[0m \u001b[0;32mas\u001b[0m \u001b[0mfile\u001b[0m\u001b[0;34m:\u001b[0m\u001b[0;34m\u001b[0m\u001b[0;34m\u001b[0m\u001b[0m\n\u001b[0;32m---> 10\u001b[0;31m             \u001b[0mrecording\u001b[0m \u001b[0;34m=\u001b[0m \u001b[0mnp\u001b[0m\u001b[0;34m.\u001b[0m\u001b[0marray\u001b[0m\u001b[0;34m(\u001b[0m\u001b[0mfile\u001b[0m\u001b[0;34m.\u001b[0m\u001b[0mread\u001b[0m\u001b[0;34m(\u001b[0m\u001b[0;34m)\u001b[0m\u001b[0;34m.\u001b[0m\u001b[0msplit\u001b[0m\u001b[0;34m(\u001b[0m\u001b[0;34m)\u001b[0m\u001b[0;34m,\u001b[0m \u001b[0mdtype\u001b[0m\u001b[0;34m=\u001b[0m\u001b[0mnp\u001b[0m\u001b[0;34m.\u001b[0m\u001b[0mfloat32\u001b[0m\u001b[0;34m)\u001b[0m\u001b[0;34m\u001b[0m\u001b[0;34m\u001b[0m\u001b[0m\n\u001b[0m\u001b[1;32m     11\u001b[0m \u001b[0;34m\u001b[0m\u001b[0m\n\u001b[1;32m     12\u001b[0m         \u001b[0meeg_data\u001b[0m\u001b[0;34m.\u001b[0m\u001b[0mappend\u001b[0m\u001b[0;34m(\u001b[0m\u001b[0mrecording\u001b[0m\u001b[0;34m)\u001b[0m\u001b[0;34m\u001b[0m\u001b[0;34m\u001b[0m\u001b[0m\n",
            "\u001b[0;31mValueError\u001b[0m: could not convert string to float: 'Date;HH;MM;SS;F2-F4[uV]'"
          ]
        }
      ],
      "source": [
        "from tensorflow.python.ops.functional_ops import If\n",
        "eeg_data = []\n",
        "eeg_labels = []\n",
        "\n",
        "for label in labels:\n",
        "    label_dir = os.path.join(sample_dir, label)\n",
        "    for filename in os.listdir(label_dir):\n",
        "        filepath = os.path.join(label_dir, filename)\n",
        "        with open(filepath, 'r') as file:\n",
        "            recording = np.array(file.read().split(), dtype=np.float32)\n",
        "\n",
        "        eeg_data.append(recording)\n",
        "\n",
        "        if (label == 'normal'):\n",
        "          label = 0\n",
        "        elif (label == 'sa'):\n",
        "          label = 1\n",
        "\n",
        "        eeg_labels.append(label)\n",
        "\n",
        "\n",
        "eeg_data = np.array(eeg_data)\n",
        "eeg_labels = np.array(eeg_labels)\n",
        "print(\"EEG data shape:\", eeg_data.shape)\n",
        "print(\"EEG label shape:\", eeg_labels.shape)"
      ]
    },
    {
      "cell_type": "markdown",
      "metadata": {
        "id": "tKx8mB8A1OjX"
      },
      "source": [
        "###RNN"
      ]
    },
    {
      "cell_type": "code",
      "execution_count": null,
      "metadata": {
        "colab": {
          "base_uri": "https://localhost:8080/"
        },
        "id": "cEzw8fnfSMJn",
        "outputId": "4cbd76d8-1a8e-4b1b-eeaa-c0639188ed9b"
      },
      "outputs": [
        {
          "name": "stdout",
          "output_type": "stream",
          "text": [
            "EEG data shape: (2417, 1, 6000)\n",
            "EEG label shape: (2417, 1, 1)\n",
            "[[[ 1.92272472e+01  1.64804983e+00  1.70298481e+01 ...  2.38051629e+00\n",
            "   -7.14154911e+00  3.47921634e+00]]\n",
            "\n",
            " [[-7.87401581e+00  3.11298299e+00 -6.40908241e+00 ...  4.94414949e+00\n",
            "    5.31038284e+00  2.01428318e+00]]\n",
            "\n",
            " [[ 1.59311485e+01 -9.33894920e+00  1.22688150e+01 ...  1.08038816e+01\n",
            "   -7.14154911e+00  1.70298481e+01]]\n",
            "\n",
            " ...\n",
            "\n",
            " [[-6.31752434e+01 -1.32393341e+02 -6.83025055e+01 ...  8.51492386e+01\n",
            "    5.14557762e+01  7.41622391e+01]]\n",
            "\n",
            " [[-1.83116645e-01 -1.83116645e-01 -1.83116645e-01 ... -1.08221939e+02\n",
            "   -1.55649147e+01 -9.86998749e+01]]\n",
            "\n",
            " [[-2.38051629e+00 -1.10419334e+02  2.17908802e+01 ...  2.04175064e+02\n",
            "    4.55960464e+01  1.89159500e+02]]]\n",
            "[[[1]]\n",
            "\n",
            " [[1]]\n",
            "\n",
            " [[1]]\n",
            "\n",
            " ...\n",
            "\n",
            " [[0]]\n",
            "\n",
            " [[0]]\n",
            "\n",
            " [[0]]]\n"
          ]
        }
      ],
      "source": [
        "# convert to 3D tensor\n",
        "eeg_data = eeg_data.reshape((len(eeg_data), 1, -1))\n",
        "eeg_labels = eeg_labels.reshape((len(eeg_labels), 1, -1))\n",
        "\n",
        "print(\"EEG data shape:\", eeg_data.shape)\n",
        "print(\"EEG label shape:\", eeg_labels.shape)\n",
        "\n",
        "print(eeg_data)\n",
        "print(eeg_labels)"
      ]
    },
    {
      "cell_type": "markdown",
      "metadata": {
        "id": "_LIsjIVh1RVe"
      },
      "source": [
        "### CNN"
      ]
    },
    {
      "cell_type": "code",
      "execution_count": null,
      "metadata": {
        "colab": {
          "base_uri": "https://localhost:8080/"
        },
        "id": "ItKPoZlotM7v",
        "outputId": "17d1a71b-afeb-44bf-e690-cb9586deee45"
      },
      "outputs": [
        {
          "output_type": "stream",
          "name": "stdout",
          "text": [
            "EEG data dimensions: 2\n",
            "EEG data shape: (352, 879936, 1)\n",
            "EEG label shape: (352, 1, 1)\n"
          ]
        }
      ],
      "source": [
        "eeg_data = np.array(eeg_data)\n",
        "\n",
        "# check number of dimensions of eeg_data\n",
        "print(\"EEG data dimensions:\", eeg_data.ndim)\n",
        "\n",
        "# swap second and third dimensions using swapaxes\n",
        "# eeg_data = np.swapaxes(eeg_data, 1, 2)\n",
        "\n",
        "# alternatively, you can reshape the array to match the desired axes\n",
        "eeg_data = eeg_data.reshape(eeg_data.shape[0], eeg_data.shape[1], 1)\n",
        "eeg_labels = eeg_labels.reshape(eeg_labels.shape[0], 1, 1)\n",
        "\n",
        "# eeg_data = eeg_data.reshape(eeg_data.shape[0], eeg_data.shape[2], eeg_data.shape[1])\n",
        "\n",
        "print(\"EEG data shape:\", eeg_data.shape)\n",
        "print(\"EEG label shape:\", eeg_labels.shape)"
      ]
    },
    {
      "cell_type": "markdown",
      "metadata": {
        "id": "CbiITcHLRTtv"
      },
      "source": [
        "##SPLIT"
      ]
    },
    {
      "cell_type": "markdown",
      "metadata": {
        "id": "Y2WKiMe1Y_7K"
      },
      "source": [
        "###worked"
      ]
    },
    {
      "cell_type": "code",
      "execution_count": null,
      "metadata": {
        "id": "BQrMF7ljrL14"
      },
      "outputs": [],
      "source": [
        "# Generate an array of indices for the samples\n",
        "indices = np.arange(len(eeg_data))\n",
        "\n",
        "# Shuffle the indices randomly\n",
        "np.random.shuffle(indices)\n",
        "\n",
        "# Use the shuffled indices to shuffle the data and labels arrays\n",
        "eeg_data = eeg_data[indices]\n",
        "eeg_labels = eeg_labels[indices]"
      ]
    },
    {
      "cell_type": "code",
      "execution_count": null,
      "metadata": {
        "colab": {
          "base_uri": "https://localhost:8080/"
        },
        "id": "bUxLH62GeEI6",
        "outputId": "4104d219-6cbd-456b-fc7c-f4a2f36dea29"
      },
      "outputs": [
        {
          "output_type": "stream",
          "name": "stdout",
          "text": [
            "Number of training samples: 246\n",
            "Number of validation samples: 52\n",
            "Number of testing samples: 54\n"
          ]
        }
      ],
      "source": [
        "from collections import Counter\n",
        "\n",
        "\n",
        "# Split the data into training, validation, and testing sets\n",
        "num_samples = len(eeg_data)\n",
        "num_train = int(num_samples * 0.7)\n",
        "num_val = int(num_samples * 0.15)\n",
        "num_test = num_samples - num_train - num_val\n",
        "\n",
        "train_data = eeg_data[:num_train]\n",
        "train_labels = eeg_labels[:num_train]\n",
        "\n",
        "val_data = eeg_data[num_train:num_train+num_val]\n",
        "val_labels = eeg_labels[num_train:num_train+num_val]\n",
        "\n",
        "test_data = eeg_data[num_train+num_val:]\n",
        "test_labels = eeg_labels[num_train+num_val:]\n",
        "\n",
        "print(\"Number of training samples:\", len(train_data))\n",
        "print(\"Number of validation samples:\", len(val_data))\n",
        "print(\"Number of testing samples:\", len(test_data))"
      ]
    },
    {
      "cell_type": "code",
      "execution_count": null,
      "metadata": {
        "colab": {
          "base_uri": "https://localhost:8080/"
        },
        "id": "rraojKvLkdP1",
        "outputId": "11f44768-34ed-42ca-9579-6e8ee8076834"
      },
      "outputs": [
        {
          "output_type": "stream",
          "name": "stdout",
          "text": [
            "training samples: {0: 141, 1: 105}\n",
            "validation samples: {0: 26, 1: 26}\n",
            "testing samples: {0: 25, 1: 29}\n"
          ]
        }
      ],
      "source": [
        "unique_labels, label_counts = np.unique(train_labels, return_counts=True)\n",
        "print(\"training samples:\", (dict(zip(unique_labels, label_counts))))\n",
        "\n",
        "unique_labels, label_counts = np.unique(val_labels, return_counts=True)\n",
        "print(\"validation samples:\",(dict(zip(unique_labels, label_counts))))\n",
        "\n",
        "unique_labels, label_counts = np.unique(test_labels, return_counts=True)\n",
        "print(\"testing samples:\", (dict(zip(unique_labels, label_counts))))"
      ]
    },
    {
      "cell_type": "markdown",
      "metadata": {
        "id": "qhOWIs7HYya5"
      },
      "source": [
        "###idk"
      ]
    },
    {
      "cell_type": "code",
      "execution_count": null,
      "metadata": {
        "id": "BrfOxaZHQ0qf"
      },
      "outputs": [],
      "source": [
        "import glob\n",
        "\n",
        "# Define the directory where the labeled samples are stored\n",
        "data_dir = \"/content/drive/MyDrive/dataset/sample\"\n",
        "\n",
        "# Define the class labels\n",
        "class_labels = [\"normal\", \"sa\"]\n",
        "\n",
        "# Create a list of file paths for each class\n",
        "class_file_paths = []\n",
        "for label in class_labels:\n",
        "    # Create a pattern to match the file names for this class\n",
        "    pattern = f\"{data_dir}/{label}/*.txt\"\n",
        "    # Get the file paths that match this pattern\n",
        "    file_paths = glob.glob(pattern)\n",
        "    # Add the file paths to the list for this class\n",
        "    class_file_paths.append(file_paths)\n"
      ]
    },
    {
      "cell_type": "code",
      "execution_count": null,
      "metadata": {
        "colab": {
          "base_uri": "https://localhost:8080/"
        },
        "id": "rn0OA3TqQ2ke",
        "outputId": "3eead851-c86a-42f5-a1b7-b0f953d45161"
      },
      "outputs": [
        {
          "name": "stdout",
          "output_type": "stream",
          "text": [
            "Number of training samples: 931\n",
            "Number of validation samples: 310\n",
            "Number of test samples: 312\n"
          ]
        }
      ],
      "source": [
        "from sklearn.model_selection import train_test_split\n",
        "\n",
        "# Define the percentage of data to use for training, validation, and test sets\n",
        "train_percent = 0.6\n",
        "val_percent = 0.2\n",
        "test_percent = 0.2\n",
        "\n",
        "# Create empty lists to hold the training, validation, and test sets\n",
        "train_set = []\n",
        "val_set = []\n",
        "test_set = []\n",
        "\n",
        "# Split the data for each class\n",
        "for i, file_paths in enumerate(class_file_paths):\n",
        "    # Split the file paths for this class into training and validation/test sets\n",
        "    train_paths, val_test_paths = train_test_split(file_paths, test_size=val_percent+test_percent)\n",
        "    # Split the validation/test file paths into validation and test sets\n",
        "    val_paths, test_paths = train_test_split(val_test_paths, test_size=test_percent/(val_percent+test_percent))\n",
        "    # Add the file paths to the appropriate set\n",
        "    train_set.extend([(path, i) for path in train_paths])\n",
        "    val_set.extend([(path, i) for path in val_paths])\n",
        "    test_set.extend([(path, i) for path in test_paths])\n",
        "\n",
        "# Shuffle the sets\n",
        "random.shuffle(train_set)\n",
        "random.shuffle(val_set)\n",
        "random.shuffle(test_set)\n",
        "\n",
        "# Print the size of each set\n",
        "print(f\"Number of training samples: {len(train_set)}\")\n",
        "print(f\"Number of validation samples: {len(val_set)}\")\n",
        "print(f\"Number of test samples: {len(test_set)}\")\n"
      ]
    },
    {
      "cell_type": "markdown",
      "metadata": {
        "id": "U_uCAUkuY9JD"
      },
      "source": [
        "# Modelling"
      ]
    },
    {
      "cell_type": "markdown",
      "metadata": {
        "id": "G2MdWQtIoc87"
      },
      "source": [
        "## RNN"
      ]
    },
    {
      "cell_type": "code",
      "execution_count": null,
      "metadata": {
        "colab": {
          "base_uri": "https://localhost:8080/"
        },
        "id": "GtGgtoBMPIOW",
        "outputId": "66280d42-72a6-454b-86bc-3ca1f2ea5334"
      },
      "outputs": [
        {
          "name": "stdout",
          "output_type": "stream",
          "text": [
            "Model: \"sequential\"\n",
            "_________________________________________________________________\n",
            " Layer (type)                Output Shape              Param #   \n",
            "=================================================================\n",
            " simple_rnn (SimpleRNN)      (None, 64)                4224      \n",
            "                                                                 \n",
            " dense (Dense)               (None, 1)                 65        \n",
            "                                                                 \n",
            "=================================================================\n",
            "Total params: 4,289\n",
            "Trainable params: 4,289\n",
            "Non-trainable params: 0\n",
            "_________________________________________________________________\n"
          ]
        }
      ],
      "source": [
        "from tensorflow.keras.models import Sequential\n",
        "from tensorflow.keras.layers import Dense, SimpleRNN\n",
        "\n",
        "rnn = Sequential()\n",
        "rnn.add(SimpleRNN(64, input_shape=(879936,1)))\n",
        "rnn.add(Dense(1, activation='sigmoid'))\n",
        "\n",
        "rnn.compile(loss='binary_crossentropy', optimizer='adam', metrics=['accuracy'])\n",
        "\n",
        "rnn.summary()"
      ]
    },
    {
      "cell_type": "markdown",
      "metadata": {
        "id": "VK16bjyiogLm"
      },
      "source": [
        "## CNN"
      ]
    },
    {
      "cell_type": "code",
      "execution_count": null,
      "metadata": {
        "colab": {
          "base_uri": "https://localhost:8080/"
        },
        "id": "Y1domeUVorbq",
        "outputId": "7b89f5d6-e88b-4f00-d2a3-afce75ad5b81"
      },
      "outputs": [
        {
          "output_type": "stream",
          "name": "stdout",
          "text": [
            "Model: \"sequential_1\"\n",
            "_________________________________________________________________\n",
            " Layer (type)                Output Shape              Param #   \n",
            "=================================================================\n",
            " conv1d_2 (Conv1D)           (None, 879934, 32)        128       \n",
            "                                                                 \n",
            " max_pooling1d_2 (MaxPooling  (None, 439967, 32)       0         \n",
            " 1D)                                                             \n",
            "                                                                 \n",
            " conv1d_3 (Conv1D)           (None, 439965, 16)        1552      \n",
            "                                                                 \n",
            " max_pooling1d_3 (MaxPooling  (None, 219982, 16)       0         \n",
            " 1D)                                                             \n",
            "                                                                 \n",
            " flatten_1 (Flatten)         (None, 3519712)           0         \n",
            "                                                                 \n",
            " dense_2 (Dense)             (None, 16)                56315408  \n",
            "                                                                 \n",
            " dense_3 (Dense)             (None, 1)                 17        \n",
            "                                                                 \n",
            "=================================================================\n",
            "Total params: 56,317,105\n",
            "Trainable params: 56,317,105\n",
            "Non-trainable params: 0\n",
            "_________________________________________________________________\n"
          ]
        }
      ],
      "source": [
        "from tensorflow.keras.models import Sequential\n",
        "from tensorflow.keras.layers import Conv1D, MaxPooling1D, Flatten, Dense\n",
        "\n",
        "cnn = Sequential()\n",
        "cnn.add(Conv1D(filters=32, kernel_size=3, activation='relu', input_shape=(879936, 1)))\n",
        "cnn.add(MaxPooling1D(pool_size=2))\n",
        "cnn.add(Conv1D(filters=16, kernel_size=3, activation='relu'))\n",
        "cnn.add(MaxPooling1D(pool_size=2))\n",
        "cnn.add(Flatten())\n",
        "cnn.add(Dense(16, activation='relu'))\n",
        "cnn.add(Dense(1, activation='sigmoid'))\n",
        "\n",
        "cnn.compile(loss='binary_crossentropy', optimizer='adam', metrics=['accuracy'])\n",
        "\n",
        "cnn.summary()"
      ]
    },
    {
      "cell_type": "markdown",
      "metadata": {
        "id": "qqkPN3PCn8nC"
      },
      "source": [
        "# Execute Model"
      ]
    },
    {
      "cell_type": "markdown",
      "metadata": {
        "id": "nN_WjX_yq4Lh"
      },
      "source": [
        "### RNN non FFT"
      ]
    },
    {
      "cell_type": "code",
      "execution_count": null,
      "metadata": {
        "colab": {
          "base_uri": "https://localhost:8080/"
        },
        "id": "0FIVzKaGW7D5",
        "outputId": "2d862c40-2f84-4117-b71b-f145f84e46ef"
      },
      "outputs": [
        {
          "name": "stdout",
          "output_type": "stream",
          "text": [
            "Epoch 1/10\n",
            "16/16 [==============================] - 2277s 143s/step - loss: 0.7070 - accuracy: 0.5325 - val_loss: 0.7579 - val_accuracy: 0.4231\n",
            "Epoch 2/10\n",
            "16/16 [==============================] - 2298s 144s/step - loss: 0.6771 - accuracy: 0.6138 - val_loss: 0.6916 - val_accuracy: 0.5577\n",
            "Epoch 3/10\n",
            "16/16 [==============================] - 2607s 164s/step - loss: 0.6669 - accuracy: 0.5854 - val_loss: 0.7036 - val_accuracy: 0.5192\n",
            "Epoch 4/10\n",
            "16/16 [==============================] - 2412s 151s/step - loss: 0.6550 - accuracy: 0.6667 - val_loss: 0.6843 - val_accuracy: 0.5577\n",
            "Epoch 5/10\n",
            "16/16 [==============================] - 2280s 143s/step - loss: 0.6421 - accuracy: 0.6301 - val_loss: 0.6810 - val_accuracy: 0.5577\n",
            "Epoch 6/10\n",
            "16/16 [==============================] - 2312s 146s/step - loss: 0.6306 - accuracy: 0.6667 - val_loss: 0.6939 - val_accuracy: 0.5385\n",
            "Epoch 7/10\n",
            "16/16 [==============================] - 2632s 166s/step - loss: 0.6185 - accuracy: 0.6748 - val_loss: 0.6731 - val_accuracy: 0.5577\n",
            "Epoch 8/10\n",
            "16/16 [==============================] - 2357s 148s/step - loss: 0.6142 - accuracy: 0.6789 - val_loss: 0.6610 - val_accuracy: 0.5385\n",
            "Epoch 9/10\n",
            "16/16 [==============================] - 2542s 161s/step - loss: 0.5990 - accuracy: 0.6992 - val_loss: 0.6678 - val_accuracy: 0.5577\n",
            "Epoch 10/10\n",
            "16/16 [==============================] - 2271s 142s/step - loss: 0.5881 - accuracy: 0.6992 - val_loss: 0.6808 - val_accuracy: 0.5962\n"
          ]
        },
        {
          "data": {
            "text/plain": [
              "<keras.callbacks.History at 0x7f91b604a890>"
            ]
          },
          "execution_count": 18,
          "metadata": {},
          "output_type": "execute_result"
        }
      ],
      "source": [
        "rnn.fit(train_data, train_labels, batch_size=16, epochs=10, validation_data=(val_data, val_labels))"
      ]
    },
    {
      "cell_type": "code",
      "execution_count": null,
      "metadata": {
        "colab": {
          "base_uri": "https://localhost:8080/"
        },
        "id": "NBcfWUQbevyl",
        "outputId": "1a238ec4-7a40-45c6-ad88-094b09427a74"
      },
      "outputs": [
        {
          "name": "stdout",
          "output_type": "stream",
          "text": [
            "2/2 [==============================] - 86s 40s/step - loss: 0.6822 - accuracy: 0.5741\n",
            "Test loss:  0.6821998953819275\n",
            "Test accuracy: 0.5740740895271301\n"
          ]
        }
      ],
      "source": [
        "Ttest_loss, test_accuracy = rnn.evaluate(test_data, t est_labels)\n",
        "print(f\"Test loss: \", test_loss)\n",
        "print(f\"Test accuracy:\" ,test_accuracy)"
      ]
    },
    {
      "cell_type": "code",
      "execution_count": null,
      "metadata": {
        "id": "jJ5sVg2esq3I"
      },
      "outputs": [],
      "source": [
        "test_data = np.random.rand(10, 1, 6000) # generate some random test data\n",
        "# print(test_data)\n",
        "predictions = rnn.predict(test_data)\n",
        "print(predictions)"
      ]
    },
    {
      "cell_type": "markdown",
      "metadata": {
        "id": "yHbf2qsVaXjD"
      },
      "source": [
        "### RNN FFT"
      ]
    },
    {
      "cell_type": "code",
      "execution_count": null,
      "metadata": {
        "colab": {
          "base_uri": "https://localhost:8080/"
        },
        "id": "jan_YT-baXjN",
        "outputId": "45c0a0b1-dead-407f-b17a-a38c2e7ef5ba"
      },
      "outputs": [
        {
          "output_type": "stream",
          "name": "stdout",
          "text": [
            "Epoch 1/10\n",
            "16/16 [==============================] - 2202s 138s/step - loss: 0.7136 - accuracy: 0.5854 - val_loss: 0.6998 - val_accuracy: 0.5000\n",
            "Epoch 2/10\n",
            "16/16 [==============================] - 2193s 138s/step - loss: 0.6780 - accuracy: 0.5569 - val_loss: 0.6873 - val_accuracy: 0.6346\n",
            "Epoch 3/10\n",
            "16/16 [==============================] - 2161s 136s/step - loss: 0.6753 - accuracy: 0.6098 - val_loss: 0.6845 - val_accuracy: 0.5385\n",
            "Epoch 4/10\n",
            "16/16 [==============================] - 2166s 136s/step - loss: 0.6651 - accuracy: 0.5935 - val_loss: 0.6717 - val_accuracy: 0.5192\n",
            "Epoch 5/10\n",
            "16/16 [==============================] - 2180s 137s/step - loss: 0.6453 - accuracy: 0.6626 - val_loss: 0.6676 - val_accuracy: 0.5192\n",
            "Epoch 6/10\n",
            "16/16 [==============================] - 2156s 135s/step - loss: 0.6368 - accuracy: 0.6423 - val_loss: 0.6494 - val_accuracy: 0.5385\n",
            "Epoch 7/10\n",
            "16/16 [==============================] - 2154s 135s/step - loss: 0.6214 - accuracy: 0.6748 - val_loss: 0.6620 - val_accuracy: 0.5000\n",
            "Epoch 8/10\n",
            "16/16 [==============================] - 2151s 135s/step - loss: 0.6142 - accuracy: 0.6504 - val_loss: 0.6735 - val_accuracy: 0.5577\n",
            "Epoch 9/10\n",
            "16/16 [==============================] - 2149s 135s/step - loss: 0.6057 - accuracy: 0.6870 - val_loss: 0.6693 - val_accuracy: 0.5962\n",
            "Epoch 10/10\n",
            "16/16 [==============================] - 2202s 138s/step - loss: 0.6125 - accuracy: 0.6829 - val_loss: 0.7996 - val_accuracy: 0.5192\n"
          ]
        },
        {
          "output_type": "execute_result",
          "data": {
            "text/plain": [
              "<keras.callbacks.History at 0x7ff2f8c05390>"
            ]
          },
          "metadata": {},
          "execution_count": 21
        }
      ],
      "source": [
        "rnn.fit(train_data, train_labels, batch_size=16, epochs=10, validation_data=(val_data, val_labels))"
      ]
    },
    {
      "cell_type": "code",
      "execution_count": null,
      "metadata": {
        "colab": {
          "base_uri": "https://localhost:8080/"
        },
        "id": "PILtcSecaXjO",
        "outputId": "10eccac6-6a82-41c9-dc57-ba75fb46cf4a"
      },
      "outputs": [
        {
          "output_type": "stream",
          "name": "stdout",
          "text": [
            "2/2 [==============================] - 85s 39s/step - loss: 0.8156 - accuracy: 0.4259\n",
            "Test loss:  0.8156340718269348\n",
            "Test accuracy: 0.42592594027519226\n"
          ]
        }
      ],
      "source": [
        "test_loss, test_accuracy = rnn.evaluate(test_data, test_labels)\n",
        "print(f\"Test loss: \", test_loss)\n",
        "print(f\"Test accuracy:\" ,test_accuracy)"
      ]
    },
    {
      "cell_type": "code",
      "execution_count": null,
      "metadata": {
        "id": "lzn3ymSPaXjO"
      },
      "outputs": [],
      "source": [
        "test_data = np.random.rand(10, 1, 6000) # generate some random test data\n",
        "# print(test_data)\n",
        "predictions = rnn.predict(test_data)\n",
        "print(predictions)"
      ]
    },
    {
      "cell_type": "markdown",
      "metadata": {
        "id": "G0MLxS3DsV3z"
      },
      "source": [
        "###CNN Non FFt"
      ]
    },
    {
      "cell_type": "code",
      "execution_count": null,
      "metadata": {
        "colab": {
          "base_uri": "https://localhost:8080/"
        },
        "id": "42YDdl4ksbqh",
        "outputId": "0255d85d-ce79-438f-f793-9cb012751b08"
      },
      "outputs": [
        {
          "name": "stdout",
          "output_type": "stream",
          "text": [
            "Epoch 1/10\n",
            "16/16 [==============================] - 14s 509ms/step - loss: 163.9244 - accuracy: 0.5081 - val_loss: 0.6934 - val_accuracy: 0.4615\n",
            "Epoch 2/10\n",
            "16/16 [==============================] - 6s 407ms/step - loss: 0.6924 - accuracy: 0.5691 - val_loss: 0.6937 - val_accuracy: 0.4615\n",
            "Epoch 3/10\n",
            "16/16 [==============================] - 7s 410ms/step - loss: 0.6921 - accuracy: 0.5691 - val_loss: 0.6939 - val_accuracy: 0.4615\n",
            "Epoch 4/10\n",
            "16/16 [==============================] - 7s 410ms/step - loss: 0.6918 - accuracy: 0.5691 - val_loss: 0.6941 - val_accuracy: 0.4615\n",
            "Epoch 5/10\n",
            "16/16 [==============================] - 7s 415ms/step - loss: 0.6915 - accuracy: 0.5691 - val_loss: 0.6943 - val_accuracy: 0.4615\n",
            "Epoch 6/10\n",
            "16/16 [==============================] - 7s 414ms/step - loss: 0.6912 - accuracy: 0.5691 - val_loss: 0.6946 - val_accuracy: 0.4615\n",
            "Epoch 7/10\n",
            "16/16 [==============================] - 7s 414ms/step - loss: 0.6908 - accuracy: 0.5691 - val_loss: 0.6948 - val_accuracy: 0.4615\n",
            "Epoch 8/10\n",
            "16/16 [==============================] - 7s 413ms/step - loss: 0.6906 - accuracy: 0.5691 - val_loss: 0.6950 - val_accuracy: 0.4615\n",
            "Epoch 9/10\n",
            "16/16 [==============================] - 7s 411ms/step - loss: 0.6903 - accuracy: 0.5691 - val_loss: 0.6952 - val_accuracy: 0.4615\n",
            "Epoch 10/10\n",
            "16/16 [==============================] - 7s 411ms/step - loss: 0.6901 - accuracy: 0.5691 - val_loss: 0.6954 - val_accuracy: 0.4615\n"
          ]
        },
        {
          "data": {
            "text/plain": [
              "<keras.callbacks.History at 0x7f326e453430>"
            ]
          },
          "execution_count": 16,
          "metadata": {},
          "output_type": "execute_result"
        }
      ],
      "source": [
        "cnn.fit(train_data, train_labels, batch_size=16, epochs=10, validation_data=(val_data, val_labels))"
      ]
    },
    {
      "cell_type": "code",
      "execution_count": null,
      "metadata": {
        "colab": {
          "base_uri": "https://localhost:8080/"
        },
        "id": "jbXu2Dwesfwx",
        "outputId": "c2759d4a-7ef8-438a-c67d-4d39a6923f84"
      },
      "outputs": [
        {
          "name": "stdout",
          "output_type": "stream",
          "text": [
            "2/2 [==============================] - 1s 230ms/step - loss: 0.6925 - accuracy: 0.5185\n",
            "Test loss:  0.6925281882286072\n",
            "Test accuracy:  0.5185185074806213\n"
          ]
        }
      ],
      "source": [
        "test_loss, test_accuracy = cnn.evaluate(test_data, test_labels)\n",
        "print(f\"Test loss: \", test_loss)\n",
        "print(f\"Test accuracy: \", test_accuracy)"
      ]
    },
    {
      "cell_type": "code",
      "execution_count": null,
      "metadata": {
        "colab": {
          "base_uri": "https://localhost:8080/"
        },
        "id": "trMbXSKFsjE3",
        "outputId": "004c3d32-76a9-4a0d-db07-0105c5e96fd5"
      },
      "outputs": [
        {
          "name": "stdout",
          "output_type": "stream",
          "text": [
            "1/1 [==============================] - 0s 87ms/step\n",
            "[[0.5672535 ]\n",
            " [0.5664299 ]\n",
            " [0.5770618 ]\n",
            " [0.56795883]\n",
            " [0.5806872 ]\n",
            " [0.5802547 ]\n",
            " [0.55819255]\n",
            " [0.57009065]\n",
            " [0.5702784 ]\n",
            " [0.5656687 ]]\n"
          ]
        }
      ],
      "source": [
        "test_data = np.random.rand(10, 6000, 1) # generate some random test data\n",
        "# print(test_data)\n",
        "predictions = cnn.predict(test_data)\n",
        "print(predictions)"
      ]
    },
    {
      "cell_type": "markdown",
      "metadata": {
        "id": "fzoXkZXbt_BZ"
      },
      "source": [
        "###CNN FFt"
      ]
    },
    {
      "cell_type": "code",
      "execution_count": null,
      "metadata": {
        "colab": {
          "base_uri": "https://localhost:8080/"
        },
        "outputId": "5aed38b7-f5aa-4587-d10f-5fe23bd5e154",
        "id": "tW-_xVlRt_Bk"
      },
      "outputs": [
        {
          "output_type": "stream",
          "name": "stdout",
          "text": [
            "Epoch 1/10\n",
            "16/16 [==============================] - 141s 9s/step - loss: 44.6973 - accuracy: 0.5407 - val_loss: 0.6932 - val_accuracy: 0.5000\n",
            "Epoch 2/10\n",
            "16/16 [==============================] - 139s 9s/step - loss: 0.6814 - accuracy: 0.5732 - val_loss: 0.6932 - val_accuracy: 0.5000\n",
            "Epoch 3/10\n",
            "16/16 [==============================] - 140s 9s/step - loss: 0.6877 - accuracy: 0.5732 - val_loss: 0.6932 - val_accuracy: 0.5000\n",
            "Epoch 4/10\n",
            "16/16 [==============================] - 137s 9s/step - loss: 0.6864 - accuracy: 0.5732 - val_loss: 0.6932 - val_accuracy: 0.5000\n",
            "Epoch 5/10\n",
            "16/16 [==============================] - 155s 10s/step - loss: 0.6837 - accuracy: 0.5732 - val_loss: 0.6932 - val_accuracy: 0.5000\n",
            "Epoch 6/10\n",
            "16/16 [==============================] - 141s 9s/step - loss: 0.6828 - accuracy: 0.5732 - val_loss: 0.6933 - val_accuracy: 0.5000\n",
            "Epoch 7/10\n",
            "16/16 [==============================] - 139s 9s/step - loss: 0.6824 - accuracy: 0.5732 - val_loss: 0.6933 - val_accuracy: 0.5000\n",
            "Epoch 8/10\n",
            "16/16 [==============================] - 138s 9s/step - loss: 0.6821 - accuracy: 0.5732 - val_loss: 0.6934 - val_accuracy: 0.5000\n",
            "Epoch 9/10\n",
            "16/16 [==============================] - 153s 10s/step - loss: 0.6819 - accuracy: 0.5732 - val_loss: 0.6935 - val_accuracy: 0.5000\n",
            "Epoch 10/10\n",
            "16/16 [==============================] - 139s 9s/step - loss: 0.6814 - accuracy: 0.5732 - val_loss: 0.6936 - val_accuracy: 0.5000\n"
          ]
        },
        {
          "output_type": "execute_result",
          "data": {
            "text/plain": [
              "<keras.callbacks.History at 0x7f5a1b7be440>"
            ]
          },
          "metadata": {},
          "execution_count": 44
        }
      ],
      "source": [
        "cnn.fit(train_data, train_labels, batch_size=16, epochs=10, validation_data=(val_data, val_labels))"
      ]
    },
    {
      "cell_type": "code",
      "execution_count": null,
      "metadata": {
        "colab": {
          "base_uri": "https://localhost:8080/"
        },
        "outputId": "157f561a-718f-40cb-87d2-72837e6bf0dc",
        "id": "YugqPpjYt_Bk"
      },
      "outputs": [
        {
          "output_type": "stream",
          "name": "stdout",
          "text": [
            "2/2 [==============================] - 11s 4s/step - loss: 0.6987 - accuracy: 0.3889\n",
            "Test loss:  0.698698878288269\n",
            "Test accuracy:  0.3888888955116272\n"
          ]
        }
      ],
      "source": [
        "test_loss, test_accuracy = cnn.evaluate(test_data, test_labels)\n",
        "print(f\"Test loss: \", test_loss)\n",
        "print(f\"Test accuracy: \", test_accuracy)"
      ]
    },
    {
      "cell_type": "markdown",
      "metadata": {
        "id": "CcLj1IJRptsD"
      },
      "source": [
        "##CLEAN"
      ]
    },
    {
      "cell_type": "markdown",
      "metadata": {
        "id": "7NGP4PuMqYW6"
      },
      "source": [
        "### one time use"
      ]
    },
    {
      "cell_type": "code",
      "execution_count": null,
      "metadata": {
        "id": "ImOW7H2OpwIR"
      },
      "outputs": [],
      "source": [
        "del sample_dir \n",
        "del labels"
      ]
    },
    {
      "cell_type": "code",
      "execution_count": null,
      "metadata": {
        "id": "vJqHfxYrqvtB"
      },
      "outputs": [],
      "source": [
        "del max_len \n",
        "del window_size \n",
        "del stride \n",
        "\n",
        "del label_dir\n",
        "del filename\n",
        "del filepath \n",
        "\n",
        "del file\n",
        "\n",
        "del data\n",
        "del i\n",
        "del line\n",
        "del values\n",
        "# del padding\n",
        "del stride_size\n",
        "del segment\n",
        "del label\n",
        "del bi_label"
      ]
    },
    {
      "cell_type": "code",
      "execution_count": null,
      "metadata": {
        "id": "mAn7mfj1sIzL"
      },
      "outputs": [],
      "source": [
        "del indices"
      ]
    },
    {
      "cell_type": "code",
      "execution_count": null,
      "metadata": {
        "id": "MSWdRfEzsV6Y"
      },
      "outputs": [],
      "source": [
        "del num_samples\n",
        "del num_train\n",
        "del num_val\n",
        "del num_test"
      ]
    },
    {
      "cell_type": "code",
      "execution_count": null,
      "metadata": {
        "id": "5um2CIWNsnS2"
      },
      "outputs": [],
      "source": [
        "del unique_labels\n",
        "del label_counts"
      ]
    },
    {
      "cell_type": "code",
      "execution_count": null,
      "metadata": {
        "id": "mJ62nMBOfbuy"
      },
      "outputs": [],
      "source": [
        "del test_loss\n",
        "del test_accuracy"
      ]
    },
    {
      "cell_type": "markdown",
      "metadata": {
        "id": "hRJolzybqkgb"
      },
      "source": [
        "### can be use"
      ]
    },
    {
      "cell_type": "code",
      "execution_count": null,
      "metadata": {
        "id": "pw89Wy2qqRhE"
      },
      "outputs": [],
      "source": [
        "del eeg_sample \n",
        "del eeg_labell "
      ]
    },
    {
      "cell_type": "code",
      "execution_count": null,
      "metadata": {
        "id": "1K0LitnBr9Vk"
      },
      "outputs": [],
      "source": [
        "del eeg_data\n",
        "del eeg_labels"
      ]
    },
    {
      "cell_type": "code",
      "execution_count": null,
      "metadata": {
        "id": "vTZYUJ0csyh0"
      },
      "outputs": [],
      "source": [
        "del rnn"
      ]
    },
    {
      "cell_type": "code",
      "execution_count": null,
      "metadata": {
        "id": "bRGxuw4zsf0-"
      },
      "outputs": [],
      "source": [
        "del cnn"
      ]
    }
  ],
  "metadata": {
    "colab": {
      "collapsed_sections": [
        "mDueJYWj1vFH",
        "Io1opl5osgkv",
        "VkEnP4vFske2",
        "072sEBXwgK1M",
        "hqR48eN_O1Gn",
        "AJ-o7Io9sveP",
        "rv1ZODcbtUe_",
        "Fk1rE0l_CaUP",
        "BUHDo7JZ1XWv",
        "Oa-JF2T71dzn",
        "uN9av2IUQ-2B",
        "tKx8mB8A1OjX",
        "qhOWIs7HYya5"
      ],
      "machine_shape": "hm",
      "provenance": [],
      "include_colab_link": true
    },
    "gpuClass": "standard",
    "kernelspec": {
      "display_name": "Python 3",
      "name": "python3"
    },
    "language_info": {
      "name": "python"
    }
  },
  "nbformat": 4,
  "nbformat_minor": 0
}