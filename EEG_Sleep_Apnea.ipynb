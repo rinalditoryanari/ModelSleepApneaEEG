{
  "cells": [
    {
      "cell_type": "markdown",
      "metadata": {
        "id": "view-in-github",
        "colab_type": "text"
      },
      "source": [
        "<a href=\"https://colab.research.google.com/github/rinalditoryanari/ModelSleepApneaEEG/blob/main/EEG_Sleep_Apnea.ipynb\" target=\"_parent\"><img src=\"https://colab.research.google.com/assets/colab-badge.svg\" alt=\"Open In Colab\"/></a>"
      ]
    },
    {
      "cell_type": "markdown",
      "metadata": {
        "id": "8xI1-xASI74K"
      },
      "source": [
        "##Library"
      ]
    },
    {
      "cell_type": "code",
      "execution_count": null,
      "metadata": {
        "id": "Si1_tBs7I5lD"
      },
      "outputs": [],
      "source": [
        "from google.colab import drive\n",
        "import tensorflow as tf\n",
        "import os\n",
        "import numpy as np\n",
        "import random\n",
        "from tensorflow.keras.preprocessing.sequence import pad_sequences"
      ]
    },
    {
      "cell_type": "code",
      "source": [
        "print(tf. __version__) "
      ],
      "metadata": {
        "colab": {
          "base_uri": "https://localhost:8080/"
        },
        "id": "a1s-odKDOhlP",
        "outputId": "b1fe7d36-b485-4ea4-f576-20a1196f209e"
      },
      "execution_count": null,
      "outputs": [
        {
          "output_type": "stream",
          "name": "stdout",
          "text": [
            "2.12.0\n"
          ]
        }
      ]
    },
    {
      "cell_type": "code",
      "execution_count": null,
      "metadata": {
        "colab": {
          "base_uri": "https://localhost:8080/"
        },
        "id": "i6QW4P3lAqqR",
        "outputId": "91bc0b8d-d8a4-4027-d51b-374107572261"
      },
      "outputs": [
        {
          "output_type": "stream",
          "name": "stdout",
          "text": [
            "Mounted at /content/drive\n"
          ]
        }
      ],
      "source": [
        "drive.mount('/content/drive')"
      ]
    },
    {
      "cell_type": "markdown",
      "metadata": {
        "id": "la716LOVEYz1"
      },
      "source": [
        "# TRY 1\n",
        "Jadi ini tuh rencananya, data txt itu bakal dipecah 1 row di txt untuk 1 file text\n",
        "Udah termasuk ngapus header nya"
      ]
    },
    {
      "cell_type": "markdown",
      "metadata": {
        "id": "IUeL8a-O0k9X"
      },
      "source": [
        "### eeg cap File"
      ]
    },
    {
      "cell_type": "code",
      "execution_count": null,
      "metadata": {
        "id": "khCeOeh00pde"
      },
      "outputs": [],
      "source": [
        "sample_dir = \"/content/drive/MyDrive/dataset/eegcap\"\n",
        "labels = [\"normal\", \"sdb\"]"
      ]
    },
    {
      "cell_type": "markdown",
      "metadata": {
        "id": "-_lIGInQmjy2"
      },
      "source": [
        "##READ INDIVIDUAL"
      ]
    },
    {
      "cell_type": "markdown",
      "metadata": {
        "id": "eFHnLyQ7raCU"
      },
      "source": [
        "### CAP txt"
      ]
    },
    {
      "cell_type": "markdown",
      "metadata": {
        "id": "nbNhsawQ1PEn"
      },
      "source": [
        "#### window version"
      ]
    },
    {
      "cell_type": "markdown",
      "metadata": {
        "id": "K9ZSDaTyTrzA"
      },
      "source": [
        "##### FFT"
      ]
    },
    {
      "cell_type": "code",
      "execution_count": null,
      "metadata": {
        "colab": {
          "base_uri": "https://localhost:8080/"
        },
        "id": "4faYjRq9TuZq",
        "outputId": "eac65d84-b071-4883-80f5-8a59c1c34333"
      },
      "outputs": [
        {
          "output_type": "stream",
          "name": "stdout",
          "text": [
            "n1 c3p3.txt\n",
            "sdb3 P4-O2 (2)\n",
            "sdb3 P4-O2 (1)\n"
          ]
        }
      ],
      "source": [
        "from scipy.fft import fft\n",
        "\n",
        "eeg_sample = []\n",
        "eeg_labell = []\n",
        "max_len = 0  # variable to store maximum length of signals\n",
        "window_size = 879936\n",
        "stride = 0.1 # 10% overlap\n",
        "\n",
        "for label in labels:\n",
        "    label_dir = os.path.join(sample_dir, label)\n",
        "    for filename in os.listdir(label_dir):\n",
        "        filepath = os.path.join(label_dir, filename)\n",
        "        with open(filepath, 'r') as file:\n",
        "            print(filename)\n",
        "            # skip the first line as it contains column headers\n",
        "            file.readline()\n",
        "\n",
        "            # read the remaining lines and extract signal values\n",
        "            data = []\n",
        "            for i, line in enumerate(file):\n",
        "                values = line.strip().split(\";\")[4] # extract signal value from the 5th column\n",
        "                data.append(float(values))\n",
        "\n",
        "            # Pad data if shorter than window size\n",
        "            if len(data) < window_size:\n",
        "                padding = np.zeros(window_size - len(data))\n",
        "                data = np.concatenate([data, padding])\n",
        "\n",
        "            # Split data into segments\n",
        "            stride_size = int(window_size * stride)\n",
        "            for i in range(0, len(data) - window_size + 1, stride_size):\n",
        "                segment = data[i:i+window_size]\n",
        "\n",
        "                # Apply FFT to the segment\n",
        "                fft_segment = fft(segment)\n",
        "\n",
        "                eeg_sample.append(segment)\n",
        "\n",
        "                # if this is a new maximum length\n",
        "                if len(segment) > max_len:\n",
        "                    max_len = len(segment)\n",
        "\n",
        "                if (label == 'normal'):\n",
        "                    bi_label = 0\n",
        "                elif (label == 'sdb'):\n",
        "                    bi_label = 1\n",
        "\n",
        "                eeg_labell.append(bi_label)"
      ]
    },
    {
      "cell_type": "markdown",
      "metadata": {
        "id": "knM4_2yq1asH"
      },
      "source": [
        "####check"
      ]
    },
    {
      "cell_type": "code",
      "execution_count": null,
      "metadata": {
        "colab": {
          "base_uri": "https://localhost:8080/"
        },
        "id": "6zvBFXbUhQ6v",
        "outputId": "d1afb378-73ef-43f2-b5d1-f3bebe9e3acd"
      },
      "outputs": [
        {
          "output_type": "stream",
          "name": "stdout",
          "text": [
            "EEG data shape: (352, 879936)\n",
            "EEG label shape: (352,)\n"
          ]
        }
      ],
      "source": [
        "eeg_sample = np.array(eeg_sample)\n",
        "eeg_labell = np.array(eeg_labell)\n",
        "print(\"EEG data shape:\", eeg_sample.shape)\n",
        "print(\"EEG label shape:\", eeg_labell.shape)"
      ]
    },
    {
      "cell_type": "code",
      "execution_count": null,
      "metadata": {
        "colab": {
          "base_uri": "https://localhost:8080/"
        },
        "id": "U8yaVY7I3i_4",
        "outputId": "299f60f2-bf20-436e-b1b1-0ff863055ab5"
      },
      "outputs": [
        {
          "output_type": "stream",
          "name": "stdout",
          "text": [
            "Label counts: {0: 192, 1: 160}\n"
          ]
        }
      ],
      "source": [
        "unique_labels, label_counts = np.unique(eeg_labell, return_counts=True)\n",
        "print(\"Label counts:\", dict(zip(unique_labels, label_counts)))"
      ]
    },
    {
      "cell_type": "code",
      "execution_count": null,
      "metadata": {
        "id": "oLNIhQDrvDfg"
      },
      "outputs": [],
      "source": [
        "eeg_data = eeg_sample\n",
        "eeg_labels = eeg_labell"
      ]
    },
    {
      "cell_type": "markdown",
      "metadata": {
        "id": "_LIsjIVh1RVe"
      },
      "source": [
        "### CNN"
      ]
    },
    {
      "cell_type": "code",
      "execution_count": null,
      "metadata": {
        "colab": {
          "base_uri": "https://localhost:8080/"
        },
        "id": "ItKPoZlotM7v",
        "outputId": "17d1a71b-afeb-44bf-e690-cb9586deee45"
      },
      "outputs": [
        {
          "output_type": "stream",
          "name": "stdout",
          "text": [
            "EEG data dimensions: 2\n",
            "EEG data shape: (352, 879936, 1)\n",
            "EEG label shape: (352, 1, 1)\n"
          ]
        }
      ],
      "source": [
        "eeg_data = np.array(eeg_data)\n",
        "\n",
        "# check number of dimensions of eeg_data\n",
        "print(\"EEG data dimensions:\", eeg_data.ndim)\n",
        "\n",
        "# swap second and third dimensions using swapaxes\n",
        "# eeg_data = np.swapaxes(eeg_data, 1, 2)\n",
        "\n",
        "# alternatively, you can reshape the array to match the desired axes\n",
        "eeg_data = eeg_data.reshape(eeg_data.shape[0], eeg_data.shape[1], 1)\n",
        "eeg_labels = eeg_labels.reshape(eeg_labels.shape[0], 1, 1)\n",
        "\n",
        "# eeg_data = eeg_data.reshape(eeg_data.shape[0], eeg_data.shape[2], eeg_data.shape[1])\n",
        "\n",
        "print(\"EEG data shape:\", eeg_data.shape)\n",
        "print(\"EEG label shape:\", eeg_labels.shape)"
      ]
    },
    {
      "cell_type": "markdown",
      "metadata": {
        "id": "CbiITcHLRTtv"
      },
      "source": [
        "##SPLIT"
      ]
    },
    {
      "cell_type": "markdown",
      "metadata": {
        "id": "Y2WKiMe1Y_7K"
      },
      "source": [
        "###worked"
      ]
    },
    {
      "cell_type": "code",
      "execution_count": null,
      "metadata": {
        "id": "BQrMF7ljrL14"
      },
      "outputs": [],
      "source": [
        "# Generate an array of indices for the samples\n",
        "indices = np.arange(len(eeg_data))\n",
        "\n",
        "# Shuffle the indices randomly\n",
        "np.random.shuffle(indices)\n",
        "\n",
        "# Use the shuffled indices to shuffle the data and labels arrays\n",
        "eeg_data = eeg_data[indices]\n",
        "eeg_labels = eeg_labels[indices]"
      ]
    },
    {
      "cell_type": "code",
      "execution_count": null,
      "metadata": {
        "colab": {
          "base_uri": "https://localhost:8080/"
        },
        "id": "bUxLH62GeEI6",
        "outputId": "4104d219-6cbd-456b-fc7c-f4a2f36dea29"
      },
      "outputs": [
        {
          "output_type": "stream",
          "name": "stdout",
          "text": [
            "Number of training samples: 246\n",
            "Number of validation samples: 52\n",
            "Number of testing samples: 54\n"
          ]
        }
      ],
      "source": [
        "from collections import Counter\n",
        "\n",
        "\n",
        "# Split the data into training, validation, and testing sets\n",
        "num_samples = len(eeg_data)\n",
        "num_train = int(num_samples * 0.7)\n",
        "num_val = int(num_samples * 0.15)\n",
        "num_test = num_samples - num_train - num_val\n",
        "\n",
        "train_data = eeg_data[:num_train]\n",
        "train_labels = eeg_labels[:num_train]\n",
        "\n",
        "val_data = eeg_data[num_train:num_train+num_val]\n",
        "val_labels = eeg_labels[num_train:num_train+num_val]\n",
        "\n",
        "test_data = eeg_data[num_train+num_val:]\n",
        "test_labels = eeg_labels[num_train+num_val:]\n",
        "\n",
        "print(\"Number of training samples:\", len(train_data))\n",
        "print(\"Number of validation samples:\", len(val_data))\n",
        "print(\"Number of testing samples:\", len(test_data))"
      ]
    },
    {
      "cell_type": "code",
      "execution_count": null,
      "metadata": {
        "colab": {
          "base_uri": "https://localhost:8080/"
        },
        "id": "rraojKvLkdP1",
        "outputId": "11f44768-34ed-42ca-9579-6e8ee8076834"
      },
      "outputs": [
        {
          "output_type": "stream",
          "name": "stdout",
          "text": [
            "training samples: {0: 141, 1: 105}\n",
            "validation samples: {0: 26, 1: 26}\n",
            "testing samples: {0: 25, 1: 29}\n"
          ]
        }
      ],
      "source": [
        "unique_labels, label_counts = np.unique(train_labels, return_counts=True)\n",
        "print(\"training samples:\", (dict(zip(unique_labels, label_counts))))\n",
        "\n",
        "unique_labels, label_counts = np.unique(val_labels, return_counts=True)\n",
        "print(\"validation samples:\",(dict(zip(unique_labels, label_counts))))\n",
        "\n",
        "unique_labels, label_counts = np.unique(test_labels, return_counts=True)\n",
        "print(\"testing samples:\", (dict(zip(unique_labels, label_counts))))"
      ]
    },
    {
      "cell_type": "markdown",
      "metadata": {
        "id": "U_uCAUkuY9JD"
      },
      "source": [
        "# Modelling"
      ]
    },
    {
      "cell_type": "markdown",
      "metadata": {
        "id": "VK16bjyiogLm"
      },
      "source": [
        "## CNN"
      ]
    },
    {
      "cell_type": "code",
      "execution_count": null,
      "metadata": {
        "colab": {
          "base_uri": "https://localhost:8080/"
        },
        "id": "Y1domeUVorbq",
        "outputId": "7b89f5d6-e88b-4f00-d2a3-afce75ad5b81"
      },
      "outputs": [
        {
          "output_type": "stream",
          "name": "stdout",
          "text": [
            "Model: \"sequential_1\"\n",
            "_________________________________________________________________\n",
            " Layer (type)                Output Shape              Param #   \n",
            "=================================================================\n",
            " conv1d_2 (Conv1D)           (None, 879934, 32)        128       \n",
            "                                                                 \n",
            " max_pooling1d_2 (MaxPooling  (None, 439967, 32)       0         \n",
            " 1D)                                                             \n",
            "                                                                 \n",
            " conv1d_3 (Conv1D)           (None, 439965, 16)        1552      \n",
            "                                                                 \n",
            " max_pooling1d_3 (MaxPooling  (None, 219982, 16)       0         \n",
            " 1D)                                                             \n",
            "                                                                 \n",
            " flatten_1 (Flatten)         (None, 3519712)           0         \n",
            "                                                                 \n",
            " dense_2 (Dense)             (None, 16)                56315408  \n",
            "                                                                 \n",
            " dense_3 (Dense)             (None, 1)                 17        \n",
            "                                                                 \n",
            "=================================================================\n",
            "Total params: 56,317,105\n",
            "Trainable params: 56,317,105\n",
            "Non-trainable params: 0\n",
            "_________________________________________________________________\n"
          ]
        }
      ],
      "source": [
        "from tensorflow.keras.models import Sequential\n",
        "from tensorflow.keras.layers import Conv1D, MaxPooling1D, Flatten, Dense\n",
        "\n",
        "cnn = Sequential()\n",
        "cnn.add(Conv1D(filters=32, kernel_size=3, activation='relu', input_shape=(879936, 1)))\n",
        "cnn.add(MaxPooling1D(pool_size=2))\n",
        "cnn.add(Conv1D(filters=16, kernel_size=3, activation='relu'))\n",
        "cnn.add(MaxPooling1D(pool_size=2))\n",
        "cnn.add(Flatten())\n",
        "cnn.add(Dense(16, activation='relu'))\n",
        "cnn.add(Dense(1, activation='sigmoid'))\n",
        "\n",
        "cnn.compile(loss='binary_crossentropy', optimizer='adam', metrics=['accuracy'])\n",
        "\n",
        "cnn.summary()"
      ]
    },
    {
      "cell_type": "markdown",
      "metadata": {
        "id": "qqkPN3PCn8nC"
      },
      "source": [
        "# Execute Model"
      ]
    },
    {
      "cell_type": "markdown",
      "metadata": {
        "id": "fzoXkZXbt_BZ"
      },
      "source": [
        "###CNN FFt"
      ]
    },
    {
      "cell_type": "code",
      "execution_count": null,
      "metadata": {
        "colab": {
          "base_uri": "https://localhost:8080/"
        },
        "outputId": "5aed38b7-f5aa-4587-d10f-5fe23bd5e154",
        "id": "tW-_xVlRt_Bk"
      },
      "outputs": [
        {
          "output_type": "stream",
          "name": "stdout",
          "text": [
            "Epoch 1/10\n",
            "16/16 [==============================] - 141s 9s/step - loss: 44.6973 - accuracy: 0.5407 - val_loss: 0.6932 - val_accuracy: 0.5000\n",
            "Epoch 2/10\n",
            "16/16 [==============================] - 139s 9s/step - loss: 0.6814 - accuracy: 0.5732 - val_loss: 0.6932 - val_accuracy: 0.5000\n",
            "Epoch 3/10\n",
            "16/16 [==============================] - 140s 9s/step - loss: 0.6877 - accuracy: 0.5732 - val_loss: 0.6932 - val_accuracy: 0.5000\n",
            "Epoch 4/10\n",
            "16/16 [==============================] - 137s 9s/step - loss: 0.6864 - accuracy: 0.5732 - val_loss: 0.6932 - val_accuracy: 0.5000\n",
            "Epoch 5/10\n",
            "16/16 [==============================] - 155s 10s/step - loss: 0.6837 - accuracy: 0.5732 - val_loss: 0.6932 - val_accuracy: 0.5000\n",
            "Epoch 6/10\n",
            "16/16 [==============================] - 141s 9s/step - loss: 0.6828 - accuracy: 0.5732 - val_loss: 0.6933 - val_accuracy: 0.5000\n",
            "Epoch 7/10\n",
            "16/16 [==============================] - 139s 9s/step - loss: 0.6824 - accuracy: 0.5732 - val_loss: 0.6933 - val_accuracy: 0.5000\n",
            "Epoch 8/10\n",
            "16/16 [==============================] - 138s 9s/step - loss: 0.6821 - accuracy: 0.5732 - val_loss: 0.6934 - val_accuracy: 0.5000\n",
            "Epoch 9/10\n",
            "16/16 [==============================] - 153s 10s/step - loss: 0.6819 - accuracy: 0.5732 - val_loss: 0.6935 - val_accuracy: 0.5000\n",
            "Epoch 10/10\n",
            "16/16 [==============================] - 139s 9s/step - loss: 0.6814 - accuracy: 0.5732 - val_loss: 0.6936 - val_accuracy: 0.5000\n"
          ]
        },
        {
          "output_type": "execute_result",
          "data": {
            "text/plain": [
              "<keras.callbacks.History at 0x7f5a1b7be440>"
            ]
          },
          "metadata": {},
          "execution_count": 44
        }
      ],
      "source": [
        "cnn.fit(train_data, train_labels, batch_size=16, epochs=10, validation_data=(val_data, val_labels))"
      ]
    },
    {
      "cell_type": "code",
      "execution_count": null,
      "metadata": {
        "colab": {
          "base_uri": "https://localhost:8080/"
        },
        "outputId": "157f561a-718f-40cb-87d2-72837e6bf0dc",
        "id": "YugqPpjYt_Bk"
      },
      "outputs": [
        {
          "output_type": "stream",
          "name": "stdout",
          "text": [
            "2/2 [==============================] - 11s 4s/step - loss: 0.6987 - accuracy: 0.3889\n",
            "Test loss:  0.698698878288269\n",
            "Test accuracy:  0.3888888955116272\n"
          ]
        }
      ],
      "source": [
        "test_loss, test_accuracy = cnn.evaluate(test_data, test_labels)\n",
        "print(f\"Test loss: \", test_loss)\n",
        "print(f\"Test accuracy: \", test_accuracy)"
      ]
    }
  ],
  "metadata": {
    "colab": {
      "collapsed_sections": [
        "mDueJYWj1vFH",
        "Io1opl5osgkv",
        "VkEnP4vFske2",
        "072sEBXwgK1M",
        "hqR48eN_O1Gn",
        "AJ-o7Io9sveP",
        "rv1ZODcbtUe_",
        "Fk1rE0l_CaUP",
        "BUHDo7JZ1XWv",
        "Oa-JF2T71dzn",
        "uN9av2IUQ-2B",
        "tKx8mB8A1OjX",
        "qhOWIs7HYya5"
      ],
      "machine_shape": "hm",
      "provenance": [],
      "include_colab_link": true
    },
    "gpuClass": "standard",
    "kernelspec": {
      "display_name": "Python 3",
      "name": "python3"
    },
    "language_info": {
      "name": "python"
    }
  },
  "nbformat": 4,
  "nbformat_minor": 0
}